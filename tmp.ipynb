{
 "cells": [
  {
   "cell_type": "code",
   "execution_count": null,
   "metadata": {},
   "outputs": [],
   "source": [
    "import transformers\n",
    "import os\n",
    "os.environ[\"http_proxy\"] = \"http://127.0.0.1:7890\"\n",
    "os.environ[\"https_proxy\"] = \"http://127.0.0.1:7890\"\n",
    "\n",
    "from transformers import CLIPVisionModel, BertModel, RobertaModel, AutoModel, ViTMAEModel\n",
    "pretrained_model = CLIPVisionModel.from_pretrained(\"RavenK/TAC-ViT-base\")\n",
    "tuned_model = CLIPVisionModel.from_pretrained(\"RavenK/TAC-ViT-base\")"
   ]
  }
 ],
 "metadata": {
  "kernelspec": {
   "display_name": "base",
   "language": "python",
   "name": "python3"
  },
  "language_info": {
   "name": "python",
   "version": "3.8.17"
  }
 },
 "nbformat": 4,
 "nbformat_minor": 2
}
