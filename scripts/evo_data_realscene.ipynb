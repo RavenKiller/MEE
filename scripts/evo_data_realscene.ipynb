{
 "cells": [
  {
   "cell_type": "code",
   "execution_count": 20,
   "metadata": {},
   "outputs": [],
   "source": [
    "import numpy as np\n",
    "import h5py\n",
    "import lmdb\n",
    "import matplotlib.pyplot as plt\n",
    "from tqdm.notebook import tqdm,trange\n",
    "from PIL import Image\n",
    "from bs4 import BeautifulSoup\n",
    "import requests\n",
    "import re\n",
    "import os\n",
    "import glob\n",
    "import pathlib\n",
    "import time\n",
    "import datetime\n",
    "import json\n",
    "import pprint\n",
    "from ip_basic import depth_map_utils\n",
    "# for nyu, tum, diode\n",
    "def center_crop(im, new_width=None, new_height=None):\n",
    "    width, height = im.size   # Get dimensions\n",
    "    left = (width - new_width)/2\n",
    "    top = (height - new_height)/2\n",
    "    right = (width + new_width)/2\n",
    "    bottom = (height + new_height)/2\n",
    "    return im.crop((left, top, right, bottom))\n",
    "def show_example(path='/hy-tmp/stage1/rgb_depth_large.mat', idx=0):\n",
    "    with  h5py.File(path,'r') as t:\n",
    "        rgb = t['rgb']\n",
    "        depth = t['depth']\n",
    "        print(rgb.shape)\n",
    "        rgbi = rgb[idx]\n",
    "        depthi = depth[idx]\n",
    "    fig=plt.figure()\n",
    "    ax1 = fig.add_subplot(111,projection='3d')\n",
    "    xx = np.arange(0,256)\n",
    "    yy = np.arange(0,256)\n",
    "    X, Y = np.meshgrid(xx, yy)\n",
    "    ax1.plot_surface(X,Y,depthi.squeeze(),cmap='rainbow')\n",
    "    plt.show()\n",
    "    plt.close()\n",
    "\n",
    "    fig=plt.figure()\n",
    "    ax1 = fig.add_subplot(121)\n",
    "    ax2 = fig.add_subplot(122)\n",
    "    ax1.imshow(rgbi)\n",
    "    ax2.imshow(depthi)\n",
    "    plt.show()\n",
    "    plt.close()\n",
    "# for tum\n",
    "def depth_completion(depthi, loop=2):\n",
    "    '''ip_basic depth completion\n",
    "    '''\n",
    "    fill_type = 'fast'\n",
    "    extrapolate = True\n",
    "    blur_type = 'bilateral'\n",
    "    for _ in range(loop):\n",
    "        if fill_type == 'fast':\n",
    "            depthi = depth_map_utils.fill_in_fast(\n",
    "                depthi, extrapolate=extrapolate, blur_type=blur_type)\n",
    "        elif fill_type == 'multiscale':\n",
    "            depthi, process_dict = depth_map_utils.fill_in_multiscale(\n",
    "                depthi, extrapolate=extrapolate, blur_type=blur_type,\n",
    "                show_process=False)\n",
    "    return depthi\n",
    "def get_timestamp(v):\n",
    "    f = v.split(\"/\")[-1]\n",
    "    stamp = f.replace(\".png\",\"\")\n",
    "    return float(stamp)\n",
    "def align_rgb_depth(rgbs, depths, bi=True):\n",
    "    '''Align two sequeces by timestamps in the filenames\n",
    "    Use rgb as base\n",
    "    '''\n",
    "    if len(rgbs)==len(depths):\n",
    "        return rgbs, depths\n",
    "    res_rgbs = rgbs\n",
    "    res_depths = []\n",
    "    for i, v in enumerate(res_rgbs):\n",
    "        target_stamp = get_timestamp(v)\n",
    "        current_d = depths[0]\n",
    "        if bi:\n",
    "            # bi-search\n",
    "            left = 0\n",
    "            right = len(depths)-1\n",
    "            while left<=right:\n",
    "                mid = (left+right)//2\n",
    "                now_stamp = get_timestamp(depths[mid])\n",
    "                if now_stamp==target_stamp:\n",
    "                    left=mid\n",
    "                    right=mid-1\n",
    "                elif now_stamp>target_stamp:\n",
    "                    right = mid-1\n",
    "                else:\n",
    "                    left = mid+1\n",
    "            if left==0:\n",
    "                current_d = depths[left]\n",
    "            elif right==len(depths)-1:\n",
    "                current_d = depths[right]\n",
    "            else:\n",
    "                current_d = depths[left] if abs(get_timestamp(depths[left])-target_stamp)<abs(get_timestamp(depths[left-1])-target_stamp) else depths[left-1]\n",
    "        else:\n",
    "            current_min = 100000000\n",
    "            for j, p in enumerate(depths):\n",
    "                current_stamp = get_timestamp(p)\n",
    "                if abs(target_stamp-current_stamp)<current_min:\n",
    "                    current_min =  abs(target_stamp-current_stamp)\n",
    "                    current_d = p\n",
    "        res_depths.append(current_d)\n",
    "    assert len(res_rgbs)==len(res_depths)\n",
    "    return res_rgbs, res_depths"
   ]
  },
  {
   "cell_type": "markdown",
   "metadata": {},
   "source": [
    "## Split episode and panorama"
   ]
  },
  {
   "cell_type": "code",
   "execution_count": 24,
   "metadata": {},
   "outputs": [],
   "source": [
    "# Adapted from https://github.com/fuenwang/Equirec2Perspec\n",
    "\n",
    "import os\n",
    "import sys\n",
    "import cv2\n",
    "import numpy as np\n",
    "import math\n",
    "\n",
    "class Equirectangular:\n",
    "    def __init__(self, img):\n",
    "        self._img = img\n",
    "        [self._height, self._width, _] = self._img.shape\n",
    "        #cp = self._img.copy()  \n",
    "        #w = self._width\n",
    "        #self._img[:, :w/8, :] = cp[:, 7*w/8:, :]\n",
    "        #self._img[:, w/8:, :] = cp[:, :7*w/8, :]\n",
    "    \n",
    "\n",
    "    def GetPerspective(self, FOV, THETA, PHI, height, width, RADIUS = 128):\n",
    "        #\n",
    "        # THETA is left/right angle, PHI is up/down angle, both in degree\n",
    "        #\n",
    "\n",
    "        equ_h = self._height\n",
    "        equ_w = self._width\n",
    "        equ_cx = (equ_w - 1) / 2.0\n",
    "        equ_cy = (equ_h - 1) / 2.0     \n",
    "        \n",
    "        hFOV = math.radians(FOV)\n",
    "        wFOV = 2*math.atan(float(width)/height * np.tan(hFOV / 2.0))\n",
    "\n",
    "        c_x = (width - 1) / 2.0\n",
    "        c_y = (height - 1) / 2.0\n",
    "\n",
    "        wangle = (math.pi - wFOV) / 2.0\n",
    "        w_len = 2 * RADIUS * np.sin(wFOV / 2.0) / np.sin(wangle)\n",
    "        w_interval = w_len / (width - 1)\n",
    "\n",
    "        hangle = (math.pi - hFOV) / 2.0\n",
    "        h_len = 2 * RADIUS * np.sin(hFOV / 2.0) / np.sin(hangle)\n",
    "        h_interval = h_len / (height - 1)\n",
    "        x_map = np.zeros([height, width], np.float32) + RADIUS\n",
    "        y_map = np.tile((np.arange(0, width) - c_x) * w_interval, [height, 1])\n",
    "        z_map = -np.tile((np.arange(0, height) - c_y) * h_interval, [width, 1]).T\n",
    "        D = np.sqrt(x_map**2 + y_map**2 + z_map**2)\n",
    "        xyz = np.zeros([height, width, 3], float)\n",
    "        xyz[:, :, 0] = (RADIUS / D * x_map)[:, :]\n",
    "        xyz[:, :, 1] = (RADIUS / D * y_map)[:, :]\n",
    "        xyz[:, :, 2] = (RADIUS / D * z_map)[:, :]\n",
    "        \n",
    "        y_axis = np.array([0.0, 1.0, 0.0], np.float32)\n",
    "        z_axis = np.array([0.0, 0.0, 1.0], np.float32)\n",
    "        [R1, _] = cv2.Rodrigues(z_axis * np.radians(THETA))\n",
    "        [R2, _] = cv2.Rodrigues(np.dot(R1, y_axis) * np.radians(-PHI))\n",
    "\n",
    "        xyz = xyz.reshape([height * width, 3]).T\n",
    "        xyz = np.dot(R1, xyz)\n",
    "        xyz = np.dot(R2, xyz).T\n",
    "        lat = np.arcsin(xyz[:, 2] / RADIUS)\n",
    "        lon = np.zeros([height * width], float)\n",
    "        theta = np.arctan(xyz[:, 1] / xyz[:, 0])\n",
    "        idx1 = xyz[:, 0] > 0\n",
    "        idx2 = xyz[:, 1] > 0\n",
    "\n",
    "        idx3 = ((1 - idx1) * idx2).astype(bool)\n",
    "        idx4 = ((1 - idx1) * (1 - idx2)).astype(bool)\n",
    "        \n",
    "        lon[idx1] = theta[idx1]\n",
    "        lon[idx3] = theta[idx3] + np.pi\n",
    "        lon[idx4] = theta[idx4] - np.pi\n",
    "\n",
    "        lon = lon.reshape([height, width]) / np.pi * 180\n",
    "        lat = -lat.reshape([height, width]) / np.pi * 180\n",
    "        lon = lon / 180 * equ_cx + equ_cx\n",
    "        lat = lat / 90 * equ_cy + equ_cy\n",
    "        #for x in range(width):\n",
    "        #    for y in range(height):\n",
    "        #        cv2.circle(self._img, (int(lon[y, x]), int(lat[y, x])), 1, (0, 255, 0))\n",
    "        #return self._img \n",
    "    \n",
    "        persp = cv2.remap(self._img, lon.astype(np.float32), lat.astype(np.float32), cv2.INTER_CUBIC, borderMode=cv2.BORDER_WRAP)\n",
    "        return persp\n",
    "\n",
    "\"\"\"从全景图得到子图的代码\"\"\"\n",
    "# Simulator image parameters\n",
    "VIEWPOINT_SIZE = 36\n",
    "FEATURE_SIZE = 2048\n",
    "\n",
    "WIDTH = 640\n",
    "HEIGHT = 480\n",
    "VFOV = 60\n",
    "HFOV = 75  # makes a VFOV of 60\n",
    "\n",
    "SCANS = ['TJARKatROOM', 'TJARKmeet302', 'TJARKmeet305', 'TJARKmeeting603']\n",
    "\n",
    "def equirectangular_to_perspective(image, save_path, viewpoint):\n",
    "    ''' Convert an equirectangular pano to 36 perspective images used by the VLN\n",
    "        agent. Construct it with 12 heading \n",
    "        viewpoints and 3 elevation viewpoints, starting with the heading that is\n",
    "        directly in front. The agent works better if these views are aligned to the\n",
    "        building. '''\n",
    "    equi = Equirectangular(image)  # RGB shape of [H, W, 3]\n",
    "    im_width = 640\n",
    "    im_height = 480\n",
    "    vfov = 60\n",
    "\n",
    "    # heading, elevation. Here, heading is defined from the x-axis, and turning right \n",
    "    # is positive. This matches the matterport sim, but opposite to ros\n",
    "    he = np.zeros((3, 12, 2), dtype=np.float32)\n",
    "\n",
    "    \n",
    "    # for i,v_deg in enumerate(range(0, 30, 30)):\n",
    "        # 注意！ 这个-150°是和全景图在MP3D模拟器中的航向角挂钩的，MP3D中的航向角=150 - ros_heading\n",
    "    v_deg = 0\n",
    "    i = 0\n",
    "    for j,u_deg in enumerate(range(-150, 210, 60)):\n",
    "        # Negate heading since for e2p turning right is positive, opposite in ros\n",
    "        head = -math.radians(u_deg)\n",
    "        he[i,j] = [head + 2*math.pi if head<0 else head, math.radians(v_deg)]\n",
    "        p_im = equi.GetPerspective(vfov, u_deg, v_deg, im_height, im_width)\n",
    "        cv2.imwrite(os.path.join(save_path, f\"{viewpoint}_{str(12*i+j)}.jpg\"), p_im)\n",
    "           \n",
    "def roll_image(image, pano_heading_rad):\n",
    "    \"\"\"\n",
    "    input: \n",
    "        image: theta相机获得的全景图,机器人坐标系\n",
    "        pano_heading_rad: 机器人朝向\n",
    "    output:\n",
    "        image: 将全景图转到地图坐标系0方向\n",
    "    \"\"\"\n",
    "    x_axis = 1 # width\n",
    "    roll_pixels = -int(pano_heading_rad / (math.pi * 2) * image.shape[x_axis])\n",
    "    rolled_image = np.roll(image, roll_pixels, axis=x_axis)\n",
    "    return rolled_image           "
   ]
  },
  {
   "cell_type": "code",
   "execution_count": 25,
   "metadata": {},
   "outputs": [],
   "source": [
    "raw_data_path = \"/root/autodl-tmp/r2r/\"\n",
    "dataset_path = \"/root/autodl-tmp/r2r/tjark_r2r_all.json\"\n",
    "new_data_path = \"/root/autodl-tmp/r2r_split/\"\n",
    "os.makedirs(new_data_path, exist_ok=True)\n",
    "with open(dataset_path, \"r\") as f:\n",
    "    tjark_r2r = json.loads(f.read())\n",
    "for i, ep in enumerate(tjark_r2r):\n",
    "    scan = ep[\"scan\"]+\"_imgs\"\n",
    "    path = ep[\"path\"]\n",
    "    inst = ep[\"instructions\"][0]\n",
    "\n",
    "    os.makedirs(os.path.join(new_data_path, str(i)), exist_ok=True)\n",
    "    inst_path = os.path.join(new_data_path, str(i), \"instruction.txt\")\n",
    "    with open(inst_path,\"w\") as f:\n",
    "        f.write(inst)\n",
    "\n",
    "    for j,vp in enumerate(path):\n",
    "        img_path = os.path.join(raw_data_path, scan, vp+\"_equirectangular.jpg\")\n",
    "        img = cv2.imread(img_path)\n",
    "        os.makedirs(os.path.join(new_data_path, str(i), \"rgb\"), exist_ok=True)\n",
    "        equirectangular_to_perspective(img, os.path.join(new_data_path, str(i), \"rgb\"), j)"
   ]
  },
  {
   "cell_type": "code",
   "execution_count": 5,
   "metadata": {},
   "outputs": [
    {
     "data": {
      "text/plain": [
       "{'scan': 'TJARKjirenlou_night',\n",
       " 'path': ['wbzgi90qeprorulk4vp5gk4hwp6c3lh3',\n",
       "  'gwikcem025hd4p2d3fq5h4zwaof9rt0u',\n",
       "  'eey023eprkn3hm4kbh7x36wp7c0tiwa8',\n",
       "  'eurzc2bcumco2xoyqwg2orylbqegpyyg',\n",
       "  '7v2m6buxe4lx2f80w8m5g8hd0x2b8va1'],\n",
       " 'instructions': ['Turn left in the corridor, pass the trolley and the box, then turn left and wait at the door next to the box.'],\n",
       " 'heading': 1.5882496417976402,\n",
       " 'distance': 8.562208513309029,\n",
       " 'path_id': 77}"
      ]
     },
     "execution_count": 5,
     "metadata": {},
     "output_type": "execute_result"
    }
   ],
   "source": [
    "ep"
   ]
  },
  {
   "cell_type": "markdown",
   "metadata": {},
   "source": [
    "## Depth estimation"
   ]
  },
  {
   "cell_type": "code",
   "execution_count": 33,
   "metadata": {},
   "outputs": [
    {
     "name": "stderr",
     "output_type": "stream",
     "text": [
      "Using cache found in /root/.cache/torch/hub/isl-org_ZoeDepth_main\n"
     ]
    },
    {
     "name": "stdout",
     "output_type": "stream",
     "text": [
      "img_size [384, 512]\n"
     ]
    },
    {
     "name": "stderr",
     "output_type": "stream",
     "text": [
      "Using cache found in /root/.cache/torch/hub/intel-isl_MiDaS_master\n"
     ]
    },
    {
     "ename": "KeyboardInterrupt",
     "evalue": "",
     "output_type": "error",
     "traceback": [
      "\u001b[0;31m---------------------------------------------------------------------------\u001b[0m",
      "\u001b[0;31mKeyboardInterrupt\u001b[0m                         Traceback (most recent call last)",
      "Input \u001b[0;32mIn [33]\u001b[0m, in \u001b[0;36m<cell line: 46>\u001b[0;34m()\u001b[0m\n\u001b[1;32m     43\u001b[0m         out_img\u001b[38;5;241m.\u001b[39mresize(origin_size, Image\u001b[38;5;241m.\u001b[39mANTIALIAS)\n\u001b[1;32m     44\u001b[0m         out_img\u001b[38;5;241m.\u001b[39mshow()\n\u001b[0;32m---> 46\u001b[0m model \u001b[38;5;241m=\u001b[39m \u001b[43mload_model\u001b[49m\u001b[43m(\u001b[49m\u001b[43m)\u001b[49m\n\u001b[1;32m     47\u001b[0m \u001b[38;5;28;01mdef\u001b[39;00m \u001b[38;5;21minferImageAndCompare\u001b[39m(idx, model):\n\u001b[1;32m     48\u001b[0m     rgb_path \u001b[38;5;241m=\u001b[39m \u001b[38;5;124mf\u001b[39m\u001b[38;5;124m'\u001b[39m\u001b[38;5;124m/root/EvoEnc/r2r_split/\u001b[39m\u001b[38;5;132;01m{\u001b[39;00midx\u001b[38;5;132;01m}\u001b[39;00m\u001b[38;5;124m/rgb\u001b[39m\u001b[38;5;124m'\u001b[39m\n",
      "Input \u001b[0;32mIn [33]\u001b[0m, in \u001b[0;36mload_model\u001b[0;34m()\u001b[0m\n\u001b[1;32m     23\u001b[0m \u001b[38;5;28;01mdef\u001b[39;00m \u001b[38;5;21mload_model\u001b[39m():\n\u001b[1;32m     24\u001b[0m     \u001b[38;5;66;03m# torch.hub.help(\"intel-isl/MiDaS\", \"DPT_BEiT_L_384\", force_reload=True) \u001b[39;00m\n\u001b[0;32m---> 25\u001b[0m     model \u001b[38;5;241m=\u001b[39m \u001b[43mtorch\u001b[49m\u001b[38;5;241;43m.\u001b[39;49m\u001b[43mhub\u001b[49m\u001b[38;5;241;43m.\u001b[39;49m\u001b[43mload\u001b[49m\u001b[43m(\u001b[49m\u001b[38;5;124;43m\"\u001b[39;49m\u001b[38;5;124;43misl-org/ZoeDepth\u001b[39;49m\u001b[38;5;124;43m\"\u001b[39;49m\u001b[43m,\u001b[49m\u001b[43m \u001b[49m\u001b[38;5;124;43m\"\u001b[39;49m\u001b[38;5;124;43mZoeD_NK\u001b[39;49m\u001b[38;5;124;43m\"\u001b[39;49m\u001b[43m,\u001b[49m\u001b[43m \u001b[49m\u001b[43mpretrained\u001b[49m\u001b[38;5;241;43m=\u001b[39;49m\u001b[38;5;28;43;01mTrue\u001b[39;49;00m\u001b[43m)\u001b[49m\n\u001b[1;32m     26\u001b[0m     model\u001b[38;5;241m.\u001b[39mto(DEVICE)\n\u001b[1;32m     27\u001b[0m     model\u001b[38;5;241m.\u001b[39meval()\n",
      "File \u001b[0;32m~/miniconda3/lib/python3.8/site-packages/torch/hub.py:542\u001b[0m, in \u001b[0;36mload\u001b[0;34m(repo_or_dir, model, source, trust_repo, force_reload, verbose, skip_validation, *args, **kwargs)\u001b[0m\n\u001b[1;32m    538\u001b[0m \u001b[38;5;28;01mif\u001b[39;00m source \u001b[38;5;241m==\u001b[39m \u001b[38;5;124m'\u001b[39m\u001b[38;5;124mgithub\u001b[39m\u001b[38;5;124m'\u001b[39m:\n\u001b[1;32m    539\u001b[0m     repo_or_dir \u001b[38;5;241m=\u001b[39m _get_cache_or_reload(repo_or_dir, force_reload, trust_repo, \u001b[38;5;124m\"\u001b[39m\u001b[38;5;124mload\u001b[39m\u001b[38;5;124m\"\u001b[39m,\n\u001b[1;32m    540\u001b[0m                                        verbose\u001b[38;5;241m=\u001b[39mverbose, skip_validation\u001b[38;5;241m=\u001b[39mskip_validation)\n\u001b[0;32m--> 542\u001b[0m model \u001b[38;5;241m=\u001b[39m \u001b[43m_load_local\u001b[49m\u001b[43m(\u001b[49m\u001b[43mrepo_or_dir\u001b[49m\u001b[43m,\u001b[49m\u001b[43m \u001b[49m\u001b[43mmodel\u001b[49m\u001b[43m,\u001b[49m\u001b[43m \u001b[49m\u001b[38;5;241;43m*\u001b[39;49m\u001b[43margs\u001b[49m\u001b[43m,\u001b[49m\u001b[43m \u001b[49m\u001b[38;5;241;43m*\u001b[39;49m\u001b[38;5;241;43m*\u001b[39;49m\u001b[43mkwargs\u001b[49m\u001b[43m)\u001b[49m\n\u001b[1;32m    543\u001b[0m \u001b[38;5;28;01mreturn\u001b[39;00m model\n",
      "File \u001b[0;32m~/miniconda3/lib/python3.8/site-packages/torch/hub.py:572\u001b[0m, in \u001b[0;36m_load_local\u001b[0;34m(hubconf_dir, model, *args, **kwargs)\u001b[0m\n\u001b[1;32m    569\u001b[0m hub_module \u001b[38;5;241m=\u001b[39m _import_module(MODULE_HUBCONF, hubconf_path)\n\u001b[1;32m    571\u001b[0m entry \u001b[38;5;241m=\u001b[39m _load_entry_from_hubconf(hub_module, model)\n\u001b[0;32m--> 572\u001b[0m model \u001b[38;5;241m=\u001b[39m \u001b[43mentry\u001b[49m\u001b[43m(\u001b[49m\u001b[38;5;241;43m*\u001b[39;49m\u001b[43margs\u001b[49m\u001b[43m,\u001b[49m\u001b[43m \u001b[49m\u001b[38;5;241;43m*\u001b[39;49m\u001b[38;5;241;43m*\u001b[39;49m\u001b[43mkwargs\u001b[49m\u001b[43m)\u001b[49m\n\u001b[1;32m    574\u001b[0m sys\u001b[38;5;241m.\u001b[39mpath\u001b[38;5;241m.\u001b[39mremove(hubconf_dir)\n\u001b[1;32m    576\u001b[0m \u001b[38;5;28;01mreturn\u001b[39;00m model\n",
      "File \u001b[0;32m~/.cache/torch/hub/isl-org_ZoeDepth_main/hubconf.py:153\u001b[0m, in \u001b[0;36mZoeD_NK\u001b[0;34m(pretrained, midas_model_type, config_mode, **kwargs)\u001b[0m\n\u001b[1;32m    150\u001b[0m     pretrained_resource \u001b[38;5;241m=\u001b[39m \u001b[38;5;124m\"\u001b[39m\u001b[38;5;124murl::https://github.com/isl-org/ZoeDepth/releases/download/v1.0/ZoeD_M12_NK.pt\u001b[39m\u001b[38;5;124m\"\u001b[39m\n\u001b[1;32m    152\u001b[0m config \u001b[38;5;241m=\u001b[39m get_config(\u001b[38;5;124m\"\u001b[39m\u001b[38;5;124mzoedepth_nk\u001b[39m\u001b[38;5;124m\"\u001b[39m, config_mode, pretrained_resource\u001b[38;5;241m=\u001b[39mpretrained_resource, \u001b[38;5;241m*\u001b[39m\u001b[38;5;241m*\u001b[39mkwargs)\n\u001b[0;32m--> 153\u001b[0m model \u001b[38;5;241m=\u001b[39m \u001b[43mbuild_model\u001b[49m\u001b[43m(\u001b[49m\u001b[43mconfig\u001b[49m\u001b[43m)\u001b[49m\n\u001b[1;32m    154\u001b[0m \u001b[38;5;28;01mreturn\u001b[39;00m model\n",
      "File \u001b[0;32m~/.cache/torch/hub/isl-org_ZoeDepth_main/zoedepth/models/builder.py:51\u001b[0m, in \u001b[0;36mbuild_model\u001b[0;34m(config)\u001b[0m\n\u001b[1;32m     48\u001b[0m \u001b[38;5;28;01mexcept\u001b[39;00m \u001b[38;5;167;01mAttributeError\u001b[39;00m \u001b[38;5;28;01mas\u001b[39;00m e:\n\u001b[1;32m     49\u001b[0m     \u001b[38;5;28;01mraise\u001b[39;00m \u001b[38;5;167;01mValueError\u001b[39;00m(\n\u001b[1;32m     50\u001b[0m         \u001b[38;5;124mf\u001b[39m\u001b[38;5;124m\"\u001b[39m\u001b[38;5;124mModel \u001b[39m\u001b[38;5;132;01m{\u001b[39;00mconfig\u001b[38;5;241m.\u001b[39mmodel\u001b[38;5;132;01m}\u001b[39;00m\u001b[38;5;124m has no get_version function.\u001b[39m\u001b[38;5;124m\"\u001b[39m) \u001b[38;5;28;01mfrom\u001b[39;00m \u001b[38;5;21;01me\u001b[39;00m\n\u001b[0;32m---> 51\u001b[0m \u001b[38;5;28;01mreturn\u001b[39;00m \u001b[43mget_version\u001b[49m\u001b[43m(\u001b[49m\u001b[43mconfig\u001b[49m\u001b[38;5;241;43m.\u001b[39;49m\u001b[43mversion_name\u001b[49m\u001b[43m)\u001b[49m\u001b[38;5;241;43m.\u001b[39;49m\u001b[43mbuild_from_config\u001b[49m\u001b[43m(\u001b[49m\u001b[43mconfig\u001b[49m\u001b[43m)\u001b[49m\n",
      "File \u001b[0;32m~/.cache/torch/hub/isl-org_ZoeDepth_main/zoedepth/models/zoedepth_nk/zoedepth_nk_v1.py:333\u001b[0m, in \u001b[0;36mZoeDepthNK.build_from_config\u001b[0;34m(config)\u001b[0m\n\u001b[1;32m    331\u001b[0m \u001b[38;5;129m@staticmethod\u001b[39m\n\u001b[1;32m    332\u001b[0m \u001b[38;5;28;01mdef\u001b[39;00m \u001b[38;5;21mbuild_from_config\u001b[39m(config):\n\u001b[0;32m--> 333\u001b[0m     \u001b[38;5;28;01mreturn\u001b[39;00m \u001b[43mZoeDepthNK\u001b[49m\u001b[38;5;241;43m.\u001b[39;49m\u001b[43mbuild\u001b[49m\u001b[43m(\u001b[49m\u001b[38;5;241;43m*\u001b[39;49m\u001b[38;5;241;43m*\u001b[39;49m\u001b[43mconfig\u001b[49m\u001b[43m)\u001b[49m\n",
      "File \u001b[0;32m~/.cache/torch/hub/isl-org_ZoeDepth_main/zoedepth/models/zoedepth_nk/zoedepth_nk_v1.py:323\u001b[0m, in \u001b[0;36mZoeDepthNK.build\u001b[0;34m(midas_model_type, pretrained_resource, use_pretrained_midas, train_midas, freeze_midas_bn, **kwargs)\u001b[0m\n\u001b[1;32m    321\u001b[0m \u001b[38;5;129m@staticmethod\u001b[39m\n\u001b[1;32m    322\u001b[0m \u001b[38;5;28;01mdef\u001b[39;00m \u001b[38;5;21mbuild\u001b[39m(midas_model_type\u001b[38;5;241m=\u001b[39m\u001b[38;5;124m\"\u001b[39m\u001b[38;5;124mDPT_BEiT_L_384\u001b[39m\u001b[38;5;124m\"\u001b[39m, pretrained_resource\u001b[38;5;241m=\u001b[39m\u001b[38;5;28;01mNone\u001b[39;00m, use_pretrained_midas\u001b[38;5;241m=\u001b[39m\u001b[38;5;28;01mFalse\u001b[39;00m, train_midas\u001b[38;5;241m=\u001b[39m\u001b[38;5;28;01mFalse\u001b[39;00m, freeze_midas_bn\u001b[38;5;241m=\u001b[39m\u001b[38;5;28;01mTrue\u001b[39;00m, \u001b[38;5;241m*\u001b[39m\u001b[38;5;241m*\u001b[39mkwargs):\n\u001b[0;32m--> 323\u001b[0m     core \u001b[38;5;241m=\u001b[39m \u001b[43mMidasCore\u001b[49m\u001b[38;5;241;43m.\u001b[39;49m\u001b[43mbuild\u001b[49m\u001b[43m(\u001b[49m\u001b[43mmidas_model_type\u001b[49m\u001b[38;5;241;43m=\u001b[39;49m\u001b[43mmidas_model_type\u001b[49m\u001b[43m,\u001b[49m\u001b[43m \u001b[49m\u001b[43muse_pretrained_midas\u001b[49m\u001b[38;5;241;43m=\u001b[39;49m\u001b[43muse_pretrained_midas\u001b[49m\u001b[43m,\u001b[49m\n\u001b[1;32m    324\u001b[0m \u001b[43m                           \u001b[49m\u001b[43mtrain_midas\u001b[49m\u001b[38;5;241;43m=\u001b[39;49m\u001b[43mtrain_midas\u001b[49m\u001b[43m,\u001b[49m\u001b[43m \u001b[49m\u001b[43mfetch_features\u001b[49m\u001b[38;5;241;43m=\u001b[39;49m\u001b[38;5;28;43;01mTrue\u001b[39;49;00m\u001b[43m,\u001b[49m\u001b[43m \u001b[49m\u001b[43mfreeze_bn\u001b[49m\u001b[38;5;241;43m=\u001b[39;49m\u001b[43mfreeze_midas_bn\u001b[49m\u001b[43m,\u001b[49m\u001b[43m \u001b[49m\u001b[38;5;241;43m*\u001b[39;49m\u001b[38;5;241;43m*\u001b[39;49m\u001b[43mkwargs\u001b[49m\u001b[43m)\u001b[49m\n\u001b[1;32m    325\u001b[0m     model \u001b[38;5;241m=\u001b[39m ZoeDepthNK(core, \u001b[38;5;241m*\u001b[39m\u001b[38;5;241m*\u001b[39mkwargs)\n\u001b[1;32m    326\u001b[0m     \u001b[38;5;28;01mif\u001b[39;00m pretrained_resource:\n",
      "File \u001b[0;32m~/.cache/torch/hub/isl-org_ZoeDepth_main/zoedepth/models/base_models/midas.py:341\u001b[0m, in \u001b[0;36mMidasCore.build\u001b[0;34m(midas_model_type, train_midas, use_pretrained_midas, fetch_features, freeze_bn, force_keep_ar, force_reload, **kwargs)\u001b[0m\n\u001b[1;32m    339\u001b[0m img_size \u001b[38;5;241m=\u001b[39m kwargs\u001b[38;5;241m.\u001b[39mpop(\u001b[38;5;124m\"\u001b[39m\u001b[38;5;124mimg_size\u001b[39m\u001b[38;5;124m\"\u001b[39m, [\u001b[38;5;241m384\u001b[39m, \u001b[38;5;241m384\u001b[39m])\n\u001b[1;32m    340\u001b[0m \u001b[38;5;28mprint\u001b[39m(\u001b[38;5;124m\"\u001b[39m\u001b[38;5;124mimg_size\u001b[39m\u001b[38;5;124m\"\u001b[39m, img_size)\n\u001b[0;32m--> 341\u001b[0m midas \u001b[38;5;241m=\u001b[39m \u001b[43mtorch\u001b[49m\u001b[38;5;241;43m.\u001b[39;49m\u001b[43mhub\u001b[49m\u001b[38;5;241;43m.\u001b[39;49m\u001b[43mload\u001b[49m\u001b[43m(\u001b[49m\u001b[38;5;124;43m\"\u001b[39;49m\u001b[38;5;124;43mintel-isl/MiDaS\u001b[39;49m\u001b[38;5;124;43m\"\u001b[39;49m\u001b[43m,\u001b[49m\u001b[43m \u001b[49m\u001b[43mmidas_model_type\u001b[49m\u001b[43m,\u001b[49m\n\u001b[1;32m    342\u001b[0m \u001b[43m                       \u001b[49m\u001b[43mpretrained\u001b[49m\u001b[38;5;241;43m=\u001b[39;49m\u001b[43muse_pretrained_midas\u001b[49m\u001b[43m,\u001b[49m\u001b[43m \u001b[49m\u001b[43mforce_reload\u001b[49m\u001b[38;5;241;43m=\u001b[39;49m\u001b[43mforce_reload\u001b[49m\u001b[43m)\u001b[49m\n\u001b[1;32m    343\u001b[0m kwargs\u001b[38;5;241m.\u001b[39mupdate({\u001b[38;5;124m'\u001b[39m\u001b[38;5;124mkeep_aspect_ratio\u001b[39m\u001b[38;5;124m'\u001b[39m: force_keep_ar})\n\u001b[1;32m    344\u001b[0m midas_core \u001b[38;5;241m=\u001b[39m MidasCore(midas, trainable\u001b[38;5;241m=\u001b[39mtrain_midas, fetch_features\u001b[38;5;241m=\u001b[39mfetch_features,\n\u001b[1;32m    345\u001b[0m                        freeze_bn\u001b[38;5;241m=\u001b[39mfreeze_bn, img_size\u001b[38;5;241m=\u001b[39mimg_size, \u001b[38;5;241m*\u001b[39m\u001b[38;5;241m*\u001b[39mkwargs)\n",
      "File \u001b[0;32m~/miniconda3/lib/python3.8/site-packages/torch/hub.py:542\u001b[0m, in \u001b[0;36mload\u001b[0;34m(repo_or_dir, model, source, trust_repo, force_reload, verbose, skip_validation, *args, **kwargs)\u001b[0m\n\u001b[1;32m    538\u001b[0m \u001b[38;5;28;01mif\u001b[39;00m source \u001b[38;5;241m==\u001b[39m \u001b[38;5;124m'\u001b[39m\u001b[38;5;124mgithub\u001b[39m\u001b[38;5;124m'\u001b[39m:\n\u001b[1;32m    539\u001b[0m     repo_or_dir \u001b[38;5;241m=\u001b[39m _get_cache_or_reload(repo_or_dir, force_reload, trust_repo, \u001b[38;5;124m\"\u001b[39m\u001b[38;5;124mload\u001b[39m\u001b[38;5;124m\"\u001b[39m,\n\u001b[1;32m    540\u001b[0m                                        verbose\u001b[38;5;241m=\u001b[39mverbose, skip_validation\u001b[38;5;241m=\u001b[39mskip_validation)\n\u001b[0;32m--> 542\u001b[0m model \u001b[38;5;241m=\u001b[39m \u001b[43m_load_local\u001b[49m\u001b[43m(\u001b[49m\u001b[43mrepo_or_dir\u001b[49m\u001b[43m,\u001b[49m\u001b[43m \u001b[49m\u001b[43mmodel\u001b[49m\u001b[43m,\u001b[49m\u001b[43m \u001b[49m\u001b[38;5;241;43m*\u001b[39;49m\u001b[43margs\u001b[49m\u001b[43m,\u001b[49m\u001b[43m \u001b[49m\u001b[38;5;241;43m*\u001b[39;49m\u001b[38;5;241;43m*\u001b[39;49m\u001b[43mkwargs\u001b[49m\u001b[43m)\u001b[49m\n\u001b[1;32m    543\u001b[0m \u001b[38;5;28;01mreturn\u001b[39;00m model\n",
      "File \u001b[0;32m~/miniconda3/lib/python3.8/site-packages/torch/hub.py:572\u001b[0m, in \u001b[0;36m_load_local\u001b[0;34m(hubconf_dir, model, *args, **kwargs)\u001b[0m\n\u001b[1;32m    569\u001b[0m hub_module \u001b[38;5;241m=\u001b[39m _import_module(MODULE_HUBCONF, hubconf_path)\n\u001b[1;32m    571\u001b[0m entry \u001b[38;5;241m=\u001b[39m _load_entry_from_hubconf(hub_module, model)\n\u001b[0;32m--> 572\u001b[0m model \u001b[38;5;241m=\u001b[39m \u001b[43mentry\u001b[49m\u001b[43m(\u001b[49m\u001b[38;5;241;43m*\u001b[39;49m\u001b[43margs\u001b[49m\u001b[43m,\u001b[49m\u001b[43m \u001b[49m\u001b[38;5;241;43m*\u001b[39;49m\u001b[38;5;241;43m*\u001b[39;49m\u001b[43mkwargs\u001b[49m\u001b[43m)\u001b[49m\n\u001b[1;32m    574\u001b[0m sys\u001b[38;5;241m.\u001b[39mpath\u001b[38;5;241m.\u001b[39mremove(hubconf_dir)\n\u001b[1;32m    576\u001b[0m \u001b[38;5;28;01mreturn\u001b[39;00m model\n",
      "File \u001b[0;32m~/.cache/torch/hub/intel-isl_MiDaS_master/hubconf.py:38\u001b[0m, in \u001b[0;36mDPT_BEiT_L_384\u001b[0;34m(pretrained, **kwargs)\u001b[0m\n\u001b[1;32m     32\u001b[0m \u001b[38;5;28;01mdef\u001b[39;00m \u001b[38;5;21mDPT_BEiT_L_384\u001b[39m(pretrained\u001b[38;5;241m=\u001b[39m\u001b[38;5;28;01mTrue\u001b[39;00m, \u001b[38;5;241m*\u001b[39m\u001b[38;5;241m*\u001b[39mkwargs):\n\u001b[1;32m     33\u001b[0m     \u001b[38;5;124;03m\"\"\" # This docstring shows up in hub.help()\u001b[39;00m\n\u001b[1;32m     34\u001b[0m \u001b[38;5;124;03m    MiDaS DPT_BEiT_L_384 model for monocular depth estimation\u001b[39;00m\n\u001b[1;32m     35\u001b[0m \u001b[38;5;124;03m    pretrained (bool): load pretrained weights into model\u001b[39;00m\n\u001b[1;32m     36\u001b[0m \u001b[38;5;124;03m    \"\"\"\u001b[39;00m\n\u001b[0;32m---> 38\u001b[0m     model \u001b[38;5;241m=\u001b[39m \u001b[43mDPTDepthModel\u001b[49m\u001b[43m(\u001b[49m\n\u001b[1;32m     39\u001b[0m \u001b[43m            \u001b[49m\u001b[43mpath\u001b[49m\u001b[38;5;241;43m=\u001b[39;49m\u001b[38;5;28;43;01mNone\u001b[39;49;00m\u001b[43m,\u001b[49m\n\u001b[1;32m     40\u001b[0m \u001b[43m            \u001b[49m\u001b[43mbackbone\u001b[49m\u001b[38;5;241;43m=\u001b[39;49m\u001b[38;5;124;43m\"\u001b[39;49m\u001b[38;5;124;43mbeitl16_384\u001b[39;49m\u001b[38;5;124;43m\"\u001b[39;49m\u001b[43m,\u001b[49m\n\u001b[1;32m     41\u001b[0m \u001b[43m            \u001b[49m\u001b[43mnon_negative\u001b[49m\u001b[38;5;241;43m=\u001b[39;49m\u001b[38;5;28;43;01mTrue\u001b[39;49;00m\u001b[43m,\u001b[49m\n\u001b[1;32m     42\u001b[0m \u001b[43m        \u001b[49m\u001b[43m)\u001b[49m\n\u001b[1;32m     44\u001b[0m     \u001b[38;5;28;01mif\u001b[39;00m pretrained:\n\u001b[1;32m     45\u001b[0m         checkpoint \u001b[38;5;241m=\u001b[39m (\n\u001b[1;32m     46\u001b[0m             \u001b[38;5;124m\"\u001b[39m\u001b[38;5;124mhttps://github.com/isl-org/MiDaS/releases/download/v3_1/dpt_beit_large_384.pt\u001b[39m\u001b[38;5;124m\"\u001b[39m\n\u001b[1;32m     47\u001b[0m         )\n",
      "File \u001b[0;32m~/.cache/torch/hub/intel-isl_MiDaS_master/midas/dpt_depth.py:160\u001b[0m, in \u001b[0;36mDPTDepthModel.__init__\u001b[0;34m(self, path, non_negative, **kwargs)\u001b[0m\n\u001b[1;32m    148\u001b[0m kwargs\u001b[38;5;241m.\u001b[39mpop(\u001b[38;5;124m\"\u001b[39m\u001b[38;5;124mhead_features_2\u001b[39m\u001b[38;5;124m\"\u001b[39m, \u001b[38;5;28;01mNone\u001b[39;00m)\n\u001b[1;32m    150\u001b[0m head \u001b[38;5;241m=\u001b[39m nn\u001b[38;5;241m.\u001b[39mSequential(\n\u001b[1;32m    151\u001b[0m     nn\u001b[38;5;241m.\u001b[39mConv2d(head_features_1, head_features_1 \u001b[38;5;241m/\u001b[39m\u001b[38;5;241m/\u001b[39m \u001b[38;5;241m2\u001b[39m, kernel_size\u001b[38;5;241m=\u001b[39m\u001b[38;5;241m3\u001b[39m, stride\u001b[38;5;241m=\u001b[39m\u001b[38;5;241m1\u001b[39m, padding\u001b[38;5;241m=\u001b[39m\u001b[38;5;241m1\u001b[39m),\n\u001b[1;32m    152\u001b[0m     Interpolate(scale_factor\u001b[38;5;241m=\u001b[39m\u001b[38;5;241m2\u001b[39m, mode\u001b[38;5;241m=\u001b[39m\u001b[38;5;124m\"\u001b[39m\u001b[38;5;124mbilinear\u001b[39m\u001b[38;5;124m\"\u001b[39m, align_corners\u001b[38;5;241m=\u001b[39m\u001b[38;5;28;01mTrue\u001b[39;00m),\n\u001b[0;32m   (...)\u001b[0m\n\u001b[1;32m    157\u001b[0m     nn\u001b[38;5;241m.\u001b[39mIdentity(),\n\u001b[1;32m    158\u001b[0m )\n\u001b[0;32m--> 160\u001b[0m \u001b[38;5;28;43msuper\u001b[39;49m\u001b[43m(\u001b[49m\u001b[43m)\u001b[49m\u001b[38;5;241;43m.\u001b[39;49m\u001b[38;5;21;43m__init__\u001b[39;49m\u001b[43m(\u001b[49m\u001b[43mhead\u001b[49m\u001b[43m,\u001b[49m\u001b[43m \u001b[49m\u001b[38;5;241;43m*\u001b[39;49m\u001b[38;5;241;43m*\u001b[39;49m\u001b[43mkwargs\u001b[49m\u001b[43m)\u001b[49m\n\u001b[1;32m    162\u001b[0m \u001b[38;5;28;01mif\u001b[39;00m path \u001b[38;5;129;01mis\u001b[39;00m \u001b[38;5;129;01mnot\u001b[39;00m \u001b[38;5;28;01mNone\u001b[39;00m:\n\u001b[1;32m    163\u001b[0m    \u001b[38;5;28mself\u001b[39m\u001b[38;5;241m.\u001b[39mload(path)\n",
      "File \u001b[0;32m~/.cache/torch/hub/intel-isl_MiDaS_master/midas/dpt_depth.py:71\u001b[0m, in \u001b[0;36mDPT.__init__\u001b[0;34m(self, head, features, backbone, readout, channels_last, use_bn, **kwargs)\u001b[0m\n\u001b[1;32m     68\u001b[0m     in_features \u001b[38;5;241m=\u001b[39m \u001b[38;5;28;01mNone\u001b[39;00m\n\u001b[1;32m     70\u001b[0m \u001b[38;5;66;03m# Instantiate backbone and reassemble blocks\u001b[39;00m\n\u001b[0;32m---> 71\u001b[0m \u001b[38;5;28mself\u001b[39m\u001b[38;5;241m.\u001b[39mpretrained, \u001b[38;5;28mself\u001b[39m\u001b[38;5;241m.\u001b[39mscratch \u001b[38;5;241m=\u001b[39m \u001b[43m_make_encoder\u001b[49m\u001b[43m(\u001b[49m\n\u001b[1;32m     72\u001b[0m \u001b[43m    \u001b[49m\u001b[43mbackbone\u001b[49m\u001b[43m,\u001b[49m\n\u001b[1;32m     73\u001b[0m \u001b[43m    \u001b[49m\u001b[43mfeatures\u001b[49m\u001b[43m,\u001b[49m\n\u001b[1;32m     74\u001b[0m \u001b[43m    \u001b[49m\u001b[38;5;28;43;01mFalse\u001b[39;49;00m\u001b[43m,\u001b[49m\u001b[43m \u001b[49m\u001b[38;5;66;43;03m# Set to true of you want to train from scratch, uses ImageNet weights\u001b[39;49;00m\n\u001b[1;32m     75\u001b[0m \u001b[43m    \u001b[49m\u001b[43mgroups\u001b[49m\u001b[38;5;241;43m=\u001b[39;49m\u001b[38;5;241;43m1\u001b[39;49m\u001b[43m,\u001b[49m\n\u001b[1;32m     76\u001b[0m \u001b[43m    \u001b[49m\u001b[43mexpand\u001b[49m\u001b[38;5;241;43m=\u001b[39;49m\u001b[38;5;28;43;01mFalse\u001b[39;49;00m\u001b[43m,\u001b[49m\n\u001b[1;32m     77\u001b[0m \u001b[43m    \u001b[49m\u001b[43mexportable\u001b[49m\u001b[38;5;241;43m=\u001b[39;49m\u001b[38;5;28;43;01mFalse\u001b[39;49;00m\u001b[43m,\u001b[49m\n\u001b[1;32m     78\u001b[0m \u001b[43m    \u001b[49m\u001b[43mhooks\u001b[49m\u001b[38;5;241;43m=\u001b[39;49m\u001b[43mhooks\u001b[49m\u001b[43m,\u001b[49m\n\u001b[1;32m     79\u001b[0m \u001b[43m    \u001b[49m\u001b[43muse_readout\u001b[49m\u001b[38;5;241;43m=\u001b[39;49m\u001b[43mreadout\u001b[49m\u001b[43m,\u001b[49m\n\u001b[1;32m     80\u001b[0m \u001b[43m    \u001b[49m\u001b[43min_features\u001b[49m\u001b[38;5;241;43m=\u001b[39;49m\u001b[43min_features\u001b[49m\u001b[43m,\u001b[49m\n\u001b[1;32m     81\u001b[0m \u001b[43m\u001b[49m\u001b[43m)\u001b[49m\n\u001b[1;32m     83\u001b[0m \u001b[38;5;28mself\u001b[39m\u001b[38;5;241m.\u001b[39mnumber_layers \u001b[38;5;241m=\u001b[39m \u001b[38;5;28mlen\u001b[39m(hooks) \u001b[38;5;28;01mif\u001b[39;00m hooks \u001b[38;5;129;01mis\u001b[39;00m \u001b[38;5;129;01mnot\u001b[39;00m \u001b[38;5;28;01mNone\u001b[39;00m \u001b[38;5;28;01melse\u001b[39;00m \u001b[38;5;241m4\u001b[39m\n\u001b[1;32m     84\u001b[0m size_refinenet3 \u001b[38;5;241m=\u001b[39m \u001b[38;5;28;01mNone\u001b[39;00m\n",
      "File \u001b[0;32m~/.cache/torch/hub/intel-isl_MiDaS_master/midas/blocks.py:42\u001b[0m, in \u001b[0;36m_make_encoder\u001b[0;34m(backbone, features, use_pretrained, groups, expand, exportable, hooks, use_vit_only, use_readout, in_features)\u001b[0m\n\u001b[1;32m     38\u001b[0m     scratch \u001b[38;5;241m=\u001b[39m _make_scratch(\n\u001b[1;32m     39\u001b[0m         [\u001b[38;5;241m256\u001b[39m, \u001b[38;5;241m512\u001b[39m, \u001b[38;5;241m1024\u001b[39m, \u001b[38;5;241m1024\u001b[39m], features, groups\u001b[38;5;241m=\u001b[39mgroups, expand\u001b[38;5;241m=\u001b[39mexpand\n\u001b[1;32m     40\u001b[0m     )  \u001b[38;5;66;03m# BEiT_512-L (backbone)\u001b[39;00m\n\u001b[1;32m     41\u001b[0m \u001b[38;5;28;01melif\u001b[39;00m backbone \u001b[38;5;241m==\u001b[39m \u001b[38;5;124m\"\u001b[39m\u001b[38;5;124mbeitl16_384\u001b[39m\u001b[38;5;124m\"\u001b[39m:\n\u001b[0;32m---> 42\u001b[0m     pretrained \u001b[38;5;241m=\u001b[39m \u001b[43m_make_pretrained_beitl16_384\u001b[49m\u001b[43m(\u001b[49m\n\u001b[1;32m     43\u001b[0m \u001b[43m        \u001b[49m\u001b[43muse_pretrained\u001b[49m\u001b[43m,\u001b[49m\u001b[43m \u001b[49m\u001b[43mhooks\u001b[49m\u001b[38;5;241;43m=\u001b[39;49m\u001b[43mhooks\u001b[49m\u001b[43m,\u001b[49m\u001b[43m \u001b[49m\u001b[43muse_readout\u001b[49m\u001b[38;5;241;43m=\u001b[39;49m\u001b[43muse_readout\u001b[49m\n\u001b[1;32m     44\u001b[0m \u001b[43m    \u001b[49m\u001b[43m)\u001b[49m\n\u001b[1;32m     45\u001b[0m     scratch \u001b[38;5;241m=\u001b[39m _make_scratch(\n\u001b[1;32m     46\u001b[0m         [\u001b[38;5;241m256\u001b[39m, \u001b[38;5;241m512\u001b[39m, \u001b[38;5;241m1024\u001b[39m, \u001b[38;5;241m1024\u001b[39m], features, groups\u001b[38;5;241m=\u001b[39mgroups, expand\u001b[38;5;241m=\u001b[39mexpand\n\u001b[1;32m     47\u001b[0m     )  \u001b[38;5;66;03m# BEiT_384-L (backbone)\u001b[39;00m\n\u001b[1;32m     48\u001b[0m \u001b[38;5;28;01melif\u001b[39;00m backbone \u001b[38;5;241m==\u001b[39m \u001b[38;5;124m\"\u001b[39m\u001b[38;5;124mbeitb16_384\u001b[39m\u001b[38;5;124m\"\u001b[39m:\n",
      "File \u001b[0;32m~/.cache/torch/hub/intel-isl_MiDaS_master/midas/backbones/beit.py:175\u001b[0m, in \u001b[0;36m_make_pretrained_beitl16_384\u001b[0;34m(pretrained, use_readout, hooks)\u001b[0m\n\u001b[1;32m    174\u001b[0m \u001b[38;5;28;01mdef\u001b[39;00m \u001b[38;5;21m_make_pretrained_beitl16_384\u001b[39m(pretrained, use_readout\u001b[38;5;241m=\u001b[39m\u001b[38;5;124m\"\u001b[39m\u001b[38;5;124mignore\u001b[39m\u001b[38;5;124m\"\u001b[39m, hooks\u001b[38;5;241m=\u001b[39m\u001b[38;5;28;01mNone\u001b[39;00m):\n\u001b[0;32m--> 175\u001b[0m     model \u001b[38;5;241m=\u001b[39m \u001b[43mtimm\u001b[49m\u001b[38;5;241;43m.\u001b[39;49m\u001b[43mcreate_model\u001b[49m\u001b[43m(\u001b[49m\u001b[38;5;124;43m\"\u001b[39;49m\u001b[38;5;124;43mbeit_large_patch16_384\u001b[39;49m\u001b[38;5;124;43m\"\u001b[39;49m\u001b[43m,\u001b[49m\u001b[43m \u001b[49m\u001b[43mpretrained\u001b[49m\u001b[38;5;241;43m=\u001b[39;49m\u001b[43mpretrained\u001b[49m\u001b[43m)\u001b[49m\n\u001b[1;32m    177\u001b[0m     hooks \u001b[38;5;241m=\u001b[39m [\u001b[38;5;241m5\u001b[39m, \u001b[38;5;241m11\u001b[39m, \u001b[38;5;241m17\u001b[39m, \u001b[38;5;241m23\u001b[39m] \u001b[38;5;28;01mif\u001b[39;00m hooks \u001b[38;5;129;01mis\u001b[39;00m \u001b[38;5;28;01mNone\u001b[39;00m \u001b[38;5;28;01melse\u001b[39;00m hooks\n\u001b[1;32m    178\u001b[0m     \u001b[38;5;28;01mreturn\u001b[39;00m _make_beit_backbone(\n\u001b[1;32m    179\u001b[0m         model,\n\u001b[1;32m    180\u001b[0m         features\u001b[38;5;241m=\u001b[39m[\u001b[38;5;241m256\u001b[39m, \u001b[38;5;241m512\u001b[39m, \u001b[38;5;241m1024\u001b[39m, \u001b[38;5;241m1024\u001b[39m],\n\u001b[0;32m   (...)\u001b[0m\n\u001b[1;32m    183\u001b[0m         use_readout\u001b[38;5;241m=\u001b[39muse_readout,\n\u001b[1;32m    184\u001b[0m     )\n",
      "File \u001b[0;32m~/miniconda3/lib/python3.8/site-packages/timm/models/factory.py:71\u001b[0m, in \u001b[0;36mcreate_model\u001b[0;34m(model_name, pretrained, pretrained_cfg, checkpoint_path, scriptable, exportable, no_jit, **kwargs)\u001b[0m\n\u001b[1;32m     69\u001b[0m create_fn \u001b[38;5;241m=\u001b[39m model_entrypoint(model_name)\n\u001b[1;32m     70\u001b[0m \u001b[38;5;28;01mwith\u001b[39;00m set_layer_config(scriptable\u001b[38;5;241m=\u001b[39mscriptable, exportable\u001b[38;5;241m=\u001b[39mexportable, no_jit\u001b[38;5;241m=\u001b[39mno_jit):\n\u001b[0;32m---> 71\u001b[0m     model \u001b[38;5;241m=\u001b[39m \u001b[43mcreate_fn\u001b[49m\u001b[43m(\u001b[49m\u001b[43mpretrained\u001b[49m\u001b[38;5;241;43m=\u001b[39;49m\u001b[43mpretrained\u001b[49m\u001b[43m,\u001b[49m\u001b[43m \u001b[49m\u001b[43mpretrained_cfg\u001b[49m\u001b[38;5;241;43m=\u001b[39;49m\u001b[43mpretrained_cfg\u001b[49m\u001b[43m,\u001b[49m\u001b[43m \u001b[49m\u001b[38;5;241;43m*\u001b[39;49m\u001b[38;5;241;43m*\u001b[39;49m\u001b[43mkwargs\u001b[49m\u001b[43m)\u001b[49m\n\u001b[1;32m     73\u001b[0m \u001b[38;5;28;01mif\u001b[39;00m checkpoint_path:\n\u001b[1;32m     74\u001b[0m     load_checkpoint(model, checkpoint_path)\n",
      "File \u001b[0;32m~/miniconda3/lib/python3.8/site-packages/timm/models/beit.py:400\u001b[0m, in \u001b[0;36mbeit_large_patch16_384\u001b[0;34m(pretrained, **kwargs)\u001b[0m\n\u001b[1;32m    395\u001b[0m \u001b[38;5;129m@register_model\u001b[39m\n\u001b[1;32m    396\u001b[0m \u001b[38;5;28;01mdef\u001b[39;00m \u001b[38;5;21mbeit_large_patch16_384\u001b[39m(pretrained\u001b[38;5;241m=\u001b[39m\u001b[38;5;28;01mFalse\u001b[39;00m, \u001b[38;5;241m*\u001b[39m\u001b[38;5;241m*\u001b[39mkwargs):\n\u001b[1;32m    397\u001b[0m     model_kwargs \u001b[38;5;241m=\u001b[39m \u001b[38;5;28mdict\u001b[39m(\n\u001b[1;32m    398\u001b[0m         img_size\u001b[38;5;241m=\u001b[39m\u001b[38;5;241m384\u001b[39m, patch_size\u001b[38;5;241m=\u001b[39m\u001b[38;5;241m16\u001b[39m, embed_dim\u001b[38;5;241m=\u001b[39m\u001b[38;5;241m1024\u001b[39m, depth\u001b[38;5;241m=\u001b[39m\u001b[38;5;241m24\u001b[39m, num_heads\u001b[38;5;241m=\u001b[39m\u001b[38;5;241m16\u001b[39m, mlp_ratio\u001b[38;5;241m=\u001b[39m\u001b[38;5;241m4\u001b[39m, qkv_bias\u001b[38;5;241m=\u001b[39m\u001b[38;5;28;01mTrue\u001b[39;00m,\n\u001b[1;32m    399\u001b[0m         use_abs_pos_emb\u001b[38;5;241m=\u001b[39m\u001b[38;5;28;01mFalse\u001b[39;00m, use_rel_pos_bias\u001b[38;5;241m=\u001b[39m\u001b[38;5;28;01mTrue\u001b[39;00m, init_values\u001b[38;5;241m=\u001b[39m\u001b[38;5;241m1e-5\u001b[39m, \u001b[38;5;241m*\u001b[39m\u001b[38;5;241m*\u001b[39mkwargs)\n\u001b[0;32m--> 400\u001b[0m     model \u001b[38;5;241m=\u001b[39m \u001b[43m_create_beit\u001b[49m\u001b[43m(\u001b[49m\u001b[38;5;124;43m'\u001b[39;49m\u001b[38;5;124;43mbeit_large_patch16_384\u001b[39;49m\u001b[38;5;124;43m'\u001b[39;49m\u001b[43m,\u001b[49m\u001b[43m \u001b[49m\u001b[43mpretrained\u001b[49m\u001b[38;5;241;43m=\u001b[39;49m\u001b[43mpretrained\u001b[49m\u001b[43m,\u001b[49m\u001b[43m \u001b[49m\u001b[38;5;241;43m*\u001b[39;49m\u001b[38;5;241;43m*\u001b[39;49m\u001b[43mmodel_kwargs\u001b[49m\u001b[43m)\u001b[49m\n\u001b[1;32m    401\u001b[0m     \u001b[38;5;28;01mreturn\u001b[39;00m model\n",
      "File \u001b[0;32m~/miniconda3/lib/python3.8/site-packages/timm/models/beit.py:351\u001b[0m, in \u001b[0;36m_create_beit\u001b[0;34m(variant, pretrained, **kwargs)\u001b[0m\n\u001b[1;32m    348\u001b[0m \u001b[38;5;28;01mif\u001b[39;00m kwargs\u001b[38;5;241m.\u001b[39mget(\u001b[38;5;124m'\u001b[39m\u001b[38;5;124mfeatures_only\u001b[39m\u001b[38;5;124m'\u001b[39m, \u001b[38;5;28;01mNone\u001b[39;00m):\n\u001b[1;32m    349\u001b[0m     \u001b[38;5;28;01mraise\u001b[39;00m \u001b[38;5;167;01mRuntimeError\u001b[39;00m(\u001b[38;5;124m'\u001b[39m\u001b[38;5;124mfeatures_only not implemented for Beit models.\u001b[39m\u001b[38;5;124m'\u001b[39m)\n\u001b[0;32m--> 351\u001b[0m model \u001b[38;5;241m=\u001b[39m \u001b[43mbuild_model_with_cfg\u001b[49m\u001b[43m(\u001b[49m\n\u001b[1;32m    352\u001b[0m \u001b[43m    \u001b[49m\u001b[43mBeit\u001b[49m\u001b[43m,\u001b[49m\u001b[43m \u001b[49m\u001b[43mvariant\u001b[49m\u001b[43m,\u001b[49m\u001b[43m \u001b[49m\u001b[43mpretrained\u001b[49m\u001b[43m,\u001b[49m\n\u001b[1;32m    353\u001b[0m \u001b[43m    \u001b[49m\u001b[38;5;66;43;03m# FIXME an updated filter fn needed to interpolate rel pos emb if fine tuning to diff model sizes\u001b[39;49;00m\n\u001b[1;32m    354\u001b[0m \u001b[43m    \u001b[49m\u001b[43mpretrained_filter_fn\u001b[49m\u001b[38;5;241;43m=\u001b[39;49m\u001b[43mcheckpoint_filter_fn\u001b[49m\u001b[43m,\u001b[49m\n\u001b[1;32m    355\u001b[0m \u001b[43m    \u001b[49m\u001b[38;5;241;43m*\u001b[39;49m\u001b[38;5;241;43m*\u001b[39;49m\u001b[43mkwargs\u001b[49m\u001b[43m)\u001b[49m\n\u001b[1;32m    356\u001b[0m \u001b[38;5;28;01mreturn\u001b[39;00m model\n",
      "File \u001b[0;32m~/miniconda3/lib/python3.8/site-packages/timm/models/helpers.py:531\u001b[0m, in \u001b[0;36mbuild_model_with_cfg\u001b[0;34m(model_cls, variant, pretrained, pretrained_cfg, model_cfg, feature_cfg, pretrained_strict, pretrained_filter_fn, pretrained_custom_load, kwargs_filter, **kwargs)\u001b[0m\n\u001b[1;32m    528\u001b[0m         feature_cfg[\u001b[38;5;124m'\u001b[39m\u001b[38;5;124mout_indices\u001b[39m\u001b[38;5;124m'\u001b[39m] \u001b[38;5;241m=\u001b[39m kwargs\u001b[38;5;241m.\u001b[39mpop(\u001b[38;5;124m'\u001b[39m\u001b[38;5;124mout_indices\u001b[39m\u001b[38;5;124m'\u001b[39m)\n\u001b[1;32m    530\u001b[0m \u001b[38;5;66;03m# Build the model\u001b[39;00m\n\u001b[0;32m--> 531\u001b[0m model \u001b[38;5;241m=\u001b[39m \u001b[43mmodel_cls\u001b[49m\u001b[43m(\u001b[49m\u001b[38;5;241;43m*\u001b[39;49m\u001b[38;5;241;43m*\u001b[39;49m\u001b[43mkwargs\u001b[49m\u001b[43m)\u001b[49m \u001b[38;5;28;01mif\u001b[39;00m model_cfg \u001b[38;5;129;01mis\u001b[39;00m \u001b[38;5;28;01mNone\u001b[39;00m \u001b[38;5;28;01melse\u001b[39;00m model_cls(cfg\u001b[38;5;241m=\u001b[39mmodel_cfg, \u001b[38;5;241m*\u001b[39m\u001b[38;5;241m*\u001b[39mkwargs)\n\u001b[1;32m    532\u001b[0m model\u001b[38;5;241m.\u001b[39mpretrained_cfg \u001b[38;5;241m=\u001b[39m pretrained_cfg\n\u001b[1;32m    533\u001b[0m model\u001b[38;5;241m.\u001b[39mdefault_cfg \u001b[38;5;241m=\u001b[39m model\u001b[38;5;241m.\u001b[39mpretrained_cfg  \u001b[38;5;66;03m# alias for backwards compat\u001b[39;00m\n",
      "File \u001b[0;32m~/miniconda3/lib/python3.8/site-packages/timm/models/beit.py:259\u001b[0m, in \u001b[0;36mBeit.__init__\u001b[0;34m(self, img_size, patch_size, in_chans, num_classes, global_pool, embed_dim, depth, num_heads, mlp_ratio, qkv_bias, drop_rate, attn_drop_rate, drop_path_rate, norm_layer, init_values, use_abs_pos_emb, use_rel_pos_bias, use_shared_rel_pos_bias, head_init_scale)\u001b[0m\n\u001b[1;32m    256\u001b[0m \u001b[38;5;28mself\u001b[39m\u001b[38;5;241m.\u001b[39mfc_norm \u001b[38;5;241m=\u001b[39m norm_layer(embed_dim) \u001b[38;5;28;01mif\u001b[39;00m use_fc_norm \u001b[38;5;28;01melse\u001b[39;00m \u001b[38;5;28;01mNone\u001b[39;00m\n\u001b[1;32m    257\u001b[0m \u001b[38;5;28mself\u001b[39m\u001b[38;5;241m.\u001b[39mhead \u001b[38;5;241m=\u001b[39m nn\u001b[38;5;241m.\u001b[39mLinear(embed_dim, num_classes) \u001b[38;5;28;01mif\u001b[39;00m num_classes \u001b[38;5;241m>\u001b[39m \u001b[38;5;241m0\u001b[39m \u001b[38;5;28;01melse\u001b[39;00m nn\u001b[38;5;241m.\u001b[39mIdentity()\n\u001b[0;32m--> 259\u001b[0m \u001b[38;5;28;43mself\u001b[39;49m\u001b[38;5;241;43m.\u001b[39;49m\u001b[43mapply\u001b[49m\u001b[43m(\u001b[49m\u001b[38;5;28;43mself\u001b[39;49m\u001b[38;5;241;43m.\u001b[39;49m\u001b[43m_init_weights\u001b[49m\u001b[43m)\u001b[49m\n\u001b[1;32m    260\u001b[0m \u001b[38;5;28;01mif\u001b[39;00m \u001b[38;5;28mself\u001b[39m\u001b[38;5;241m.\u001b[39mpos_embed \u001b[38;5;129;01mis\u001b[39;00m \u001b[38;5;129;01mnot\u001b[39;00m \u001b[38;5;28;01mNone\u001b[39;00m:\n\u001b[1;32m    261\u001b[0m     trunc_normal_(\u001b[38;5;28mself\u001b[39m\u001b[38;5;241m.\u001b[39mpos_embed, std\u001b[38;5;241m=\u001b[39m\u001b[38;5;241m.02\u001b[39m)\n",
      "File \u001b[0;32m~/miniconda3/lib/python3.8/site-packages/torch/nn/modules/module.py:728\u001b[0m, in \u001b[0;36mModule.apply\u001b[0;34m(self, fn)\u001b[0m\n\u001b[1;32m    693\u001b[0m \u001b[38;5;124mr\u001b[39m\u001b[38;5;124;03m\"\"\"Applies ``fn`` recursively to every submodule (as returned by ``.children()``)\u001b[39;00m\n\u001b[1;32m    694\u001b[0m \u001b[38;5;124;03mas well as self. Typical use includes initializing the parameters of a model\u001b[39;00m\n\u001b[1;32m    695\u001b[0m \u001b[38;5;124;03m(see also :ref:`nn-init-doc`).\u001b[39;00m\n\u001b[0;32m   (...)\u001b[0m\n\u001b[1;32m    725\u001b[0m \n\u001b[1;32m    726\u001b[0m \u001b[38;5;124;03m\"\"\"\u001b[39;00m\n\u001b[1;32m    727\u001b[0m \u001b[38;5;28;01mfor\u001b[39;00m module \u001b[38;5;129;01min\u001b[39;00m \u001b[38;5;28mself\u001b[39m\u001b[38;5;241m.\u001b[39mchildren():\n\u001b[0;32m--> 728\u001b[0m     \u001b[43mmodule\u001b[49m\u001b[38;5;241;43m.\u001b[39;49m\u001b[43mapply\u001b[49m\u001b[43m(\u001b[49m\u001b[43mfn\u001b[49m\u001b[43m)\u001b[49m\n\u001b[1;32m    729\u001b[0m fn(\u001b[38;5;28mself\u001b[39m)\n\u001b[1;32m    730\u001b[0m \u001b[38;5;28;01mreturn\u001b[39;00m \u001b[38;5;28mself\u001b[39m\n",
      "File \u001b[0;32m~/miniconda3/lib/python3.8/site-packages/torch/nn/modules/module.py:728\u001b[0m, in \u001b[0;36mModule.apply\u001b[0;34m(self, fn)\u001b[0m\n\u001b[1;32m    693\u001b[0m \u001b[38;5;124mr\u001b[39m\u001b[38;5;124;03m\"\"\"Applies ``fn`` recursively to every submodule (as returned by ``.children()``)\u001b[39;00m\n\u001b[1;32m    694\u001b[0m \u001b[38;5;124;03mas well as self. Typical use includes initializing the parameters of a model\u001b[39;00m\n\u001b[1;32m    695\u001b[0m \u001b[38;5;124;03m(see also :ref:`nn-init-doc`).\u001b[39;00m\n\u001b[0;32m   (...)\u001b[0m\n\u001b[1;32m    725\u001b[0m \n\u001b[1;32m    726\u001b[0m \u001b[38;5;124;03m\"\"\"\u001b[39;00m\n\u001b[1;32m    727\u001b[0m \u001b[38;5;28;01mfor\u001b[39;00m module \u001b[38;5;129;01min\u001b[39;00m \u001b[38;5;28mself\u001b[39m\u001b[38;5;241m.\u001b[39mchildren():\n\u001b[0;32m--> 728\u001b[0m     \u001b[43mmodule\u001b[49m\u001b[38;5;241;43m.\u001b[39;49m\u001b[43mapply\u001b[49m\u001b[43m(\u001b[49m\u001b[43mfn\u001b[49m\u001b[43m)\u001b[49m\n\u001b[1;32m    729\u001b[0m fn(\u001b[38;5;28mself\u001b[39m)\n\u001b[1;32m    730\u001b[0m \u001b[38;5;28;01mreturn\u001b[39;00m \u001b[38;5;28mself\u001b[39m\n",
      "    \u001b[0;31m[... skipping similar frames: Module.apply at line 728 (1 times)]\u001b[0m\n",
      "File \u001b[0;32m~/miniconda3/lib/python3.8/site-packages/torch/nn/modules/module.py:728\u001b[0m, in \u001b[0;36mModule.apply\u001b[0;34m(self, fn)\u001b[0m\n\u001b[1;32m    693\u001b[0m \u001b[38;5;124mr\u001b[39m\u001b[38;5;124;03m\"\"\"Applies ``fn`` recursively to every submodule (as returned by ``.children()``)\u001b[39;00m\n\u001b[1;32m    694\u001b[0m \u001b[38;5;124;03mas well as self. Typical use includes initializing the parameters of a model\u001b[39;00m\n\u001b[1;32m    695\u001b[0m \u001b[38;5;124;03m(see also :ref:`nn-init-doc`).\u001b[39;00m\n\u001b[0;32m   (...)\u001b[0m\n\u001b[1;32m    725\u001b[0m \n\u001b[1;32m    726\u001b[0m \u001b[38;5;124;03m\"\"\"\u001b[39;00m\n\u001b[1;32m    727\u001b[0m \u001b[38;5;28;01mfor\u001b[39;00m module \u001b[38;5;129;01min\u001b[39;00m \u001b[38;5;28mself\u001b[39m\u001b[38;5;241m.\u001b[39mchildren():\n\u001b[0;32m--> 728\u001b[0m     \u001b[43mmodule\u001b[49m\u001b[38;5;241;43m.\u001b[39;49m\u001b[43mapply\u001b[49m\u001b[43m(\u001b[49m\u001b[43mfn\u001b[49m\u001b[43m)\u001b[49m\n\u001b[1;32m    729\u001b[0m fn(\u001b[38;5;28mself\u001b[39m)\n\u001b[1;32m    730\u001b[0m \u001b[38;5;28;01mreturn\u001b[39;00m \u001b[38;5;28mself\u001b[39m\n",
      "File \u001b[0;32m~/miniconda3/lib/python3.8/site-packages/torch/nn/modules/module.py:729\u001b[0m, in \u001b[0;36mModule.apply\u001b[0;34m(self, fn)\u001b[0m\n\u001b[1;32m    727\u001b[0m \u001b[38;5;28;01mfor\u001b[39;00m module \u001b[38;5;129;01min\u001b[39;00m \u001b[38;5;28mself\u001b[39m\u001b[38;5;241m.\u001b[39mchildren():\n\u001b[1;32m    728\u001b[0m     module\u001b[38;5;241m.\u001b[39mapply(fn)\n\u001b[0;32m--> 729\u001b[0m \u001b[43mfn\u001b[49m\u001b[43m(\u001b[49m\u001b[38;5;28;43mself\u001b[39;49m\u001b[43m)\u001b[49m\n\u001b[1;32m    730\u001b[0m \u001b[38;5;28;01mreturn\u001b[39;00m \u001b[38;5;28mself\u001b[39m\n",
      "File \u001b[0;32m~/miniconda3/lib/python3.8/site-packages/timm/models/beit.py:280\u001b[0m, in \u001b[0;36mBeit._init_weights\u001b[0;34m(self, m)\u001b[0m\n\u001b[1;32m    278\u001b[0m \u001b[38;5;28;01mdef\u001b[39;00m \u001b[38;5;21m_init_weights\u001b[39m(\u001b[38;5;28mself\u001b[39m, m):\n\u001b[1;32m    279\u001b[0m     \u001b[38;5;28;01mif\u001b[39;00m \u001b[38;5;28misinstance\u001b[39m(m, nn\u001b[38;5;241m.\u001b[39mLinear):\n\u001b[0;32m--> 280\u001b[0m         \u001b[43mtrunc_normal_\u001b[49m\u001b[43m(\u001b[49m\u001b[43mm\u001b[49m\u001b[38;5;241;43m.\u001b[39;49m\u001b[43mweight\u001b[49m\u001b[43m,\u001b[49m\u001b[43m \u001b[49m\u001b[43mstd\u001b[49m\u001b[38;5;241;43m=\u001b[39;49m\u001b[38;5;241;43m.02\u001b[39;49m\u001b[43m)\u001b[49m\n\u001b[1;32m    281\u001b[0m         \u001b[38;5;28;01mif\u001b[39;00m \u001b[38;5;28misinstance\u001b[39m(m, nn\u001b[38;5;241m.\u001b[39mLinear) \u001b[38;5;129;01mand\u001b[39;00m m\u001b[38;5;241m.\u001b[39mbias \u001b[38;5;129;01mis\u001b[39;00m \u001b[38;5;129;01mnot\u001b[39;00m \u001b[38;5;28;01mNone\u001b[39;00m:\n\u001b[1;32m    282\u001b[0m             nn\u001b[38;5;241m.\u001b[39minit\u001b[38;5;241m.\u001b[39mconstant_(m\u001b[38;5;241m.\u001b[39mbias, \u001b[38;5;241m0\u001b[39m)\n",
      "File \u001b[0;32m~/miniconda3/lib/python3.8/site-packages/timm/models/layers/weight_init.py:67\u001b[0m, in \u001b[0;36mtrunc_normal_\u001b[0;34m(tensor, mean, std, a, b)\u001b[0m\n\u001b[1;32m     44\u001b[0m \u001b[38;5;28;01mdef\u001b[39;00m \u001b[38;5;21mtrunc_normal_\u001b[39m(tensor, mean\u001b[38;5;241m=\u001b[39m\u001b[38;5;241m0.\u001b[39m, std\u001b[38;5;241m=\u001b[39m\u001b[38;5;241m1.\u001b[39m, a\u001b[38;5;241m=\u001b[39m\u001b[38;5;241m-\u001b[39m\u001b[38;5;241m2.\u001b[39m, b\u001b[38;5;241m=\u001b[39m\u001b[38;5;241m2.\u001b[39m):\n\u001b[1;32m     45\u001b[0m     \u001b[38;5;66;03m# type: (Tensor, float, float, float, float) -> Tensor\u001b[39;00m\n\u001b[1;32m     46\u001b[0m     \u001b[38;5;124mr\u001b[39m\u001b[38;5;124;03m\"\"\"Fills the input Tensor with values drawn from a truncated\u001b[39;00m\n\u001b[1;32m     47\u001b[0m \u001b[38;5;124;03m    normal distribution. The values are effectively drawn from the\u001b[39;00m\n\u001b[1;32m     48\u001b[0m \u001b[38;5;124;03m    normal distribution :math:`\\mathcal{N}(\\text{mean}, \\text{std}^2)`\u001b[39;00m\n\u001b[0;32m   (...)\u001b[0m\n\u001b[1;32m     65\u001b[0m \u001b[38;5;124;03m        >>> nn.init.trunc_normal_(w)\u001b[39;00m\n\u001b[1;32m     66\u001b[0m \u001b[38;5;124;03m    \"\"\"\u001b[39;00m\n\u001b[0;32m---> 67\u001b[0m     \u001b[38;5;28;01mreturn\u001b[39;00m \u001b[43m_no_grad_trunc_normal_\u001b[49m\u001b[43m(\u001b[49m\u001b[43mtensor\u001b[49m\u001b[43m,\u001b[49m\u001b[43m \u001b[49m\u001b[43mmean\u001b[49m\u001b[43m,\u001b[49m\u001b[43m \u001b[49m\u001b[43mstd\u001b[49m\u001b[43m,\u001b[49m\u001b[43m \u001b[49m\u001b[43ma\u001b[49m\u001b[43m,\u001b[49m\u001b[43m \u001b[49m\u001b[43mb\u001b[49m\u001b[43m)\u001b[49m\n",
      "File \u001b[0;32m~/miniconda3/lib/python3.8/site-packages/timm/models/layers/weight_init.py:29\u001b[0m, in \u001b[0;36m_no_grad_trunc_normal_\u001b[0;34m(tensor, mean, std, a, b)\u001b[0m\n\u001b[1;32m     25\u001b[0m u \u001b[38;5;241m=\u001b[39m norm_cdf((b \u001b[38;5;241m-\u001b[39m mean) \u001b[38;5;241m/\u001b[39m std)\n\u001b[1;32m     27\u001b[0m \u001b[38;5;66;03m# Uniformly fill tensor with values from [l, u], then translate to\u001b[39;00m\n\u001b[1;32m     28\u001b[0m \u001b[38;5;66;03m# [2l-1, 2u-1].\u001b[39;00m\n\u001b[0;32m---> 29\u001b[0m \u001b[43mtensor\u001b[49m\u001b[38;5;241;43m.\u001b[39;49m\u001b[43muniform_\u001b[49m\u001b[43m(\u001b[49m\u001b[38;5;241;43m2\u001b[39;49m\u001b[43m \u001b[49m\u001b[38;5;241;43m*\u001b[39;49m\u001b[43m \u001b[49m\u001b[43ml\u001b[49m\u001b[43m \u001b[49m\u001b[38;5;241;43m-\u001b[39;49m\u001b[43m \u001b[49m\u001b[38;5;241;43m1\u001b[39;49m\u001b[43m,\u001b[49m\u001b[43m \u001b[49m\u001b[38;5;241;43m2\u001b[39;49m\u001b[43m \u001b[49m\u001b[38;5;241;43m*\u001b[39;49m\u001b[43m \u001b[49m\u001b[43mu\u001b[49m\u001b[43m \u001b[49m\u001b[38;5;241;43m-\u001b[39;49m\u001b[43m \u001b[49m\u001b[38;5;241;43m1\u001b[39;49m\u001b[43m)\u001b[49m\n\u001b[1;32m     31\u001b[0m \u001b[38;5;66;03m# Use inverse cdf transform for normal distribution to get truncated\u001b[39;00m\n\u001b[1;32m     32\u001b[0m \u001b[38;5;66;03m# standard normal\u001b[39;00m\n\u001b[1;32m     33\u001b[0m tensor\u001b[38;5;241m.\u001b[39merfinv_()\n",
      "\u001b[0;31mKeyboardInterrupt\u001b[0m: "
     ]
    }
   ],
   "source": [
    "\n",
    "# timm==0.6.7\n",
    "# \n",
    "import numpy as np\n",
    "from torchvision.transforms import ToTensor\n",
    "from PIL import Image\n",
    "import torch\n",
    "\n",
    "from torchvision import transforms\n",
    "\n",
    "import os\n",
    "os.environ[\"http_proxy\"] = \"http://127.0.0.1:7890\"\n",
    "os.environ[\"https_proxy\"] = \"http://127.0.0.1:7890\"\n",
    "\n",
    "resize = transforms.Resize([384, 512])\n",
    "scale = 4\n",
    "\n",
    "test_image = 'C:/Users/tangjg/Desktop/08c774f20c984008882da2b8547850eb_skybox1_sami.jpg'\n",
    "\n",
    "DEVICE = \"cuda\" if torch.cuda.is_available() else \"cpu\"\n",
    "if DEVICE == \"cpu\":\n",
    "    print(\"WARNING: Running on CPU. This will be slow. Check your CUDA installation.\")\n",
    "\n",
    "\n",
    "def load_model():\n",
    "    # torch.hub.help(\"intel-isl/MiDaS\", \"DPT_BEiT_L_384\", force_reload=True) \n",
    "    model = torch.hub.load(\"isl-org/ZoeDepth\", \"ZoeD_NK\", pretrained=True)\n",
    "    model.to(DEVICE)\n",
    "    model.eval()\n",
    "    return model\n",
    "\n",
    "def InferImage(image_file):\n",
    "    image = Image.open(image_file)\n",
    "    origin_size = image.size\n",
    "    img = ToTensor()(image).to(DEVICE).unsqueeze_(0)\n",
    "    img.to(DEVICE)\n",
    "    \n",
    "    model = load_model()\n",
    "    model.cuda()\n",
    "    model.eval()\n",
    "    \n",
    "    with torch.no_grad():\n",
    "        out = model(img)\n",
    "        out_img = Image.fromarray(out['metric_depth'].squeeze().cpu().numpy())\n",
    "        out_img.resize(origin_size, Image.ANTIALIAS)\n",
    "        out_img.show()\n",
    "\n",
    "model = load_model()\n",
    "def inferImageAndCompare(idx, model):\n",
    "    rgb_path = f'/root/EvoEnc/r2r_split/{idx}/rgb'\n",
    "    out_path = f'/root/EvoEnc/r2r_split/{idx}/depth'\n",
    "    os.makedirs(out_path, exist_ok=True)\n",
    "\n",
    "    rgb_images = os.listdir(rgb_path)\n",
    "    for rgb_img in rgb_images:\n",
    "        path = os.path.join(rgb_path, rgb_img)\n",
    "        \n",
    "        image = Image.open(path)\n",
    "        origin_size = image.size\n",
    "        origin_max = np.array(image).max()\n",
    "        \n",
    "        depth_pil = model.infer_pil(image, output_type='pil')\n",
    "        \n",
    "        # resize并进行scale缩放，与GT尺度相同\n",
    "        depth_pil = depth_pil.resize(origin_size, Image.LANCZOS)\n",
    "        out_arr = np.array(depth_pil)\n",
    "        out_arr = out_arr*scale # multiplied by 4, assume it is accurate absolute depth*1000\n",
    "        depth_pil = Image.fromarray(out_arr.astype(np.uint16))\n",
    "        \n",
    "        depth_pil.save(os.path.join(out_path, rgb_img.replace(\".jpg\",\".png\")))\n",
    "for i in tqdm(range(408)):\n",
    "    inferImageAndCompare(i, model)"
   ]
  },
  {
   "cell_type": "code",
   "execution_count": 14,
   "metadata": {},
   "outputs": [
    {
     "data": {
      "text/plain": [
       "1128"
      ]
     },
     "execution_count": 14,
     "metadata": {},
     "output_type": "execute_result"
    }
   ],
   "source": [
    "out_arr.max()"
   ]
  },
  {
   "cell_type": "code",
   "execution_count": 30,
   "metadata": {},
   "outputs": [],
   "source": [
    "a = np.array(Image.open(\"/root/EvoEnc/r2r_split/0/depth/3_0.png\"))"
   ]
  },
  {
   "cell_type": "code",
   "execution_count": 31,
   "metadata": {},
   "outputs": [
    {
     "data": {
      "text/plain": [
       "6432"
      ]
     },
     "execution_count": 31,
     "metadata": {},
     "output_type": "execute_result"
    }
   ],
   "source": [
    "a.max()"
   ]
  },
  {
   "cell_type": "code",
   "execution_count": 32,
   "metadata": {},
   "outputs": [
    {
     "data": {
      "text/plain": [
       "<matplotlib.image.AxesImage at 0x7fb0e63ddbe0>"
      ]
     },
     "execution_count": 32,
     "metadata": {},
     "output_type": "execute_result"
    },
    {
     "data": {
      "image/png": "[encoded data removed]",
      "text/plain": [
       "<Figure size 432x288 with 1 Axes>"
      ]
     },
     "metadata": {
      "needs_background": "light"
     },
     "output_type": "display_data"
    }
   ],
   "source": [
    "plt.imshow(a.astype(float))"
   ]
  }
 ],
 "metadata": {
  "kernelspec": {
   "display_name": "base",
   "language": "python",
   "name": "python3"
  },
  "language_info": {
   "codemirror_mode": {
    "name": "ipython",
    "version": 3
   },
   "file_extension": ".py",
   "mimetype": "text/x-python",
   "name": "python",
   "nbconvert_exporter": "python",
   "pygments_lexer": "ipython3",
   "version": "3.8.17"
  }
 },
 "nbformat": 4,
 "nbformat_minor": 2
}
