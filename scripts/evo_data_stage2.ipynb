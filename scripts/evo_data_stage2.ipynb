{
 "cells": [
  {
   "cell_type": "code",
   "execution_count": 1,
   "metadata": {},
   "outputs": [],
   "source": [
    "import os\n",
    "from pathlib import Path\n",
    "from PIL import Image, UnidentifiedImageError\n",
    "from tqdm.notebook import tqdm\n",
    "import matplotlib.pyplot as plt\n",
    "import shutil\n",
    "import random\n",
    "import string\n",
    "import gzip\n",
    "import json\n",
    "def path_replace(path, old, new):\n",
    "    return Path(str(path).replace(str(old), str(new)))\n",
    "def crop_and_resize(img, target_size, mode=\"center\"):\n",
    "    \"\"\"Crop to square and resize to target_size\n",
    "    mode:\n",
    "      center: center crop\n",
    "      left: keep left or top most pixels\n",
    "      right: keep right or bottom most pixels\n",
    "      random: random crop\n",
    "    \"\"\"\n",
    "    crop_size = min(img.size)\n",
    "    width, height = img.size\n",
    "    if width==target_size and height==target_size:\n",
    "        return img\n",
    "    left = (width - crop_size)/2\n",
    "    top = (height - crop_size)/2\n",
    "    right = (width + crop_size)/2\n",
    "    bottom = (height + crop_size)/2\n",
    "    if mode == \"center\":\n",
    "        img = img.crop((left, top, right, bottom))\n",
    "    elif mode == \"left\":\n",
    "        img = img.crop((0, 0, right-left, bottom-top))\n",
    "    elif mode == \"right\":\n",
    "        img = img.crop((width-right+left, height-bottom+top, width, height))\n",
    "    elif mode == \"random\":\n",
    "        left_r = random.randint(0, width-right+left)\n",
    "        top_r = random.randint(0, height-bottom+top)\n",
    "        img = img.crop((left_r, top_r, left_r+right-left, top_r+bottom-top))\n",
    "    else:\n",
    "        raise AssertionError(\"Wrong mode\")\n",
    "    img = img.resize((target_size, target_size),resample=Image.Resampling.LANCZOS)\n",
    "    return img\n",
    "def random_string(n):\n",
    "    return ''.join(random.sample(string.ascii_letters + string.digits, n))"
   ]
  },
  {
   "cell_type": "markdown",
   "metadata": {},
   "source": [
    "# C4 text\n",
    "\n",
    "7126345 train text, 45576 val text"
   ]
  },
  {
   "cell_type": "code",
   "execution_count": 3,
   "metadata": {},
   "outputs": [
    {
     "data": {
      "application/vnd.jupyter.widget-view+json": {
       "model_id": "c50c71937e3249d59b98607273ca621f",
       "version_major": 2,
       "version_minor": 0
      },
      "text/plain": [
       "  0%|          | 0/20 [00:00<?, ?it/s]"
      ]
     },
     "metadata": {},
     "output_type": "display_data"
    },
    {
     "name": "stdout",
     "output_type": "stream",
     "text": [
      "7126345\n"
     ]
    }
   ],
   "source": [
    "# train split\n",
    "FOLDER_IN = Path(\"/root/autodl-tmp/c4/en\")\n",
    "FOLDER_OUT = Path(\"/root/EvoEnc/data/stage2/text-c4/train\")\n",
    "os.makedirs(FOLDER_OUT,exist_ok=True)\n",
    "START = 100\n",
    "END =  120\n",
    "files = sorted(list(FOLDER_IN.glob(\"c4-train*.json.gz\")))\n",
    "cnt = 0\n",
    "for i in tqdm(range(START,END)):\n",
    "    with gzip.open(files[i], \"r\") as f:\n",
    "        for line in f.readlines():\n",
    "            text = json.loads(line)[\"text\"].replace(\"\\n\",\" \").strip()\n",
    "            path = FOLDER_OUT / (\"%08d.txt\"%(cnt))\n",
    "            with open(path, \"w\") as f:\n",
    "                f.write(text)\n",
    "            cnt += 1\n",
    "print(cnt)"
   ]
  },
  {
   "cell_type": "code",
   "execution_count": 4,
   "metadata": {},
   "outputs": [
    {
     "data": {
      "application/vnd.jupyter.widget-view+json": {
       "model_id": "67e877e5543444178e8c4b5836c4aade",
       "version_major": 2,
       "version_minor": 0
      },
      "text/plain": [
       "  0%|          | 0/1 [00:00<?, ?it/s]"
      ]
     },
     "metadata": {},
     "output_type": "display_data"
    },
    {
     "name": "stdout",
     "output_type": "stream",
     "text": [
      "45576\n"
     ]
    }
   ],
   "source": [
    "# validation split\n",
    "FOLDER_IN = Path(\"/root/autodl-tmp/c4/en\")\n",
    "FOLDER_OUT = Path(\"/root/EvoEnc/data/stage2/text-c4/val\")\n",
    "os.makedirs(FOLDER_OUT,exist_ok=True)\n",
    "START = 2\n",
    "END =  3\n",
    "files = sorted(list(FOLDER_IN.glob(\"c4-val*.json.gz\")))\n",
    "cnt = 0\n",
    "for i in tqdm(range(START,END)):\n",
    "    with gzip.open(files[i], \"r\") as f:\n",
    "        for line in f.readlines():\n",
    "            text = json.loads(line)[\"text\"].replace(\"\\n\",\" \").strip()\n",
    "            path = FOLDER_OUT / (\"%08d.txt\"%(cnt))\n",
    "            with open(path, \"w\") as f:\n",
    "                f.write(text)\n",
    "            cnt += 1\n",
    "print(cnt)"
   ]
  },
  {
   "cell_type": "code",
   "execution_count": 9,
   "metadata": {},
   "outputs": [
    {
     "name": "stdout",
     "output_type": "stream",
     "text": [
      "/root/EvoEnc/data/stage2/text-c4/val/00000000.txt\n",
      "This was the very first recipe I ever made by myself. I was about 11 years old. Yes I have been cooking pretty much my whole life, remember this picture? You can read about it here. Anyways, I was an interesting child. Normal children ask for toys for Christmas. Not me. I asked for a Mixer. Yeah, like a kitchen aid. And no, I didn't actually get a Kitchen Aid, I got a cheap knock-off. But I didn't care. I was thrilled about my new mixer, and ended up making these cookies to test it out! I grew up eating these cookies, especially during Christmas time. They are basically a shortbread cookie, and they are delicious! I actually made this dough a while back and froze some cookie dough to see if they would turn out. It turns out that it freezes great, and I just had to cook them a little bit longer and they were just as delicious! PS: I still don't own a Kitchen Aid mixer. These are my all time favorite cookie! They're a must on our Christmas platters (and any occasion that calls for cookies!) Your photo is just lovely! Yummy my favorite! Hint Hint to the hubby. These are one of my favorites!! I once got a jig saw for Christmas... i'm not sure if I wanted it or if my dad told me I wanted it!! haha! I love the plate and presentation!! Thanks for linking up to 2 Maids a Baking!\n"
     ]
    }
   ],
   "source": [
    "# check\n",
    "FOLDER_OUT = Path(\"/root/EvoEnc/data/stage2/text-c4/val\")\n",
    "files = sorted(list(FOLDER_OUT.glob(\"*.txt\")))\n",
    "print(files[0])\n",
    "with open(files[4], \"r\") as f:\n",
    "    print(f.read())"
   ]
  },
  {
   "cell_type": "markdown",
   "metadata": {},
   "source": [
    "# C4 sub\n",
    "\n",
    "7126346 train sub, 45576 val sub"
   ]
  },
  {
   "cell_type": "code",
   "execution_count": 6,
   "metadata": {},
   "outputs": [
    {
     "data": {
      "application/vnd.jupyter.widget-view+json": {
       "model_id": "45c51b02ce5b4b7083dfcf6dadce8471",
       "version_major": 2,
       "version_minor": 0
      },
      "text/plain": [
       "  0%|          | 0/20 [00:00<?, ?it/s]"
      ]
     },
     "metadata": {},
     "output_type": "display_data"
    },
    {
     "name": "stdout",
     "output_type": "stream",
     "text": [
      "7126346\n"
     ]
    }
   ],
   "source": [
    "from nltk.tokenize import sent_tokenize\n",
    "# train split\n",
    "FOLDER_IN = Path(\"/root/autodl-tmp/c4/en\")\n",
    "FOLDER_OUT = Path(\"/root/EvoEnc/data/stage2/sub-c4/train\")\n",
    "os.makedirs(FOLDER_OUT,exist_ok=True)\n",
    "START = 120\n",
    "END =  140\n",
    "files = sorted(list(FOLDER_IN.glob(\"c4-train*.json.gz\")))\n",
    "cnt = 0\n",
    "for i in tqdm(range(START,END)):\n",
    "    with gzip.open(files[i], \"r\") as f:\n",
    "        for line in f.readlines():\n",
    "            text = json.loads(line)[\"text\"].replace(\"\\n\",\" \").strip()\n",
    "            path = FOLDER_OUT / (\"%08d.txt\"%(cnt))\n",
    "            with open(path, \"w\") as f:\n",
    "                f.write(\"\\n\".join(sent_tokenize(text)))\n",
    "            cnt += 1\n",
    "print(cnt)"
   ]
  },
  {
   "cell_type": "code",
   "execution_count": 7,
   "metadata": {},
   "outputs": [
    {
     "data": {
      "application/vnd.jupyter.widget-view+json": {
       "model_id": "e0dcd84a2a8749e6aff5f7f9660f72c5",
       "version_major": 2,
       "version_minor": 0
      },
      "text/plain": [
       "  0%|          | 0/1 [00:00<?, ?it/s]"
      ]
     },
     "metadata": {},
     "output_type": "display_data"
    },
    {
     "name": "stdout",
     "output_type": "stream",
     "text": [
      "45576\n"
     ]
    }
   ],
   "source": [
    "# validation split\n",
    "FOLDER_IN = Path(\"/root/autodl-tmp/c4/en\")\n",
    "FOLDER_OUT = Path(\"/root/EvoEnc/data/stage2/sub-c4/val\")\n",
    "os.makedirs(FOLDER_OUT,exist_ok=True)\n",
    "START = 3\n",
    "END =  4\n",
    "files = sorted(list(FOLDER_IN.glob(\"c4-val*.json.gz\")))\n",
    "cnt = 0\n",
    "for i in tqdm(range(START,END)):\n",
    "    with gzip.open(files[i], \"r\") as f:\n",
    "        for line in f.readlines():\n",
    "            text = json.loads(line)[\"text\"].replace(\"\\n\",\" \").strip()\n",
    "            path = FOLDER_OUT / (\"%08d.txt\"%(cnt))\n",
    "            with open(path, \"w\") as f:\n",
    "                f.write(\"\\n\".join(sent_tokenize(text)))\n",
    "            cnt += 1\n",
    "print(cnt)"
   ]
  },
  {
   "cell_type": "code",
   "execution_count": 8,
   "metadata": {},
   "outputs": [
    {
     "name": "stdout",
     "output_type": "stream",
     "text": [
      "/root/EvoEnc/data/stage2/sub-c4/val/00000000.txt\n",
      "JAMES RIVER COAL COMPANY BANKRUPTCY RECOVERING INVESTOR LOSSES | Goodman & Nekvasil, P.A.\n",
      "Goodman & Nekvasil, P.A., a Clearwater, Florida, law firm with a national practice representing victimized investors, continues to investigate brokerage firms that placed elderly retirees and other conservative investors in high-risk oil and gas related investments, including JAMES RIVER COAL COMPANY.\n",
      "Goodman & Nekvasil, P.A., has filed hundreds of cases against brokerage firms selling high-risk investments, including JAMES RIVER COAL COMPANY.\n",
      "Goodman & Nekvasil, P.A., has recovered hundreds of millions of dollars on behalf of investors victimized by these investments.\n",
      "We allege in these cases that these investment recommendations were unsuitable for our clients in view of their financial situation, needs and investment objectives.\n",
      "All our cases are handled on a purely contingency fee basis.\n",
      "We would like to discuss the possibility of your retaining our firm to represent you in an arbitration action.\n",
      "There is no charge for an evaluation of your case.\n",
      "Further, we handle our cases on a contingency fee basis.\n",
      "This means that unless we recover money for you, we charge no attorney’s fee.\n",
      "Unless you recover any money, you pay us nothing, not even the costs and expenses which the firm will advance on your behalf.\n",
      "Finally, the filing of such a case should not affect your rights as a creditor in the JAMES RIVER COAL COMPANY bankruptcy or your ownership of these investments in any way.\n",
      "If you incurred losses on your investment in JAMES RIVER COAL COMPANY and/or other high-risk investments and would like your case evaluated by a securities attorney (again, there is no charge for an evaluation and all cases are handled on a purely contingency fee basis), please contact us.\n"
     ]
    }
   ],
   "source": [
    "# check\n",
    "FOLDER_OUT = Path(\"/root/EvoEnc/data/stage2/sub-c4/val\")\n",
    "files = sorted(list(FOLDER_OUT.glob(\"*.txt\")))\n",
    "print(files[0])\n",
    "with open(files[4], \"r\") as f:\n",
    "    print(f.read())"
   ]
  }
 ],
 "metadata": {
  "kernelspec": {
   "display_name": "base",
   "language": "python",
   "name": "python3"
  },
  "language_info": {
   "codemirror_mode": {
    "name": "ipython",
    "version": 3
   },
   "file_extension": ".py",
   "mimetype": "text/x-python",
   "name": "python",
   "nbconvert_exporter": "python",
   "pygments_lexer": "ipython3",
   "version": "3.8.17"
  }
 },
 "nbformat": 4,
 "nbformat_minor": 2
}
