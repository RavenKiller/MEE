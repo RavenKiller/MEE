{
 "cells": [
  {
   "cell_type": "code",
   "execution_count": 25,
   "metadata": {},
   "outputs": [],
   "source": [
    "import json\n",
    "import gzip\n",
    "import os\n",
    "from pathlib import Path\n",
    "import copy\n",
    "import nltk\n",
    "from tqdm.notebook import tqdm\n",
    "from nltk.tokenize import sent_tokenize\n",
    "from transformers import (\n",
    "    AutoProcessor,\n",
    "    CLIPImageProcessor,\n",
    "    BertTokenizerFast,\n",
    "    RobertaTokenizer,\n",
    "    AutoTokenizer,\n",
    "    AutoImageProcessor,\n",
    ")\n",
    "os.environ[\"http_proxy\"] = \"http://127.0.0.1:7890\"\n",
    "os.environ[\"https_proxy\"] = \"http://127.0.0.1:7890\"\n",
    "text_processor = RobertaTokenizer.from_pretrained(\n",
    "    \"roberta-base\"\n",
    ")\n",
    "sub_processor = AutoTokenizer.from_pretrained(\n",
    "    \"sentence-transformers/all-mpnet-base-v2\"\n",
    ")\n",
    "RAND_MIN = 25\n",
    "RAND_MAX = 100000\n",
    "MIN_DEPTH = 0.0\n",
    "MAX_DEPTH = 10.0\n",
    "DEPTH_SCALE = 1000.0\n",
    "LEN = 256\n",
    "PAD_IDX = 1\n",
    "SUB_PAD_IDX = 1\n",
    "SUB_LEN = 50\n",
    "SUB_NUM = 12\n",
    "EMPTY_SUB = [SUB_PAD_IDX] * SUB_LEN"
   ]
  },
  {
   "cell_type": "code",
   "execution_count": 32,
   "metadata": {},
   "outputs": [
    {
     "data": {
      "application/vnd.jupyter.widget-view+json": {
       "model_id": "5e68a299fb7b40a6bbf84f38cce01c32",
       "version_major": 2,
       "version_minor": 0
      },
      "text/plain": [
       "train:   0%|          | 0/10819 [00:00<?, ?it/s]"
      ]
     },
     "metadata": {},
     "output_type": "display_data"
    },
    {
     "data": {
      "application/vnd.jupyter.widget-view+json": {
       "model_id": "98cca523a4154a8f90a826a15582c2cc",
       "version_major": 2,
       "version_minor": 0
      },
      "text/plain": [
       "val_seen:   0%|          | 0/778 [00:00<?, ?it/s]"
      ]
     },
     "metadata": {},
     "output_type": "display_data"
    },
    {
     "data": {
      "application/vnd.jupyter.widget-view+json": {
       "model_id": "7226737ff42d47ed897c3a984ad2aec3",
       "version_major": 2,
       "version_minor": 0
      },
      "text/plain": [
       "val_unseen:   0%|          | 0/1839 [00:00<?, ?it/s]"
      ]
     },
     "metadata": {},
     "output_type": "display_data"
    },
    {
     "data": {
      "application/vnd.jupyter.widget-view+json": {
       "model_id": "8c720b3379f0482296158463263c6e44",
       "version_major": 2,
       "version_minor": 0
      },
      "text/plain": [
       "test:   0%|          | 0/3408 [00:00<?, ?it/s]"
      ]
     },
     "metadata": {},
     "output_type": "display_data"
    },
    {
     "data": {
      "application/vnd.jupyter.widget-view+json": {
       "model_id": "f21f46aa426641ca95232ee4c9f1dcd0",
       "version_major": 2,
       "version_minor": 0
      },
      "text/plain": [
       "joint_train_envdrop:   0%|          | 0/157232 [00:00<?, ?it/s]"
      ]
     },
     "metadata": {},
     "output_type": "display_data"
    },
    {
     "data": {
      "application/vnd.jupyter.widget-view+json": {
       "model_id": "fc68de3e337642fda5bb736fa988914d",
       "version_major": 2,
       "version_minor": 0
      },
      "text/plain": [
       "envdrop:   0%|          | 0/146413 [00:00<?, ?it/s]"
      ]
     },
     "metadata": {},
     "output_type": "display_data"
    }
   ],
   "source": [
    "# meev1, FSASub\n",
    "# meev2, sent_tokenize\n",
    "FOLDER = Path(\"/root/EvoEnc/data/datasets/R2R_VLNCE_NRSub_T\")\n",
    "splits = [\"train\",\"val_seen\",\"val_unseen\",\"test\",\"joint_train_envdrop\",\"envdrop\"]\n",
    "for split in splits:\n",
    "    raw_file = FOLDER / split / \"{}_sub.json.gz\".format(split)\n",
    "    new_file = FOLDER / split / \"{}_meev1.json.gz\".format(split)\n",
    "    with gzip.open(raw_file, \"r\") as f:\n",
    "        data = json.loads(f.read())\n",
    "    episodes = data[\"episodes\"]\n",
    "    new_data = copy.deepcopy(data)\n",
    "    new_episodes = []\n",
    "    for ep in tqdm(episodes, desc=split):\n",
    "        inst = ep[\"instruction\"][\"instruction_text\"]\n",
    "        sub = ep[\"sub_instruction\"]\n",
    "\n",
    "        inst_ids = text_processor(inst, padding=\"max_length\", truncation=True, max_length=LEN).input_ids\n",
    "        ep[\"instruction\"][\"instruction_tokens\"] = inst_ids\n",
    "\n",
    "        sub_ids = sub_processor(sub, padding=\"max_length\", truncation=True, max_length=SUB_LEN).input_ids\n",
    "        if len(sub_ids)<SUB_NUM:\n",
    "            n = len(sub_ids)\n",
    "            for _ in range(SUB_NUM-n):\n",
    "                sub_ids.append(EMPTY_SUB)\n",
    "        else:\n",
    "            sub_ids = sub_ids[:SUB_NUM]\n",
    "        ep[\"sub_instruction_tokens\"] = sub_ids\n",
    "\n",
    "        new_episodes.append(ep)\n",
    "    new_data[\"episodes\"] = new_episodes\n",
    "    with gzip.open(new_file, \"w\") as f:\n",
    "        f.write(json.dumps(new_data).encode(\"utf-8\"))\n"
   ]
  },
  {
   "cell_type": "code",
   "execution_count": 33,
   "metadata": {},
   "outputs": [
    {
     "data": {
      "application/vnd.jupyter.widget-view+json": {
       "model_id": "d849e5513d4e4b6e85951d37e0401b6b",
       "version_major": 2,
       "version_minor": 0
      },
      "text/plain": [
       "train:   0%|          | 0/10819 [00:00<?, ?it/s]"
      ]
     },
     "metadata": {},
     "output_type": "display_data"
    },
    {
     "data": {
      "application/vnd.jupyter.widget-view+json": {
       "model_id": "faa88dcd45e74672b6ec145fbba4ba8d",
       "version_major": 2,
       "version_minor": 0
      },
      "text/plain": [
       "val_seen:   0%|          | 0/778 [00:00<?, ?it/s]"
      ]
     },
     "metadata": {},
     "output_type": "display_data"
    },
    {
     "data": {
      "application/vnd.jupyter.widget-view+json": {
       "model_id": "dd7d124af7f34faea7824a90c4e9176d",
       "version_major": 2,
       "version_minor": 0
      },
      "text/plain": [
       "val_unseen:   0%|          | 0/1839 [00:00<?, ?it/s]"
      ]
     },
     "metadata": {},
     "output_type": "display_data"
    },
    {
     "data": {
      "application/vnd.jupyter.widget-view+json": {
       "model_id": "e6c8f019c0724083bdfde1e565d4ad5b",
       "version_major": 2,
       "version_minor": 0
      },
      "text/plain": [
       "test:   0%|          | 0/3408 [00:00<?, ?it/s]"
      ]
     },
     "metadata": {},
     "output_type": "display_data"
    },
    {
     "data": {
      "application/vnd.jupyter.widget-view+json": {
       "model_id": "a387f2aa0a6b48119ae7a78599057d77",
       "version_major": 2,
       "version_minor": 0
      },
      "text/plain": [
       "joint_train_envdrop:   0%|          | 0/157232 [00:00<?, ?it/s]"
      ]
     },
     "metadata": {},
     "output_type": "display_data"
    },
    {
     "data": {
      "application/vnd.jupyter.widget-view+json": {
       "model_id": "e694556958d6406980f5a77c36b10365",
       "version_major": 2,
       "version_minor": 0
      },
      "text/plain": [
       "envdrop:   0%|          | 0/146413 [00:00<?, ?it/s]"
      ]
     },
     "metadata": {},
     "output_type": "display_data"
    }
   ],
   "source": [
    "# meev1, FSASub\n",
    "# meev2, sent_tokenize\n",
    "FOLDER = Path(\"/root/EvoEnc/data/datasets/R2R_VLNCE_NRSub_T\")\n",
    "splits = [\"train\",\"val_seen\",\"val_unseen\",\"test\",\"joint_train_envdrop\",\"envdrop\"]\n",
    "for split in splits:\n",
    "    raw_file = FOLDER / split / \"{}_sub.json.gz\".format(split)\n",
    "    new_file = FOLDER / split / \"{}_meev2.json.gz\".format(split)\n",
    "    with gzip.open(raw_file, \"r\") as f:\n",
    "        data = json.loads(f.read())\n",
    "    episodes = data[\"episodes\"]\n",
    "    new_data = copy.deepcopy(data)\n",
    "    new_episodes = []\n",
    "    for ep in tqdm(episodes, desc=split):\n",
    "        inst = ep[\"instruction\"][\"instruction_text\"]\n",
    "        # sub = ep[\"sub_instruction\"]\n",
    "        sub = sent_tokenize(inst)\n",
    "\n",
    "        inst_ids = text_processor(inst, padding=\"max_length\", truncation=True, max_length=LEN).input_ids\n",
    "        ep[\"instruction\"][\"instruction_tokens\"] = inst_ids\n",
    "\n",
    "        sub_ids = sub_processor(sub, padding=\"max_length\", truncation=True, max_length=SUB_LEN).input_ids\n",
    "        if len(sub_ids)<SUB_NUM:\n",
    "            n = len(sub_ids)\n",
    "            for _ in range(SUB_NUM-n):\n",
    "                sub_ids.append(EMPTY_SUB)\n",
    "        else:\n",
    "            sub_ids = sub_ids[:SUB_NUM]\n",
    "        ep[\"sub_instruction_tokens\"] = sub_ids\n",
    "\n",
    "        new_episodes.append(ep)\n",
    "    new_data[\"episodes\"] = new_episodes\n",
    "    with gzip.open(new_file, \"w\") as f:\n",
    "        f.write(json.dumps(new_data).encode(\"utf-8\"))\n"
   ]
  },
  {
   "cell_type": "code",
   "execution_count": 37,
   "metadata": {},
   "outputs": [
    {
     "data": {
      "text/plain": [
       "dict_keys(['instruction_text', 'instruction_tokens'])"
      ]
     },
     "execution_count": 37,
     "metadata": {},
     "output_type": "execute_result"
    }
   ],
   "source": [
    "new_data[\"episodes\"][0][\"instruction\"].keys()"
   ]
  },
  {
   "cell_type": "code",
   "execution_count": 23,
   "metadata": {},
   "outputs": [
    {
     "data": {
      "text/plain": [
       "{'input_ids': [[0, 30093, 198, 8, 1656, 62, 5, 16745, 4, 9693, 751, 8, 2067, 95, 235, 751, 5, 1883, 4, 1437, 2, 1, 1, 1, 1, 1, 1, 1, 1, 1, 1, 1, 1, 1, 1, 1, 1, 1, 1, 1, 1, 1, 1, 1, 1, 1, 1, 1, 1, 1, 1, 1, 1, 1, 1, 1, 1, 1, 1, 1, 1, 1, 1, 1, 1, 1, 1, 1, 1, 1, 1, 1, 1, 1, 1, 1, 1, 1, 1, 1, 1, 1, 1, 1, 1, 1, 1, 1, 1, 1, 1, 1, 1, 1, 1, 1, 1, 1, 1, 1, 1, 1, 1, 1, 1, 1, 1, 1, 1, 1, 1, 1, 1, 1, 1, 1, 1, 1, 1, 1, 1, 1, 1, 1, 1, 1, 1, 1, 1, 1, 1, 1, 1, 1, 1, 1, 1, 1, 1, 1, 1, 1, 1, 1, 1, 1, 1, 1, 1, 1, 1, 1, 1, 1, 1, 1, 1, 1, 1, 1, 1, 1, 1, 1, 1, 1, 1, 1, 1, 1, 1, 1, 1, 1, 1, 1, 1, 1, 1, 1, 1, 1, 1, 1, 1, 1, 1, 1, 1, 1, 1, 1, 1, 1, 1, 1, 1, 1, 1, 1, 1, 1, 1, 1, 1, 1, 1, 1, 1, 1, 1, 1, 1, 1, 1, 1, 1, 1, 1, 1, 1, 1, 1, 1, 1, 1, 1, 1, 1, 1, 1, 1, 1, 1, 1, 1, 1, 1, 1, 1, 1, 1, 1, 1, 1, 1, 1, 1, 1, 1, 1, 1, 1, 1, 1, 1]], 'attention_mask': [[1, 1, 1, 1, 1, 1, 1, 1, 1, 1, 1, 1, 1, 1, 1, 1, 1, 1, 1, 1, 1, 0, 0, 0, 0, 0, 0, 0, 0, 0, 0, 0, 0, 0, 0, 0, 0, 0, 0, 0, 0, 0, 0, 0, 0, 0, 0, 0, 0, 0, 0, 0, 0, 0, 0, 0, 0, 0, 0, 0, 0, 0, 0, 0, 0, 0, 0, 0, 0, 0, 0, 0, 0, 0, 0, 0, 0, 0, 0, 0, 0, 0, 0, 0, 0, 0, 0, 0, 0, 0, 0, 0, 0, 0, 0, 0, 0, 0, 0, 0, 0, 0, 0, 0, 0, 0, 0, 0, 0, 0, 0, 0, 0, 0, 0, 0, 0, 0, 0, 0, 0, 0, 0, 0, 0, 0, 0, 0, 0, 0, 0, 0, 0, 0, 0, 0, 0, 0, 0, 0, 0, 0, 0, 0, 0, 0, 0, 0, 0, 0, 0, 0, 0, 0, 0, 0, 0, 0, 0, 0, 0, 0, 0, 0, 0, 0, 0, 0, 0, 0, 0, 0, 0, 0, 0, 0, 0, 0, 0, 0, 0, 0, 0, 0, 0, 0, 0, 0, 0, 0, 0, 0, 0, 0, 0, 0, 0, 0, 0, 0, 0, 0, 0, 0, 0, 0, 0, 0, 0, 0, 0, 0, 0, 0, 0, 0, 0, 0, 0, 0, 0, 0, 0, 0, 0, 0, 0, 0, 0, 0, 0, 0, 0, 0, 0, 0, 0, 0, 0, 0, 0, 0, 0, 0, 0, 0, 0, 0, 0, 0, 0, 0, 0, 0, 0, 0]]}"
      ]
     },
     "execution_count": 23,
     "metadata": {},
     "output_type": "execute_result"
    }
   ],
   "source": [
    "text_processor([inst], padding=\"max_length\", truncation=True, max_length=LEN)"
   ]
  }
 ],
 "metadata": {
  "kernelspec": {
   "display_name": "base",
   "language": "python",
   "name": "python3"
  },
  "language_info": {
   "codemirror_mode": {
    "name": "ipython",
    "version": 3
   },
   "file_extension": ".py",
   "mimetype": "text/x-python",
   "name": "python",
   "nbconvert_exporter": "python",
   "pygments_lexer": "ipython3",
   "version": "3.8.17"
  }
 },
 "nbformat": 4,
 "nbformat_minor": 2
}
