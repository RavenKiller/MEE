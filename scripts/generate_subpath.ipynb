{
 "cells": [
  {
   "cell_type": "code",
   "execution_count": 4,
   "metadata": {},
   "outputs": [],
   "source": [
    "import json\n",
    "import pathlib\n",
    "import gzip\n",
    "import ast\n",
    "import clip\n",
    "import pickle\n",
    "from tqdm.notebook import tqdm\n",
    "import sys\n",
    "sys.path.append(\"/home/ubuntu/MLA/\")\n",
    "from habitat_extensions import maps\n",
    "import numpy as np\n",
    "def get_nearest_node(graph, current_position) -> str:\n",
    "    \"\"\"Determine the closest MP3D node to the agent's start position as given\n",
    "    by a [x,z] position vector.\n",
    "    Returns:\n",
    "        node ID\n",
    "    \"\"\"\n",
    "    nearest = None\n",
    "    dist = float(\"inf\")\n",
    "    current_position = np.take(current_position, (0, 2))\n",
    "    for node in graph:\n",
    "        node_pos = graph.nodes[node][\"position\"]\n",
    "        node_pos = np.take(node_pos, (0, 2))\n",
    "        cur_dist = np.linalg.norm(\n",
    "            np.array(node_pos) - np.array(current_position), ord=2\n",
    "        )\n",
    "        if cur_dist < dist:\n",
    "            dist = cur_dist\n",
    "            nearest = node\n",
    "    return nearest, dist\n",
    "def calc_dist(pos1, pos2):\n",
    "    pos1 = np.take(pos1, (0, 2))\n",
    "    pos2 = np.take(pos2, (0, 2))\n",
    "    cur_dist = np.linalg.norm(\n",
    "        np.array(pos1) - np.array(pos2), ord=2\n",
    "    )\n",
    "    return cur_dist\n",
    "\n"
   ]
  },
  {
   "cell_type": "code",
   "execution_count": 6,
   "metadata": {},
   "outputs": [],
   "source": [
    "def generate_subpath(split):\n",
    "    data_folder =  pathlib.Path(\"..\",\"data\",\"datasets\",\"FGR2R\")\n",
    "    data_path = data_folder /  pathlib.Path(\"FGR2R_{}.json\".format(split))\n",
    "    with open(data_path, \"r\") as f:\n",
    "        data = json.loads(f.read())\n",
    "\n",
    "    sub_folder = pathlib.Path(\"..\",\"data\",\"datasets\",\"R2R_VLNCE_FGSub\")\n",
    "    sub_path = sub_folder /  pathlib.Path(\"{}\".format(split),\"{}_sub.json.gz\".format(split))\n",
    "    with gzip.open(sub_path, \"r\") as f:\n",
    "        sub_data = json.loads(f.read())\n",
    "    if split!=\"test\":\n",
    "        gt_path = sub_folder /  pathlib.Path(\"{}\".format(split),\"{}_gt.json.gz\".format(split))\n",
    "        with gzip.open(gt_path, \"r\") as f:\n",
    "            sub_gt = json.loads(f.read())\n",
    "\n",
    "    graph_path = pathlib.Path(\"..\",\"data\",\"connectivity_graphs.pkl\")\n",
    "    with open(graph_path, \"rb\") as f:\n",
    "        conn_graphs = pickle.load(f)\n",
    "\n",
    "    # 使用trajectory_id重新组织episodes\n",
    "    # 每个trajectory_id对应的第4条路经删去，并且去掉超长度限制215的路径\n",
    "    sub_data_byid = {}\n",
    "    trajectory_ids = set([v[\"trajectory_id\"] for v in sub_data[\"episodes\"]])\n",
    "    # if split==\"train\":\n",
    "    #     trajectory_ids.remove(4373)\n",
    "    for i in trajectory_ids:\n",
    "        eps = []\n",
    "        for v in sub_data[\"episodes\"]:\n",
    "            if v[\"trajectory_id\"] == i and len(eps)<3:\n",
    "                eps.append(v)\n",
    "        sub_data_byid[i] = eps\n",
    "    lens = []\n",
    "    for i in tqdm(trajectory_ids):\n",
    "        origin = None\n",
    "        for v in data:\n",
    "            if v[\"path_id\"]==i:\n",
    "                origin = v\n",
    "        # 替换sub_instructions\n",
    "        origin_sub = [[\" \".join(v) for v in a] for a in ast.literal_eval(origin[\"new_instructions\"])]\n",
    "        origin_tokens = [[clip.tokenize(v, truncate=True).squeeze(0).tolist() for v in a] for a in origin_sub]\n",
    "        sub_num = 11\n",
    "        zero_sub = [0]*77\n",
    "        for j in range(3):\n",
    "            sub_data_byid[i][j][\"sub_instruction\"] = origin_sub[j]\n",
    "            tmp = origin_tokens[j]\n",
    "            if len(tmp)>sub_num:\n",
    "                tmp = tmp[0:sub_num]\n",
    "            tmp.extend([zero_sub]*(sub_num-len(tmp)))\n",
    "            sub_data_byid[i][j][\"sub_instruction_tokens\"] = tmp\n",
    "        # 计算action_to_sub\n",
    "        pad_len = 215\n",
    "        if split!=\"test\":\n",
    "            origin_chunk = origin[\"chunk_view\"]\n",
    "            origin_path = origin[\"path\"]\n",
    "            for j in range(3):\n",
    "                # 取出episode的信息\n",
    "                ep = sub_data_byid[i][j]\n",
    "                scene_id = ep[\"scene_id\"].split(\"/\")[1]\n",
    "                graph = conn_graphs[scene_id]\n",
    "                ep_gt = sub_gt[str(ep[\"episode_id\"])]\n",
    "                ep_path = ep_gt[\"locations\"]\n",
    "                ep_actions = ep_gt[\"actions\"]\n",
    "                # 计算对应每个action的坐标位置\n",
    "                ep_path_full = []\n",
    "                ep_path_idx = 0\n",
    "                step_idx = 0\n",
    "                while step_idx<len(ep_actions):\n",
    "                    ep_path_full.append(ep_path[ep_path_idx])\n",
    "                    if ep_actions[step_idx]==1:\n",
    "                        ep_path_idx+=1\n",
    "                    step_idx+=1\n",
    "                \n",
    "                chunk = origin_chunk[j]\n",
    "                keynodes = []\n",
    "                for c in chunk:\n",
    "                    keynodes.append(origin_path[c[1]-1])\n",
    "                sub_idx = 0\n",
    "                step_idx = 0\n",
    "                action_to_sub = np.zeros(len(ep_actions))\n",
    "                # 每行动一步，判断是否到达当前子指令对应的终点\n",
    "                avoid_multi = False\n",
    "                while step_idx<len(ep_actions) or sub_idx<len(keynodes):\n",
    "                    if step_idx==len(ep_actions):\n",
    "                        action_to_sub[step_idx-1] = sub_idx\n",
    "                        sub_idx += 1\n",
    "                        continue\n",
    "                    if sub_idx==len(keynodes):\n",
    "                        action_to_sub[step_idx] = sub_idx-1\n",
    "                        step_idx += 1\n",
    "                        continue\n",
    "                    action_to_sub[step_idx] = sub_idx\n",
    "                    dist = calc_dist(\n",
    "                        graph.nodes[keynodes[sub_idx]][\"position\"], ep_path_full[step_idx]\n",
    "                    )\n",
    "                    if dist<=0.6 and not avoid_multi:\n",
    "                        sub_idx += 1\n",
    "                        avoid_multi = True\n",
    "                    elif dist>0.6:\n",
    "                        avoid_multi = False\n",
    "                    step_idx += 1\n",
    "                # action_to_sub = np.pad(action_to_sub,pad_width=[(0, pad_len-len(action_to_sub))],  constant_values=-1)\n",
    "                sub_data_byid[i][j][\"action_to_sub\"] = action_to_sub.astype(int).tolist()\n",
    "                lens.append(len(action_to_sub))\n",
    "    sub_data[\"episodes\"] = []\n",
    "    for k,v in sub_data_byid.items():\n",
    "        sub_data[\"episodes\"].extend(v)\n",
    "    lens = np.array(lens)\n",
    "    # print(np.sum(lens>50)/len(lens))\n",
    "    print(len(sub_data[\"episodes\"]))\n",
    "    print(sub_data[\"episodes\"][0])\n",
    "    print(sub_path)\n",
    "    with gzip.open(sub_path, \"w\") as f:\n",
    "        f.write(json.dumps(sub_data).encode(\"utf-8\"))\n",
    "    return lens"
   ]
  },
  {
   "cell_type": "code",
   "execution_count": 4,
   "metadata": {},
   "outputs": [],
   "source": [
    "def generate_subpath_keynodes(split):\n",
    "    data_folder =  pathlib.Path(\"..\",\"data\",\"datasets\",\"FGR2R\")\n",
    "    data_path = data_folder /  pathlib.Path(\"FGR2R_{}.json\".format(split))\n",
    "    with open(data_path, \"r\") as f:\n",
    "        data = json.loads(f.read())\n",
    "\n",
    "    sub_folder = pathlib.Path(\"..\",\"data\",\"datasets\",\"R2R_VLNCE_FGSub\")\n",
    "    sub_path = sub_folder /  pathlib.Path(\"{}\".format(split),\"{}_sub.json.gz\".format(split))\n",
    "    with gzip.open(sub_path, \"r\") as f:\n",
    "        sub_data = json.loads(f.read())\n",
    "    if split!=\"test\":\n",
    "        gt_path = sub_folder /  pathlib.Path(\"{}\".format(split),\"{}_gt.json.gz\".format(split))\n",
    "        with gzip.open(gt_path, \"r\") as f:\n",
    "            sub_gt = json.loads(f.read())\n",
    "\n",
    "    graph_path = pathlib.Path(\"..\",\"data\",\"connectivity_graphs.pkl\")\n",
    "    with open(graph_path, \"rb\") as f:\n",
    "        conn_graphs = pickle.load(f)\n",
    "\n",
    "    # 使用trajectory_id重新组织episodes\n",
    "    # 每个trajectory_id对应的第4条路经删去，并且去掉超长度限制215的路径\n",
    "    sub_data_byid = {}\n",
    "    trajectory_ids = set([v[\"trajectory_id\"] for v in sub_data[\"episodes\"]])\n",
    "    for i in trajectory_ids:\n",
    "        eps = []\n",
    "        for v in sub_data[\"episodes\"]:\n",
    "            if v[\"trajectory_id\"] == i and len(eps)<3:\n",
    "                eps.append(v)\n",
    "        sub_data_byid[i] = eps\n",
    "    lens = []\n",
    "    for i in tqdm(trajectory_ids):\n",
    "        origin = None\n",
    "        for v in data:\n",
    "            if v[\"path_id\"]==i:\n",
    "                origin = v\n",
    "        # 替换sub_instructions\n",
    "        origin_sub = [[\" \".join(v) for v in a] for a in ast.literal_eval(origin[\"new_instructions\"])]\n",
    "        origin_tokens = [[clip.tokenize(v, truncate=True).squeeze(0).tolist() for v in a] for a in origin_sub]\n",
    "        sub_num = 11\n",
    "        zero_sub = [0]*77\n",
    "        for j in range(3):\n",
    "            sub_data_byid[i][j][\"sub_instruction\"] = origin_sub[j]\n",
    "            tmp = origin_tokens[j]\n",
    "            if len(tmp)>sub_num:\n",
    "                tmp = tmp[0:sub_num]\n",
    "            tmp.extend([zero_sub]*(sub_num-len(tmp)))\n",
    "            sub_data_byid[i][j][\"sub_instruction_tokens\"] = tmp\n",
    "        # 计算action_to_sub\n",
    "        if split!=\"test\":\n",
    "            origin_chunk = origin[\"chunk_view\"]\n",
    "            origin_path = origin[\"path\"]\n",
    "            for j in range(3):\n",
    "                # 取出episode的信息\n",
    "                ep = sub_data_byid[i][j]\n",
    "                scene_id = ep[\"scene_id\"].split(\"/\")[1]\n",
    "                graph = conn_graphs[scene_id]\n",
    "                \n",
    "                chunk = origin_chunk[j]\n",
    "                keynodes = []\n",
    "                for sub_idx, c in enumerate(chunk):\n",
    "                    if c[0]==c[1] or c[0]==c[1]-1:\n",
    "                        s = c[0]-1\n",
    "                        e = c[1]-1\n",
    "                        sp = graph.nodes[origin_path[s]][\"position\"].tolist()\n",
    "                        ep = graph.nodes[origin_path[e]][\"position\"].tolist()\n",
    "                        keynodes.append((sub_idx, (sp,ep)))\n",
    "                    else:\n",
    "                        s = c[0]-1\n",
    "                        e = c[0]\n",
    "                        while e!=c[1]:\n",
    "                            sp = graph.nodes[origin_path[s]][\"position\"].tolist()\n",
    "                            ep = graph.nodes[origin_path[e]][\"position\"].tolist()\n",
    "                            keynodes.append((sub_idx, (sp,ep)))\n",
    "                            s += 1\n",
    "                            e += 1\n",
    "                sub_data_byid[i][j][\"keynodes\"] = keynodes\n",
    "    sub_data[\"episodes\"] = []\n",
    "    for k,v in sub_data_byid.items():\n",
    "        sub_data[\"episodes\"].extend(v)\n",
    "    # print(np.sum(lens>50)/len(lens))\n",
    "    print(len(sub_data[\"episodes\"]))\n",
    "    print(sub_data[\"episodes\"][0])\n",
    "    print(sub_path)\n",
    "    with gzip.open(sub_path, \"w\") as f:\n",
    "        f.write(json.dumps(sub_data).encode(\"utf-8\"))"
   ]
  },
  {
   "cell_type": "code",
   "execution_count": 7,
   "metadata": {},
   "outputs": [
    {
     "data": {
      "application/vnd.jupyter.widget-view+json": {
       "model_id": "b7362f0bb79e46acad5c96e5fc894357",
       "version_major": 2,
       "version_minor": 0
      },
      "text/plain": [
       "  0%|          | 0/3603 [00:00<?, ?it/s]"
      ]
     },
     "metadata": {},
     "output_type": "display_data"
    },
    {
     "name": "stdout",
     "output_type": "stream",
     "text": [
      "10809\n",
      "{'episode_id': 1, 'trajectory_id': 4, 'scene_id': 'mp3d/7y3sRwLe3Va/7y3sRwLe3Va.glb', 'start_position': [-16.267200469970703, 0.1518409252166748, 0.7207760214805603], 'start_rotation': [0, 0.0007963267107332633, 0, 0.9999996829318346], 'info': {'geodesic_distance': 6.425291538238525}, 'goals': [{'position': [-12.337400436401367, 0.1518409252166748, 4.213699817657471], 'radius': 3.0}], 'instruction': {'instruction_text': 'Go around the right side of the center unit and stop by the right side doorway with the dining table and mirror in it. ', 'instruction_tokens': [982, 141, 2202, 1819, 1961, 1472, 2202, 417, 2324, 103, 2104, 372, 2202, 1819, 1961, 709, 2457, 2202, 660, 2159, 103, 1390, 1138, 1173, 9, 0, 0, 0, 0, 0, 0, 0, 0, 0, 0, 0, 0, 0, 0, 0, 0, 0, 0, 0, 0, 0, 0, 0, 0, 0, 0, 0, 0, 0, 0, 0, 0, 0, 0, 0, 0, 0, 0, 0, 0, 0, 0, 0, 0, 0, 0, 0, 0, 0, 0, 0, 0, 0, 0, 0, 0, 0, 0, 0, 0, 0, 0, 0, 0, 0, 0, 0, 0, 0, 0, 0, 0, 0, 0, 0]}, 'reference_path': [[-16.267200469970703, 0.1518409252166748, 0.7207760214805603], [-16.284099578857422, 0.1518409252166748, 2.412369966506958], [-16.154499053955078, 0.1518409252166748, 4.137710094451904], [-13.90719985961914, 0.1518409252166748, 4.228209972381592], [-12.337400436401367, 0.1518409252166748, 4.213699817657471]], 'sub_instruction': ['go around the right side of the center unit', 'and stop by the right side doorway with the dining table and mirror in it'], 'sub_instruction_tokens': [[49406, 861, 1630, 518, 1155, 1145, 539, 518, 2119, 5695, 49407, 0, 0, 0, 0, 0, 0, 0, 0, 0, 0, 0, 0, 0, 0, 0, 0, 0, 0, 0, 0, 0, 0, 0, 0, 0, 0, 0, 0, 0, 0, 0, 0, 0, 0, 0, 0, 0, 0, 0, 0, 0, 0, 0, 0, 0, 0, 0, 0, 0, 0, 0, 0, 0, 0, 0, 0, 0, 0, 0, 0, 0, 0, 0, 0, 0, 0], [49406, 537, 1691, 638, 518, 1155, 1145, 46575, 593, 518, 8658, 2175, 537, 7220, 530, 585, 49407, 0, 0, 0, 0, 0, 0, 0, 0, 0, 0, 0, 0, 0, 0, 0, 0, 0, 0, 0, 0, 0, 0, 0, 0, 0, 0, 0, 0, 0, 0, 0, 0, 0, 0, 0, 0, 0, 0, 0, 0, 0, 0, 0, 0, 0, 0, 0, 0, 0, 0, 0, 0, 0, 0, 0, 0, 0, 0, 0, 0], [0, 0, 0, 0, 0, 0, 0, 0, 0, 0, 0, 0, 0, 0, 0, 0, 0, 0, 0, 0, 0, 0, 0, 0, 0, 0, 0, 0, 0, 0, 0, 0, 0, 0, 0, 0, 0, 0, 0, 0, 0, 0, 0, 0, 0, 0, 0, 0, 0, 0, 0, 0, 0, 0, 0, 0, 0, 0, 0, 0, 0, 0, 0, 0, 0, 0, 0, 0, 0, 0, 0, 0, 0, 0, 0, 0, 0], [0, 0, 0, 0, 0, 0, 0, 0, 0, 0, 0, 0, 0, 0, 0, 0, 0, 0, 0, 0, 0, 0, 0, 0, 0, 0, 0, 0, 0, 0, 0, 0, 0, 0, 0, 0, 0, 0, 0, 0, 0, 0, 0, 0, 0, 0, 0, 0, 0, 0, 0, 0, 0, 0, 0, 0, 0, 0, 0, 0, 0, 0, 0, 0, 0, 0, 0, 0, 0, 0, 0, 0, 0, 0, 0, 0, 0], [0, 0, 0, 0, 0, 0, 0, 0, 0, 0, 0, 0, 0, 0, 0, 0, 0, 0, 0, 0, 0, 0, 0, 0, 0, 0, 0, 0, 0, 0, 0, 0, 0, 0, 0, 0, 0, 0, 0, 0, 0, 0, 0, 0, 0, 0, 0, 0, 0, 0, 0, 0, 0, 0, 0, 0, 0, 0, 0, 0, 0, 0, 0, 0, 0, 0, 0, 0, 0, 0, 0, 0, 0, 0, 0, 0, 0], [0, 0, 0, 0, 0, 0, 0, 0, 0, 0, 0, 0, 0, 0, 0, 0, 0, 0, 0, 0, 0, 0, 0, 0, 0, 0, 0, 0, 0, 0, 0, 0, 0, 0, 0, 0, 0, 0, 0, 0, 0, 0, 0, 0, 0, 0, 0, 0, 0, 0, 0, 0, 0, 0, 0, 0, 0, 0, 0, 0, 0, 0, 0, 0, 0, 0, 0, 0, 0, 0, 0, 0, 0, 0, 0, 0, 0], [0, 0, 0, 0, 0, 0, 0, 0, 0, 0, 0, 0, 0, 0, 0, 0, 0, 0, 0, 0, 0, 0, 0, 0, 0, 0, 0, 0, 0, 0, 0, 0, 0, 0, 0, 0, 0, 0, 0, 0, 0, 0, 0, 0, 0, 0, 0, 0, 0, 0, 0, 0, 0, 0, 0, 0, 0, 0, 0, 0, 0, 0, 0, 0, 0, 0, 0, 0, 0, 0, 0, 0, 0, 0, 0, 0, 0], [0, 0, 0, 0, 0, 0, 0, 0, 0, 0, 0, 0, 0, 0, 0, 0, 0, 0, 0, 0, 0, 0, 0, 0, 0, 0, 0, 0, 0, 0, 0, 0, 0, 0, 0, 0, 0, 0, 0, 0, 0, 0, 0, 0, 0, 0, 0, 0, 0, 0, 0, 0, 0, 0, 0, 0, 0, 0, 0, 0, 0, 0, 0, 0, 0, 0, 0, 0, 0, 0, 0, 0, 0, 0, 0, 0, 0], [0, 0, 0, 0, 0, 0, 0, 0, 0, 0, 0, 0, 0, 0, 0, 0, 0, 0, 0, 0, 0, 0, 0, 0, 0, 0, 0, 0, 0, 0, 0, 0, 0, 0, 0, 0, 0, 0, 0, 0, 0, 0, 0, 0, 0, 0, 0, 0, 0, 0, 0, 0, 0, 0, 0, 0, 0, 0, 0, 0, 0, 0, 0, 0, 0, 0, 0, 0, 0, 0, 0, 0, 0, 0, 0, 0, 0], [0, 0, 0, 0, 0, 0, 0, 0, 0, 0, 0, 0, 0, 0, 0, 0, 0, 0, 0, 0, 0, 0, 0, 0, 0, 0, 0, 0, 0, 0, 0, 0, 0, 0, 0, 0, 0, 0, 0, 0, 0, 0, 0, 0, 0, 0, 0, 0, 0, 0, 0, 0, 0, 0, 0, 0, 0, 0, 0, 0, 0, 0, 0, 0, 0, 0, 0, 0, 0, 0, 0, 0, 0, 0, 0, 0, 0], [0, 0, 0, 0, 0, 0, 0, 0, 0, 0, 0, 0, 0, 0, 0, 0, 0, 0, 0, 0, 0, 0, 0, 0, 0, 0, 0, 0, 0, 0, 0, 0, 0, 0, 0, 0, 0, 0, 0, 0, 0, 0, 0, 0, 0, 0, 0, 0, 0, 0, 0, 0, 0, 0, 0, 0, 0, 0, 0, 0, 0, 0, 0, 0, 0, 0, 0, 0, 0, 0, 0, 0, 0, 0, 0, 0, 0]], 'action_to_sub': [0, 0, 0, 0, 0, 0, 0, 0, 0, 0, 0, 0, 0, 0, 0, 0, 0, 0, 1, 1, 1, 1, 1, 1, 1, 1, 1, 1, 1, 1, 1, 1, 1, 1, 1, 1, 1, 1, 1, 1, 1, 1, 1, 1, 1, 1]}\n",
      "../data/datasets/R2R_VLNCE_FGSub/train/train_sub.json.gz\n"
     ]
    },
    {
     "data": {
      "application/vnd.jupyter.widget-view+json": {
       "model_id": "5e5897a1c1bd44929007664350f86e55",
       "version_major": 2,
       "version_minor": 0
      },
      "text/plain": [
       "  0%|          | 0/259 [00:00<?, ?it/s]"
      ]
     },
     "metadata": {},
     "output_type": "display_data"
    },
    {
     "name": "stdout",
     "output_type": "stream",
     "text": [
      "777\n",
      "{'episode_id': 185, 'trajectory_id': 2049, 'scene_id': 'mp3d/5LpN3gDmAk7/5LpN3gDmAk7.glb', 'start_position': [3.0204501152038574, -1.0843499898910522, 15.04889965057373], 'start_rotation': [0, 0.9105493663023047, 0, -0.413400352595969], 'info': {'geodesic_distance': 11.836960792541504}, 'goals': [{'position': [9.175270080566406, -1.0843499898910522, 6.389739990234375], 'radius': 3.0}], 'instruction': {'instruction_text': 'Exit the bathroom and turn left, go past the stairs and turn right then go past the kitchen table and turn left. Wait by the white couch that is facing the painting. ', 'instruction_tokens': [816, 2202, 222, 103, 2300, 1251, 982, 1589, 2202, 2058, 103, 2300, 1819, 2207, 982, 1589, 2202, 1205, 2159, 103, 2300, 1251, 9, 2379, 372, 2202, 2435, 549, 2201, 1168, 833, 2202, 1553, 9, 0, 0, 0, 0, 0, 0, 0, 0, 0, 0, 0, 0, 0, 0, 0, 0, 0, 0, 0, 0, 0, 0, 0, 0, 0, 0, 0, 0, 0, 0, 0, 0, 0, 0, 0, 0, 0, 0, 0, 0, 0, 0, 0, 0, 0, 0, 0, 0, 0, 0, 0, 0, 0, 0, 0, 0, 0, 0, 0, 0, 0, 0, 0, 0, 0, 0]}, 'reference_path': [[3.0204501152038574, -1.0843499898910522, 15.04889965057373], [3.5566000938415527, -1.0843499898910522, 13.003899574279785], [3.1697399616241455, -1.0843499898910522, 10.744999885559082], [8.674449920654297, -1.0843499898910522, 8.6083402633667], [8.957229614257812, -1.0843499898910522, 7.325819969177246], [9.175270080566406, -1.0843499898910522, 6.389739990234375]], 'sub_instruction': ['exit the bathroom and turn left', 'go past the stair and turn right', 'then go past the kitchen table', 'and turn left', 'wait by the white couch that be face the painting'], 'sub_instruction_tokens': [[49406, 9374, 518, 8470, 537, 2105, 1823, 49407, 0, 0, 0, 0, 0, 0, 0, 0, 0, 0, 0, 0, 0, 0, 0, 0, 0, 0, 0, 0, 0, 0, 0, 0, 0, 0, 0, 0, 0, 0, 0, 0, 0, 0, 0, 0, 0, 0, 0, 0, 0, 0, 0, 0, 0, 0, 0, 0, 0, 0, 0, 0, 0, 0, 0, 0, 0, 0, 0, 0, 0, 0, 0, 0, 0, 0, 0, 0, 0], [49406, 861, 2729, 518, 17662, 537, 2105, 1155, 49407, 0, 0, 0, 0, 0, 0, 0, 0, 0, 0, 0, 0, 0, 0, 0, 0, 0, 0, 0, 0, 0, 0, 0, 0, 0, 0, 0, 0, 0, 0, 0, 0, 0, 0, 0, 0, 0, 0, 0, 0, 0, 0, 0, 0, 0, 0, 0, 0, 0, 0, 0, 0, 0, 0, 0, 0, 0, 0, 0, 0, 0, 0, 0, 0, 0, 0, 0, 0], [49406, 1594, 861, 2729, 518, 4485, 2175, 49407, 0, 0, 0, 0, 0, 0, 0, 0, 0, 0, 0, 0, 0, 0, 0, 0, 0, 0, 0, 0, 0, 0, 0, 0, 0, 0, 0, 0, 0, 0, 0, 0, 0, 0, 0, 0, 0, 0, 0, 0, 0, 0, 0, 0, 0, 0, 0, 0, 0, 0, 0, 0, 0, 0, 0, 0, 0, 0, 0, 0, 0, 0, 0, 0, 0, 0, 0, 0, 0], [49406, 537, 2105, 1823, 49407, 0, 0, 0, 0, 0, 0, 0, 0, 0, 0, 0, 0, 0, 0, 0, 0, 0, 0, 0, 0, 0, 0, 0, 0, 0, 0, 0, 0, 0, 0, 0, 0, 0, 0, 0, 0, 0, 0, 0, 0, 0, 0, 0, 0, 0, 0, 0, 0, 0, 0, 0, 0, 0, 0, 0, 0, 0, 0, 0, 0, 0, 0, 0, 0, 0, 0, 0, 0, 0, 0, 0, 0], [49406, 1885, 638, 518, 1579, 12724, 682, 655, 1710, 518, 3086, 49407, 0, 0, 0, 0, 0, 0, 0, 0, 0, 0, 0, 0, 0, 0, 0, 0, 0, 0, 0, 0, 0, 0, 0, 0, 0, 0, 0, 0, 0, 0, 0, 0, 0, 0, 0, 0, 0, 0, 0, 0, 0, 0, 0, 0, 0, 0, 0, 0, 0, 0, 0, 0, 0, 0, 0, 0, 0, 0, 0, 0, 0, 0, 0, 0, 0], [0, 0, 0, 0, 0, 0, 0, 0, 0, 0, 0, 0, 0, 0, 0, 0, 0, 0, 0, 0, 0, 0, 0, 0, 0, 0, 0, 0, 0, 0, 0, 0, 0, 0, 0, 0, 0, 0, 0, 0, 0, 0, 0, 0, 0, 0, 0, 0, 0, 0, 0, 0, 0, 0, 0, 0, 0, 0, 0, 0, 0, 0, 0, 0, 0, 0, 0, 0, 0, 0, 0, 0, 0, 0, 0, 0, 0], [0, 0, 0, 0, 0, 0, 0, 0, 0, 0, 0, 0, 0, 0, 0, 0, 0, 0, 0, 0, 0, 0, 0, 0, 0, 0, 0, 0, 0, 0, 0, 0, 0, 0, 0, 0, 0, 0, 0, 0, 0, 0, 0, 0, 0, 0, 0, 0, 0, 0, 0, 0, 0, 0, 0, 0, 0, 0, 0, 0, 0, 0, 0, 0, 0, 0, 0, 0, 0, 0, 0, 0, 0, 0, 0, 0, 0], [0, 0, 0, 0, 0, 0, 0, 0, 0, 0, 0, 0, 0, 0, 0, 0, 0, 0, 0, 0, 0, 0, 0, 0, 0, 0, 0, 0, 0, 0, 0, 0, 0, 0, 0, 0, 0, 0, 0, 0, 0, 0, 0, 0, 0, 0, 0, 0, 0, 0, 0, 0, 0, 0, 0, 0, 0, 0, 0, 0, 0, 0, 0, 0, 0, 0, 0, 0, 0, 0, 0, 0, 0, 0, 0, 0, 0], [0, 0, 0, 0, 0, 0, 0, 0, 0, 0, 0, 0, 0, 0, 0, 0, 0, 0, 0, 0, 0, 0, 0, 0, 0, 0, 0, 0, 0, 0, 0, 0, 0, 0, 0, 0, 0, 0, 0, 0, 0, 0, 0, 0, 0, 0, 0, 0, 0, 0, 0, 0, 0, 0, 0, 0, 0, 0, 0, 0, 0, 0, 0, 0, 0, 0, 0, 0, 0, 0, 0, 0, 0, 0, 0, 0, 0], [0, 0, 0, 0, 0, 0, 0, 0, 0, 0, 0, 0, 0, 0, 0, 0, 0, 0, 0, 0, 0, 0, 0, 0, 0, 0, 0, 0, 0, 0, 0, 0, 0, 0, 0, 0, 0, 0, 0, 0, 0, 0, 0, 0, 0, 0, 0, 0, 0, 0, 0, 0, 0, 0, 0, 0, 0, 0, 0, 0, 0, 0, 0, 0, 0, 0, 0, 0, 0, 0, 0, 0, 0, 0, 0, 0, 0], [0, 0, 0, 0, 0, 0, 0, 0, 0, 0, 0, 0, 0, 0, 0, 0, 0, 0, 0, 0, 0, 0, 0, 0, 0, 0, 0, 0, 0, 0, 0, 0, 0, 0, 0, 0, 0, 0, 0, 0, 0, 0, 0, 0, 0, 0, 0, 0, 0, 0, 0, 0, 0, 0, 0, 0, 0, 0, 0, 0, 0, 0, 0, 0, 0, 0, 0, 0, 0, 0, 0, 0, 0, 0, 0, 0, 0]], 'action_to_sub': [0, 0, 0, 0, 0, 0, 0, 0, 0, 0, 0, 0, 0, 0, 0, 0, 1, 1, 1, 1, 1, 1, 1, 1, 1, 1, 1, 2, 2, 2, 2, 2, 2, 2, 2, 2, 2, 2, 2, 2, 2, 2, 2, 2, 2, 2, 2, 2, 2, 2, 2, 2, 2, 2, 2, 2, 2, 2, 2, 3, 3, 3, 3, 3, 3, 3, 4, 4, 4, 4, 4]}\n",
      "../data/datasets/R2R_VLNCE_FGSub/val_seen/val_seen_sub.json.gz\n"
     ]
    },
    {
     "data": {
      "application/vnd.jupyter.widget-view+json": {
       "model_id": "d8a40610fc6c4002a1863b7fa525fcf0",
       "version_major": 2,
       "version_minor": 0
      },
      "text/plain": [
       "  0%|          | 0/613 [00:00<?, ?it/s]"
      ]
     },
     "metadata": {},
     "output_type": "display_data"
    },
    {
     "name": "stdout",
     "output_type": "stream",
     "text": [
      "1839\n",
      "{'episode_id': 1012, 'trajectory_id': 4099, 'scene_id': 'mp3d/TbHJrupSAjP/TbHJrupSAjP.glb', 'start_position': [-1.9241100549697876, 3.4244003295898438, -7.408279895782471], 'start_rotation': [0, 0.7212540129736931, 0, -0.6926706640022687], 'info': {'geodesic_distance': 7.445135116577148}, 'goals': [{'position': [0.9583550095558167, 3.11130428314209, -4.9011101722717285], 'radius': 3.0}], 'instruction': {'instruction_text': 'walk away from sink, turn left, walk towards foot of bed, exit through doorway on left, turn right and step down two stairs and stop. ', 'instruction_tokens': [2384, 167, 936, 1972, 2300, 1251, 2384, 2260, 903, 1472, 243, 816, 2228, 709, 1480, 1251, 2300, 1819, 103, 2088, 717, 2313, 2058, 103, 2104, 9, 0, 0, 0, 0, 0, 0, 0, 0, 0, 0, 0, 0, 0, 0, 0, 0, 0, 0, 0, 0, 0, 0, 0, 0, 0, 0, 0, 0, 0, 0, 0, 0, 0, 0, 0, 0, 0, 0, 0, 0, 0, 0, 0, 0, 0, 0, 0, 0, 0, 0, 0, 0, 0, 0, 0, 0, 0, 0, 0, 0, 0, 0, 0, 0, 0, 0, 0, 0, 0, 0, 0, 0, 0, 0]}, 'reference_path': [[-1.9241100549697876, 3.4244003295898438, -7.408279895782471], [-2.9906399250030518, 3.5454914569854736, -7.188910007476807], [-3.1145999431610107, 3.5302207469940186, -5.832210063934326], [-0.711899995803833, 3.5800554752349854, -6.376410007476807], [2.1451499462127686, 3.560312509536743, -5.003729820251465], [0.9583550095558167, 3.11130428314209, -4.9011101722717285]], 'sub_instruction': ['walk away from sink', 'turn left walk towards foot of bed', 'exit through doorway on left turn right and step down two stair and stop'], 'sub_instruction_tokens': [[49406, 2374, 1520, 633, 14551, 49407, 0, 0, 0, 0, 0, 0, 0, 0, 0, 0, 0, 0, 0, 0, 0, 0, 0, 0, 0, 0, 0, 0, 0, 0, 0, 0, 0, 0, 0, 0, 0, 0, 0, 0, 0, 0, 0, 0, 0, 0, 0, 0, 0, 0, 0, 0, 0, 0, 0, 0, 0, 0, 0, 0, 0, 0, 0, 0, 0, 0, 0, 0, 0, 0, 0, 0, 0, 0, 0, 0, 0], [49406, 2105, 1823, 2374, 4447, 4738, 539, 2722, 49407, 0, 0, 0, 0, 0, 0, 0, 0, 0, 0, 0, 0, 0, 0, 0, 0, 0, 0, 0, 0, 0, 0, 0, 0, 0, 0, 0, 0, 0, 0, 0, 0, 0, 0, 0, 0, 0, 0, 0, 0, 0, 0, 0, 0, 0, 0, 0, 0, 0, 0, 0, 0, 0, 0, 0, 0, 0, 0, 0, 0, 0, 0, 0, 0, 0, 0, 0, 0], [49406, 9374, 1417, 46575, 525, 1823, 2105, 1155, 537, 3348, 1136, 1237, 17662, 537, 1691, 49407, 0, 0, 0, 0, 0, 0, 0, 0, 0, 0, 0, 0, 0, 0, 0, 0, 0, 0, 0, 0, 0, 0, 0, 0, 0, 0, 0, 0, 0, 0, 0, 0, 0, 0, 0, 0, 0, 0, 0, 0, 0, 0, 0, 0, 0, 0, 0, 0, 0, 0, 0, 0, 0, 0, 0, 0, 0, 0, 0, 0, 0], [0, 0, 0, 0, 0, 0, 0, 0, 0, 0, 0, 0, 0, 0, 0, 0, 0, 0, 0, 0, 0, 0, 0, 0, 0, 0, 0, 0, 0, 0, 0, 0, 0, 0, 0, 0, 0, 0, 0, 0, 0, 0, 0, 0, 0, 0, 0, 0, 0, 0, 0, 0, 0, 0, 0, 0, 0, 0, 0, 0, 0, 0, 0, 0, 0, 0, 0, 0, 0, 0, 0, 0, 0, 0, 0, 0, 0], [0, 0, 0, 0, 0, 0, 0, 0, 0, 0, 0, 0, 0, 0, 0, 0, 0, 0, 0, 0, 0, 0, 0, 0, 0, 0, 0, 0, 0, 0, 0, 0, 0, 0, 0, 0, 0, 0, 0, 0, 0, 0, 0, 0, 0, 0, 0, 0, 0, 0, 0, 0, 0, 0, 0, 0, 0, 0, 0, 0, 0, 0, 0, 0, 0, 0, 0, 0, 0, 0, 0, 0, 0, 0, 0, 0, 0], [0, 0, 0, 0, 0, 0, 0, 0, 0, 0, 0, 0, 0, 0, 0, 0, 0, 0, 0, 0, 0, 0, 0, 0, 0, 0, 0, 0, 0, 0, 0, 0, 0, 0, 0, 0, 0, 0, 0, 0, 0, 0, 0, 0, 0, 0, 0, 0, 0, 0, 0, 0, 0, 0, 0, 0, 0, 0, 0, 0, 0, 0, 0, 0, 0, 0, 0, 0, 0, 0, 0, 0, 0, 0, 0, 0, 0], [0, 0, 0, 0, 0, 0, 0, 0, 0, 0, 0, 0, 0, 0, 0, 0, 0, 0, 0, 0, 0, 0, 0, 0, 0, 0, 0, 0, 0, 0, 0, 0, 0, 0, 0, 0, 0, 0, 0, 0, 0, 0, 0, 0, 0, 0, 0, 0, 0, 0, 0, 0, 0, 0, 0, 0, 0, 0, 0, 0, 0, 0, 0, 0, 0, 0, 0, 0, 0, 0, 0, 0, 0, 0, 0, 0, 0], [0, 0, 0, 0, 0, 0, 0, 0, 0, 0, 0, 0, 0, 0, 0, 0, 0, 0, 0, 0, 0, 0, 0, 0, 0, 0, 0, 0, 0, 0, 0, 0, 0, 0, 0, 0, 0, 0, 0, 0, 0, 0, 0, 0, 0, 0, 0, 0, 0, 0, 0, 0, 0, 0, 0, 0, 0, 0, 0, 0, 0, 0, 0, 0, 0, 0, 0, 0, 0, 0, 0, 0, 0, 0, 0, 0, 0], [0, 0, 0, 0, 0, 0, 0, 0, 0, 0, 0, 0, 0, 0, 0, 0, 0, 0, 0, 0, 0, 0, 0, 0, 0, 0, 0, 0, 0, 0, 0, 0, 0, 0, 0, 0, 0, 0, 0, 0, 0, 0, 0, 0, 0, 0, 0, 0, 0, 0, 0, 0, 0, 0, 0, 0, 0, 0, 0, 0, 0, 0, 0, 0, 0, 0, 0, 0, 0, 0, 0, 0, 0, 0, 0, 0, 0], [0, 0, 0, 0, 0, 0, 0, 0, 0, 0, 0, 0, 0, 0, 0, 0, 0, 0, 0, 0, 0, 0, 0, 0, 0, 0, 0, 0, 0, 0, 0, 0, 0, 0, 0, 0, 0, 0, 0, 0, 0, 0, 0, 0, 0, 0, 0, 0, 0, 0, 0, 0, 0, 0, 0, 0, 0, 0, 0, 0, 0, 0, 0, 0, 0, 0, 0, 0, 0, 0, 0, 0, 0, 0, 0, 0, 0], [0, 0, 0, 0, 0, 0, 0, 0, 0, 0, 0, 0, 0, 0, 0, 0, 0, 0, 0, 0, 0, 0, 0, 0, 0, 0, 0, 0, 0, 0, 0, 0, 0, 0, 0, 0, 0, 0, 0, 0, 0, 0, 0, 0, 0, 0, 0, 0, 0, 0, 0, 0, 0, 0, 0, 0, 0, 0, 0, 0, 0, 0, 0, 0, 0, 0, 0, 0, 0, 0, 0, 0, 0, 0, 0, 0, 0]], 'action_to_sub': [0, 0, 0, 0, 0, 0, 0, 0, 0, 0, 0, 0, 0, 0, 1, 1, 1, 1, 1, 1, 1, 1, 1, 2, 2, 2, 2, 2, 2, 2, 2, 2, 2, 2, 2, 2, 2, 2, 2, 2, 2, 2, 2, 2, 2, 2, 2, 2, 2, 2, 2, 2, 2, 2, 2, 2, 2, 2, 2, 2, 2, 2, 2, 2, 2, 2, 2, 2, 2, 2]}\n",
      "../data/datasets/R2R_VLNCE_FGSub/val_unseen/val_unseen_sub.json.gz\n"
     ]
    },
    {
     "data": {
      "application/vnd.jupyter.widget-view+json": {
       "model_id": "77bc2dab94614cf18ea9ee51010c08c0",
       "version_major": 2,
       "version_minor": 0
      },
      "text/plain": [
       "  0%|          | 0/1136 [00:00<?, ?it/s]"
      ]
     },
     "metadata": {},
     "output_type": "display_data"
    },
    {
     "name": "stdout",
     "output_type": "stream",
     "text": [
      "3408\n",
      "{'episode_id': 1681, 'trajectory_id': 0, 'scene_id': 'mp3d/yqstnuAEVhm/yqstnuAEVhm.glb', 'start_position': [6.034969806671143, 3.1383068561553955, -11.127400398254395], 'start_rotation': [0, -0.47537390589207923, 0, -0.8797838652742551], 'instruction': {'instruction_text': 'Walk into the living room from the hallway. Enter the hallway to the left. Wait inside the bedroom through the first door on the left. ', 'instruction_tokens': [2384, 1165, 2202, 1290, 1842, 936, 2202, 1036, 9, 791, 2202, 1036, 2246, 2202, 1251, 9, 2379, 1150, 2202, 246, 2228, 2202, 870, 701, 1480, 2202, 1251, 9, 0, 0, 0, 0, 0, 0, 0, 0, 0, 0, 0, 0, 0, 0, 0, 0, 0, 0, 0, 0, 0, 0, 0, 0, 0, 0, 0, 0, 0, 0, 0, 0, 0, 0, 0, 0, 0, 0, 0, 0, 0, 0, 0, 0, 0, 0, 0, 0, 0, 0, 0, 0, 0, 0, 0, 0, 0, 0, 0, 0, 0, 0, 0, 0, 0, 0, 0, 0, 0, 0, 0, 0]}, 'sub_instruction': ['walk into the living room from the hallway', 'Enter the hallway to the left', 'wait inside the bedroom through the first door on the left'], 'sub_instruction_tokens': [[49406, 2374, 1095, 518, 2815, 1530, 633, 518, 26845, 49407, 0, 0, 0, 0, 0, 0, 0, 0, 0, 0, 0, 0, 0, 0, 0, 0, 0, 0, 0, 0, 0, 0, 0, 0, 0, 0, 0, 0, 0, 0, 0, 0, 0, 0, 0, 0, 0, 0, 0, 0, 0, 0, 0, 0, 0, 0, 0, 0, 0, 0, 0, 0, 0, 0, 0, 0, 0, 0, 0, 0, 0, 0, 0, 0, 0, 0, 0], [49406, 3819, 518, 26845, 531, 518, 1823, 49407, 0, 0, 0, 0, 0, 0, 0, 0, 0, 0, 0, 0, 0, 0, 0, 0, 0, 0, 0, 0, 0, 0, 0, 0, 0, 0, 0, 0, 0, 0, 0, 0, 0, 0, 0, 0, 0, 0, 0, 0, 0, 0, 0, 0, 0, 0, 0, 0, 0, 0, 0, 0, 0, 0, 0, 0, 0, 0, 0, 0, 0, 0, 0, 0, 0, 0, 0, 0, 0], [49406, 1885, 2912, 518, 8411, 1417, 518, 874, 2489, 525, 518, 1823, 49407, 0, 0, 0, 0, 0, 0, 0, 0, 0, 0, 0, 0, 0, 0, 0, 0, 0, 0, 0, 0, 0, 0, 0, 0, 0, 0, 0, 0, 0, 0, 0, 0, 0, 0, 0, 0, 0, 0, 0, 0, 0, 0, 0, 0, 0, 0, 0, 0, 0, 0, 0, 0, 0, 0, 0, 0, 0, 0, 0, 0, 0, 0, 0, 0], [0, 0, 0, 0, 0, 0, 0, 0, 0, 0, 0, 0, 0, 0, 0, 0, 0, 0, 0, 0, 0, 0, 0, 0, 0, 0, 0, 0, 0, 0, 0, 0, 0, 0, 0, 0, 0, 0, 0, 0, 0, 0, 0, 0, 0, 0, 0, 0, 0, 0, 0, 0, 0, 0, 0, 0, 0, 0, 0, 0, 0, 0, 0, 0, 0, 0, 0, 0, 0, 0, 0, 0, 0, 0, 0, 0, 0], [0, 0, 0, 0, 0, 0, 0, 0, 0, 0, 0, 0, 0, 0, 0, 0, 0, 0, 0, 0, 0, 0, 0, 0, 0, 0, 0, 0, 0, 0, 0, 0, 0, 0, 0, 0, 0, 0, 0, 0, 0, 0, 0, 0, 0, 0, 0, 0, 0, 0, 0, 0, 0, 0, 0, 0, 0, 0, 0, 0, 0, 0, 0, 0, 0, 0, 0, 0, 0, 0, 0, 0, 0, 0, 0, 0, 0], [0, 0, 0, 0, 0, 0, 0, 0, 0, 0, 0, 0, 0, 0, 0, 0, 0, 0, 0, 0, 0, 0, 0, 0, 0, 0, 0, 0, 0, 0, 0, 0, 0, 0, 0, 0, 0, 0, 0, 0, 0, 0, 0, 0, 0, 0, 0, 0, 0, 0, 0, 0, 0, 0, 0, 0, 0, 0, 0, 0, 0, 0, 0, 0, 0, 0, 0, 0, 0, 0, 0, 0, 0, 0, 0, 0, 0], [0, 0, 0, 0, 0, 0, 0, 0, 0, 0, 0, 0, 0, 0, 0, 0, 0, 0, 0, 0, 0, 0, 0, 0, 0, 0, 0, 0, 0, 0, 0, 0, 0, 0, 0, 0, 0, 0, 0, 0, 0, 0, 0, 0, 0, 0, 0, 0, 0, 0, 0, 0, 0, 0, 0, 0, 0, 0, 0, 0, 0, 0, 0, 0, 0, 0, 0, 0, 0, 0, 0, 0, 0, 0, 0, 0, 0], [0, 0, 0, 0, 0, 0, 0, 0, 0, 0, 0, 0, 0, 0, 0, 0, 0, 0, 0, 0, 0, 0, 0, 0, 0, 0, 0, 0, 0, 0, 0, 0, 0, 0, 0, 0, 0, 0, 0, 0, 0, 0, 0, 0, 0, 0, 0, 0, 0, 0, 0, 0, 0, 0, 0, 0, 0, 0, 0, 0, 0, 0, 0, 0, 0, 0, 0, 0, 0, 0, 0, 0, 0, 0, 0, 0, 0], [0, 0, 0, 0, 0, 0, 0, 0, 0, 0, 0, 0, 0, 0, 0, 0, 0, 0, 0, 0, 0, 0, 0, 0, 0, 0, 0, 0, 0, 0, 0, 0, 0, 0, 0, 0, 0, 0, 0, 0, 0, 0, 0, 0, 0, 0, 0, 0, 0, 0, 0, 0, 0, 0, 0, 0, 0, 0, 0, 0, 0, 0, 0, 0, 0, 0, 0, 0, 0, 0, 0, 0, 0, 0, 0, 0, 0], [0, 0, 0, 0, 0, 0, 0, 0, 0, 0, 0, 0, 0, 0, 0, 0, 0, 0, 0, 0, 0, 0, 0, 0, 0, 0, 0, 0, 0, 0, 0, 0, 0, 0, 0, 0, 0, 0, 0, 0, 0, 0, 0, 0, 0, 0, 0, 0, 0, 0, 0, 0, 0, 0, 0, 0, 0, 0, 0, 0, 0, 0, 0, 0, 0, 0, 0, 0, 0, 0, 0, 0, 0, 0, 0, 0, 0], [0, 0, 0, 0, 0, 0, 0, 0, 0, 0, 0, 0, 0, 0, 0, 0, 0, 0, 0, 0, 0, 0, 0, 0, 0, 0, 0, 0, 0, 0, 0, 0, 0, 0, 0, 0, 0, 0, 0, 0, 0, 0, 0, 0, 0, 0, 0, 0, 0, 0, 0, 0, 0, 0, 0, 0, 0, 0, 0, 0, 0, 0, 0, 0, 0, 0, 0, 0, 0, 0, 0, 0, 0, 0, 0, 0, 0]]}\n",
      "../data/datasets/R2R_VLNCE_FGSub/test/test_sub.json.gz\n"
     ]
    }
   ],
   "source": [
    "for split in [\"train\",\"val_seen\",\"val_unseen\",\"test\"]:\n",
    "    lens = generate_subpath(split)"
   ]
  },
  {
   "cell_type": "code",
   "execution_count": 43,
   "metadata": {},
   "outputs": [
    {
     "data": {
      "application/vnd.jupyter.widget-view+json": {
       "model_id": "5275ab22e6f346ed9464420ec19f709e",
       "version_major": 2,
       "version_minor": 0
      },
      "text/plain": [
       "  0%|          | 0/3602 [00:00<?, ?it/s]"
      ]
     },
     "metadata": {},
     "output_type": "display_data"
    },
    {
     "name": "stdout",
     "output_type": "stream",
     "text": [
      "10806\n",
      "{'episode_id': 1, 'trajectory_id': 4, 'scene_id': 'mp3d/7y3sRwLe3Va/7y3sRwLe3Va.glb', 'start_position': [-16.267200469970703, 0.1518409252166748, 0.7207760214805603], 'start_rotation': [0, 0.0007963267107332633, 0, 0.9999996829318346], 'info': {'geodesic_distance': 6.425291538238525}, 'goals': [{'position': [-12.337400436401367, 0.1518409252166748, 4.213699817657471], 'radius': 3.0}], 'instruction': {'instruction_text': 'Go around the right side of the center unit and stop by the right side doorway with the dining table and mirror in it. ', 'instruction_tokens': [982, 141, 2202, 1819, 1961, 1472, 2202, 417, 2324, 103, 2104, 372, 2202, 1819, 1961, 709, 2457, 2202, 660, 2159, 103, 1390, 1138, 1173, 9, 0, 0, 0, 0, 0, 0, 0, 0, 0, 0, 0, 0, 0, 0, 0, 0, 0, 0, 0, 0, 0, 0, 0, 0, 0, 0, 0, 0, 0, 0, 0, 0, 0, 0, 0, 0, 0, 0, 0, 0, 0, 0, 0, 0, 0, 0, 0, 0, 0, 0, 0, 0, 0, 0, 0, 0, 0, 0, 0, 0, 0, 0, 0, 0, 0, 0, 0, 0, 0, 0, 0, 0, 0, 0, 0]}, 'reference_path': [[-16.267200469970703, 0.1518409252166748, 0.7207760214805603], [-16.284099578857422, 0.1518409252166748, 2.412369966506958], [-16.154499053955078, 0.1518409252166748, 4.137710094451904], [-13.90719985961914, 0.1518409252166748, 4.228209972381592], [-12.337400436401367, 0.1518409252166748, 4.213699817657471]], 'sub_instruction': ['go around the right side of the center unit', 'and stop by the right side doorway with the dining table and mirror in it'], 'sub_instruction_tokens': [[49406, 861, 1630, 518, 1155, 1145, 539, 518, 2119, 5695, 49407, 0, 0, 0, 0, 0, 0, 0, 0, 0, 0, 0, 0, 0, 0, 0, 0, 0, 0, 0, 0, 0, 0, 0, 0, 0, 0, 0, 0, 0, 0, 0, 0, 0, 0, 0, 0, 0, 0, 0, 0, 0, 0, 0, 0, 0, 0, 0, 0, 0, 0, 0, 0, 0, 0, 0, 0, 0, 0, 0, 0, 0, 0, 0, 0, 0, 0], [49406, 537, 1691, 638, 518, 1155, 1145, 46575, 593, 518, 8658, 2175, 537, 7220, 530, 585, 49407, 0, 0, 0, 0, 0, 0, 0, 0, 0, 0, 0, 0, 0, 0, 0, 0, 0, 0, 0, 0, 0, 0, 0, 0, 0, 0, 0, 0, 0, 0, 0, 0, 0, 0, 0, 0, 0, 0, 0, 0, 0, 0, 0, 0, 0, 0, 0, 0, 0, 0, 0, 0, 0, 0, 0, 0, 0, 0, 0, 0], [0, 0, 0, 0, 0, 0, 0, 0, 0, 0, 0, 0, 0, 0, 0, 0, 0, 0, 0, 0, 0, 0, 0, 0, 0, 0, 0, 0, 0, 0, 0, 0, 0, 0, 0, 0, 0, 0, 0, 0, 0, 0, 0, 0, 0, 0, 0, 0, 0, 0, 0, 0, 0, 0, 0, 0, 0, 0, 0, 0, 0, 0, 0, 0, 0, 0, 0, 0, 0, 0, 0, 0, 0, 0, 0, 0, 0], [0, 0, 0, 0, 0, 0, 0, 0, 0, 0, 0, 0, 0, 0, 0, 0, 0, 0, 0, 0, 0, 0, 0, 0, 0, 0, 0, 0, 0, 0, 0, 0, 0, 0, 0, 0, 0, 0, 0, 0, 0, 0, 0, 0, 0, 0, 0, 0, 0, 0, 0, 0, 0, 0, 0, 0, 0, 0, 0, 0, 0, 0, 0, 0, 0, 0, 0, 0, 0, 0, 0, 0, 0, 0, 0, 0, 0], [0, 0, 0, 0, 0, 0, 0, 0, 0, 0, 0, 0, 0, 0, 0, 0, 0, 0, 0, 0, 0, 0, 0, 0, 0, 0, 0, 0, 0, 0, 0, 0, 0, 0, 0, 0, 0, 0, 0, 0, 0, 0, 0, 0, 0, 0, 0, 0, 0, 0, 0, 0, 0, 0, 0, 0, 0, 0, 0, 0, 0, 0, 0, 0, 0, 0, 0, 0, 0, 0, 0, 0, 0, 0, 0, 0, 0], [0, 0, 0, 0, 0, 0, 0, 0, 0, 0, 0, 0, 0, 0, 0, 0, 0, 0, 0, 0, 0, 0, 0, 0, 0, 0, 0, 0, 0, 0, 0, 0, 0, 0, 0, 0, 0, 0, 0, 0, 0, 0, 0, 0, 0, 0, 0, 0, 0, 0, 0, 0, 0, 0, 0, 0, 0, 0, 0, 0, 0, 0, 0, 0, 0, 0, 0, 0, 0, 0, 0, 0, 0, 0, 0, 0, 0], [0, 0, 0, 0, 0, 0, 0, 0, 0, 0, 0, 0, 0, 0, 0, 0, 0, 0, 0, 0, 0, 0, 0, 0, 0, 0, 0, 0, 0, 0, 0, 0, 0, 0, 0, 0, 0, 0, 0, 0, 0, 0, 0, 0, 0, 0, 0, 0, 0, 0, 0, 0, 0, 0, 0, 0, 0, 0, 0, 0, 0, 0, 0, 0, 0, 0, 0, 0, 0, 0, 0, 0, 0, 0, 0, 0, 0], [0, 0, 0, 0, 0, 0, 0, 0, 0, 0, 0, 0, 0, 0, 0, 0, 0, 0, 0, 0, 0, 0, 0, 0, 0, 0, 0, 0, 0, 0, 0, 0, 0, 0, 0, 0, 0, 0, 0, 0, 0, 0, 0, 0, 0, 0, 0, 0, 0, 0, 0, 0, 0, 0, 0, 0, 0, 0, 0, 0, 0, 0, 0, 0, 0, 0, 0, 0, 0, 0, 0, 0, 0, 0, 0, 0, 0], [0, 0, 0, 0, 0, 0, 0, 0, 0, 0, 0, 0, 0, 0, 0, 0, 0, 0, 0, 0, 0, 0, 0, 0, 0, 0, 0, 0, 0, 0, 0, 0, 0, 0, 0, 0, 0, 0, 0, 0, 0, 0, 0, 0, 0, 0, 0, 0, 0, 0, 0, 0, 0, 0, 0, 0, 0, 0, 0, 0, 0, 0, 0, 0, 0, 0, 0, 0, 0, 0, 0, 0, 0, 0, 0, 0, 0], [0, 0, 0, 0, 0, 0, 0, 0, 0, 0, 0, 0, 0, 0, 0, 0, 0, 0, 0, 0, 0, 0, 0, 0, 0, 0, 0, 0, 0, 0, 0, 0, 0, 0, 0, 0, 0, 0, 0, 0, 0, 0, 0, 0, 0, 0, 0, 0, 0, 0, 0, 0, 0, 0, 0, 0, 0, 0, 0, 0, 0, 0, 0, 0, 0, 0, 0, 0, 0, 0, 0, 0, 0, 0, 0, 0, 0], [0, 0, 0, 0, 0, 0, 0, 0, 0, 0, 0, 0, 0, 0, 0, 0, 0, 0, 0, 0, 0, 0, 0, 0, 0, 0, 0, 0, 0, 0, 0, 0, 0, 0, 0, 0, 0, 0, 0, 0, 0, 0, 0, 0, 0, 0, 0, 0, 0, 0, 0, 0, 0, 0, 0, 0, 0, 0, 0, 0, 0, 0, 0, 0, 0, 0, 0, 0, 0, 0, 0, 0, 0, 0, 0, 0, 0]], 'action_to_sub': [0, 0, 0, 0, 0, 0, 0, 0, 0, 0, 0, 0, 0, 0, 0, 0, 0, 0, 1, 1, 1, 1, 1, 1, 1, 1, 1, 1, 1, 1, 1, 1, 1, 1, 1, 1, 1, 1, 1, 1, 1, 1, 1, 1, 1, 1, -1, -1, -1, -1, -1, -1, -1, -1, -1, -1, -1, -1, -1, -1, -1, -1, -1, -1, -1, -1, -1, -1, -1, -1, -1, -1, -1, -1, -1, -1, -1, -1, -1, -1, -1, -1, -1, -1, -1, -1, -1, -1, -1, -1, -1, -1, -1, -1, -1, -1, -1, -1, -1, -1, -1, -1, -1, -1, -1, -1, -1, -1, -1, -1, -1, -1, -1, -1, -1, -1, -1, -1, -1, -1, -1, -1, -1, -1, -1, -1, -1, -1, -1, -1, -1, -1, -1, -1, -1, -1, -1, -1, -1, -1, -1, -1, -1, -1, -1, -1, -1, -1, -1, -1, -1, -1, -1, -1, -1, -1, -1, -1, -1, -1, -1, -1, -1, -1, -1, -1, -1, -1, -1, -1, -1, -1, -1, -1, -1, -1, -1, -1, -1, -1, -1, -1, -1, -1, -1, -1, -1, -1, -1, -1, -1, -1, -1, -1, -1, -1, -1, -1, -1, -1, -1, -1, -1, -1, -1, -1, -1, -1, -1, -1, -1, -1, -1, -1, -1]}\n",
      "../data/datasets/R2R_VLNCE_FGSub/train/train_sub.json.gz\n"
     ]
    },
    {
     "data": {
      "application/vnd.jupyter.widget-view+json": {
       "model_id": "6acaa24733684aff9335b3369aadbe79",
       "version_major": 2,
       "version_minor": 0
      },
      "text/plain": [
       "  0%|          | 0/259 [00:00<?, ?it/s]"
      ]
     },
     "metadata": {},
     "output_type": "display_data"
    },
    {
     "name": "stdout",
     "output_type": "stream",
     "text": [
      "777\n",
      "{'episode_id': 185, 'trajectory_id': 2049, 'scene_id': 'mp3d/5LpN3gDmAk7/5LpN3gDmAk7.glb', 'start_position': [3.0204501152038574, -1.0843499898910522, 15.04889965057373], 'start_rotation': [0, 0.9105493663023047, 0, -0.413400352595969], 'info': {'geodesic_distance': 11.836960792541504}, 'goals': [{'position': [9.175270080566406, -1.0843499898910522, 6.389739990234375], 'radius': 3.0}], 'instruction': {'instruction_text': 'Exit the bathroom and turn left, go past the stairs and turn right then go past the kitchen table and turn left. Wait by the white couch that is facing the painting. ', 'instruction_tokens': [816, 2202, 222, 103, 2300, 1251, 982, 1589, 2202, 2058, 103, 2300, 1819, 2207, 982, 1589, 2202, 1205, 2159, 103, 2300, 1251, 9, 2379, 372, 2202, 2435, 549, 2201, 1168, 833, 2202, 1553, 9, 0, 0, 0, 0, 0, 0, 0, 0, 0, 0, 0, 0, 0, 0, 0, 0, 0, 0, 0, 0, 0, 0, 0, 0, 0, 0, 0, 0, 0, 0, 0, 0, 0, 0, 0, 0, 0, 0, 0, 0, 0, 0, 0, 0, 0, 0, 0, 0, 0, 0, 0, 0, 0, 0, 0, 0, 0, 0, 0, 0, 0, 0, 0, 0, 0, 0]}, 'reference_path': [[3.0204501152038574, -1.0843499898910522, 15.04889965057373], [3.5566000938415527, -1.0843499898910522, 13.003899574279785], [3.1697399616241455, -1.0843499898910522, 10.744999885559082], [8.674449920654297, -1.0843499898910522, 8.6083402633667], [8.957229614257812, -1.0843499898910522, 7.325819969177246], [9.175270080566406, -1.0843499898910522, 6.389739990234375]], 'sub_instruction': ['exit the bathroom and turn left', 'go past the stair and turn right', 'then go past the kitchen table', 'and turn left', 'wait by the white couch that be face the painting'], 'sub_instruction_tokens': [[49406, 9374, 518, 8470, 537, 2105, 1823, 49407, 0, 0, 0, 0, 0, 0, 0, 0, 0, 0, 0, 0, 0, 0, 0, 0, 0, 0, 0, 0, 0, 0, 0, 0, 0, 0, 0, 0, 0, 0, 0, 0, 0, 0, 0, 0, 0, 0, 0, 0, 0, 0, 0, 0, 0, 0, 0, 0, 0, 0, 0, 0, 0, 0, 0, 0, 0, 0, 0, 0, 0, 0, 0, 0, 0, 0, 0, 0, 0], [49406, 861, 2729, 518, 17662, 537, 2105, 1155, 49407, 0, 0, 0, 0, 0, 0, 0, 0, 0, 0, 0, 0, 0, 0, 0, 0, 0, 0, 0, 0, 0, 0, 0, 0, 0, 0, 0, 0, 0, 0, 0, 0, 0, 0, 0, 0, 0, 0, 0, 0, 0, 0, 0, 0, 0, 0, 0, 0, 0, 0, 0, 0, 0, 0, 0, 0, 0, 0, 0, 0, 0, 0, 0, 0, 0, 0, 0, 0], [49406, 1594, 861, 2729, 518, 4485, 2175, 49407, 0, 0, 0, 0, 0, 0, 0, 0, 0, 0, 0, 0, 0, 0, 0, 0, 0, 0, 0, 0, 0, 0, 0, 0, 0, 0, 0, 0, 0, 0, 0, 0, 0, 0, 0, 0, 0, 0, 0, 0, 0, 0, 0, 0, 0, 0, 0, 0, 0, 0, 0, 0, 0, 0, 0, 0, 0, 0, 0, 0, 0, 0, 0, 0, 0, 0, 0, 0, 0], [49406, 537, 2105, 1823, 49407, 0, 0, 0, 0, 0, 0, 0, 0, 0, 0, 0, 0, 0, 0, 0, 0, 0, 0, 0, 0, 0, 0, 0, 0, 0, 0, 0, 0, 0, 0, 0, 0, 0, 0, 0, 0, 0, 0, 0, 0, 0, 0, 0, 0, 0, 0, 0, 0, 0, 0, 0, 0, 0, 0, 0, 0, 0, 0, 0, 0, 0, 0, 0, 0, 0, 0, 0, 0, 0, 0, 0, 0], [49406, 1885, 638, 518, 1579, 12724, 682, 655, 1710, 518, 3086, 49407, 0, 0, 0, 0, 0, 0, 0, 0, 0, 0, 0, 0, 0, 0, 0, 0, 0, 0, 0, 0, 0, 0, 0, 0, 0, 0, 0, 0, 0, 0, 0, 0, 0, 0, 0, 0, 0, 0, 0, 0, 0, 0, 0, 0, 0, 0, 0, 0, 0, 0, 0, 0, 0, 0, 0, 0, 0, 0, 0, 0, 0, 0, 0, 0, 0], [0, 0, 0, 0, 0, 0, 0, 0, 0, 0, 0, 0, 0, 0, 0, 0, 0, 0, 0, 0, 0, 0, 0, 0, 0, 0, 0, 0, 0, 0, 0, 0, 0, 0, 0, 0, 0, 0, 0, 0, 0, 0, 0, 0, 0, 0, 0, 0, 0, 0, 0, 0, 0, 0, 0, 0, 0, 0, 0, 0, 0, 0, 0, 0, 0, 0, 0, 0, 0, 0, 0, 0, 0, 0, 0, 0, 0], [0, 0, 0, 0, 0, 0, 0, 0, 0, 0, 0, 0, 0, 0, 0, 0, 0, 0, 0, 0, 0, 0, 0, 0, 0, 0, 0, 0, 0, 0, 0, 0, 0, 0, 0, 0, 0, 0, 0, 0, 0, 0, 0, 0, 0, 0, 0, 0, 0, 0, 0, 0, 0, 0, 0, 0, 0, 0, 0, 0, 0, 0, 0, 0, 0, 0, 0, 0, 0, 0, 0, 0, 0, 0, 0, 0, 0], [0, 0, 0, 0, 0, 0, 0, 0, 0, 0, 0, 0, 0, 0, 0, 0, 0, 0, 0, 0, 0, 0, 0, 0, 0, 0, 0, 0, 0, 0, 0, 0, 0, 0, 0, 0, 0, 0, 0, 0, 0, 0, 0, 0, 0, 0, 0, 0, 0, 0, 0, 0, 0, 0, 0, 0, 0, 0, 0, 0, 0, 0, 0, 0, 0, 0, 0, 0, 0, 0, 0, 0, 0, 0, 0, 0, 0], [0, 0, 0, 0, 0, 0, 0, 0, 0, 0, 0, 0, 0, 0, 0, 0, 0, 0, 0, 0, 0, 0, 0, 0, 0, 0, 0, 0, 0, 0, 0, 0, 0, 0, 0, 0, 0, 0, 0, 0, 0, 0, 0, 0, 0, 0, 0, 0, 0, 0, 0, 0, 0, 0, 0, 0, 0, 0, 0, 0, 0, 0, 0, 0, 0, 0, 0, 0, 0, 0, 0, 0, 0, 0, 0, 0, 0], [0, 0, 0, 0, 0, 0, 0, 0, 0, 0, 0, 0, 0, 0, 0, 0, 0, 0, 0, 0, 0, 0, 0, 0, 0, 0, 0, 0, 0, 0, 0, 0, 0, 0, 0, 0, 0, 0, 0, 0, 0, 0, 0, 0, 0, 0, 0, 0, 0, 0, 0, 0, 0, 0, 0, 0, 0, 0, 0, 0, 0, 0, 0, 0, 0, 0, 0, 0, 0, 0, 0, 0, 0, 0, 0, 0, 0], [0, 0, 0, 0, 0, 0, 0, 0, 0, 0, 0, 0, 0, 0, 0, 0, 0, 0, 0, 0, 0, 0, 0, 0, 0, 0, 0, 0, 0, 0, 0, 0, 0, 0, 0, 0, 0, 0, 0, 0, 0, 0, 0, 0, 0, 0, 0, 0, 0, 0, 0, 0, 0, 0, 0, 0, 0, 0, 0, 0, 0, 0, 0, 0, 0, 0, 0, 0, 0, 0, 0, 0, 0, 0, 0, 0, 0]], 'action_to_sub': [0, 0, 0, 0, 0, 0, 0, 0, 0, 0, 0, 0, 0, 0, 0, 0, 1, 1, 1, 1, 1, 1, 1, 1, 1, 1, 1, 2, 2, 2, 2, 2, 2, 2, 2, 2, 2, 2, 2, 2, 2, 2, 2, 2, 2, 2, 2, 2, 2, 2, 2, 2, 2, 2, 2, 2, 2, 2, 2, 3, 3, 3, 3, 3, 3, 3, 4, 4, 4, 4, 4, -1, -1, -1, -1, -1, -1, -1, -1, -1, -1, -1, -1, -1, -1, -1, -1, -1, -1, -1, -1, -1, -1, -1, -1, -1, -1, -1, -1, -1, -1, -1, -1, -1, -1, -1, -1, -1, -1, -1, -1, -1, -1, -1, -1, -1, -1, -1, -1, -1, -1, -1, -1, -1, -1, -1, -1, -1, -1, -1, -1, -1, -1, -1, -1, -1, -1, -1, -1, -1, -1, -1, -1, -1, -1, -1, -1, -1, -1, -1, -1, -1, -1, -1, -1, -1, -1, -1, -1, -1, -1, -1, -1, -1, -1, -1, -1, -1, -1, -1, -1, -1, -1, -1, -1, -1, -1, -1, -1, -1, -1, -1, -1, -1, -1, -1, -1, -1, -1, -1, -1, -1, -1, -1, -1, -1, -1, -1, -1, -1, -1, -1, -1, -1, -1, -1, -1, -1, -1, -1, -1, -1, -1, -1, -1]}\n",
      "../data/datasets/R2R_VLNCE_FGSub/val_seen/val_seen_sub.json.gz\n"
     ]
    },
    {
     "data": {
      "application/vnd.jupyter.widget-view+json": {
       "model_id": "9c3d16ff561d4b6aa4df4c8ed257feeb",
       "version_major": 2,
       "version_minor": 0
      },
      "text/plain": [
       "  0%|          | 0/613 [00:00<?, ?it/s]"
      ]
     },
     "metadata": {},
     "output_type": "display_data"
    },
    {
     "name": "stdout",
     "output_type": "stream",
     "text": [
      "1839\n",
      "{'episode_id': 1012, 'trajectory_id': 4099, 'scene_id': 'mp3d/TbHJrupSAjP/TbHJrupSAjP.glb', 'start_position': [-1.9241100549697876, 3.4244003295898438, -7.408279895782471], 'start_rotation': [0, 0.7212540129736931, 0, -0.6926706640022687], 'info': {'geodesic_distance': 7.445135116577148}, 'goals': [{'position': [0.9583550095558167, 3.11130428314209, -4.9011101722717285], 'radius': 3.0}], 'instruction': {'instruction_text': 'walk away from sink, turn left, walk towards foot of bed, exit through doorway on left, turn right and step down two stairs and stop. ', 'instruction_tokens': [2384, 167, 936, 1972, 2300, 1251, 2384, 2260, 903, 1472, 243, 816, 2228, 709, 1480, 1251, 2300, 1819, 103, 2088, 717, 2313, 2058, 103, 2104, 9, 0, 0, 0, 0, 0, 0, 0, 0, 0, 0, 0, 0, 0, 0, 0, 0, 0, 0, 0, 0, 0, 0, 0, 0, 0, 0, 0, 0, 0, 0, 0, 0, 0, 0, 0, 0, 0, 0, 0, 0, 0, 0, 0, 0, 0, 0, 0, 0, 0, 0, 0, 0, 0, 0, 0, 0, 0, 0, 0, 0, 0, 0, 0, 0, 0, 0, 0, 0, 0, 0, 0, 0, 0, 0]}, 'reference_path': [[-1.9241100549697876, 3.4244003295898438, -7.408279895782471], [-2.9906399250030518, 3.5454914569854736, -7.188910007476807], [-3.1145999431610107, 3.5302207469940186, -5.832210063934326], [-0.711899995803833, 3.5800554752349854, -6.376410007476807], [2.1451499462127686, 3.560312509536743, -5.003729820251465], [0.9583550095558167, 3.11130428314209, -4.9011101722717285]], 'sub_instruction': ['walk away from sink', 'turn left walk towards foot of bed', 'exit through doorway on left turn right and step down two stair and stop'], 'sub_instruction_tokens': [[49406, 2374, 1520, 633, 14551, 49407, 0, 0, 0, 0, 0, 0, 0, 0, 0, 0, 0, 0, 0, 0, 0, 0, 0, 0, 0, 0, 0, 0, 0, 0, 0, 0, 0, 0, 0, 0, 0, 0, 0, 0, 0, 0, 0, 0, 0, 0, 0, 0, 0, 0, 0, 0, 0, 0, 0, 0, 0, 0, 0, 0, 0, 0, 0, 0, 0, 0, 0, 0, 0, 0, 0, 0, 0, 0, 0, 0, 0], [49406, 2105, 1823, 2374, 4447, 4738, 539, 2722, 49407, 0, 0, 0, 0, 0, 0, 0, 0, 0, 0, 0, 0, 0, 0, 0, 0, 0, 0, 0, 0, 0, 0, 0, 0, 0, 0, 0, 0, 0, 0, 0, 0, 0, 0, 0, 0, 0, 0, 0, 0, 0, 0, 0, 0, 0, 0, 0, 0, 0, 0, 0, 0, 0, 0, 0, 0, 0, 0, 0, 0, 0, 0, 0, 0, 0, 0, 0, 0], [49406, 9374, 1417, 46575, 525, 1823, 2105, 1155, 537, 3348, 1136, 1237, 17662, 537, 1691, 49407, 0, 0, 0, 0, 0, 0, 0, 0, 0, 0, 0, 0, 0, 0, 0, 0, 0, 0, 0, 0, 0, 0, 0, 0, 0, 0, 0, 0, 0, 0, 0, 0, 0, 0, 0, 0, 0, 0, 0, 0, 0, 0, 0, 0, 0, 0, 0, 0, 0, 0, 0, 0, 0, 0, 0, 0, 0, 0, 0, 0, 0], [0, 0, 0, 0, 0, 0, 0, 0, 0, 0, 0, 0, 0, 0, 0, 0, 0, 0, 0, 0, 0, 0, 0, 0, 0, 0, 0, 0, 0, 0, 0, 0, 0, 0, 0, 0, 0, 0, 0, 0, 0, 0, 0, 0, 0, 0, 0, 0, 0, 0, 0, 0, 0, 0, 0, 0, 0, 0, 0, 0, 0, 0, 0, 0, 0, 0, 0, 0, 0, 0, 0, 0, 0, 0, 0, 0, 0], [0, 0, 0, 0, 0, 0, 0, 0, 0, 0, 0, 0, 0, 0, 0, 0, 0, 0, 0, 0, 0, 0, 0, 0, 0, 0, 0, 0, 0, 0, 0, 0, 0, 0, 0, 0, 0, 0, 0, 0, 0, 0, 0, 0, 0, 0, 0, 0, 0, 0, 0, 0, 0, 0, 0, 0, 0, 0, 0, 0, 0, 0, 0, 0, 0, 0, 0, 0, 0, 0, 0, 0, 0, 0, 0, 0, 0], [0, 0, 0, 0, 0, 0, 0, 0, 0, 0, 0, 0, 0, 0, 0, 0, 0, 0, 0, 0, 0, 0, 0, 0, 0, 0, 0, 0, 0, 0, 0, 0, 0, 0, 0, 0, 0, 0, 0, 0, 0, 0, 0, 0, 0, 0, 0, 0, 0, 0, 0, 0, 0, 0, 0, 0, 0, 0, 0, 0, 0, 0, 0, 0, 0, 0, 0, 0, 0, 0, 0, 0, 0, 0, 0, 0, 0], [0, 0, 0, 0, 0, 0, 0, 0, 0, 0, 0, 0, 0, 0, 0, 0, 0, 0, 0, 0, 0, 0, 0, 0, 0, 0, 0, 0, 0, 0, 0, 0, 0, 0, 0, 0, 0, 0, 0, 0, 0, 0, 0, 0, 0, 0, 0, 0, 0, 0, 0, 0, 0, 0, 0, 0, 0, 0, 0, 0, 0, 0, 0, 0, 0, 0, 0, 0, 0, 0, 0, 0, 0, 0, 0, 0, 0], [0, 0, 0, 0, 0, 0, 0, 0, 0, 0, 0, 0, 0, 0, 0, 0, 0, 0, 0, 0, 0, 0, 0, 0, 0, 0, 0, 0, 0, 0, 0, 0, 0, 0, 0, 0, 0, 0, 0, 0, 0, 0, 0, 0, 0, 0, 0, 0, 0, 0, 0, 0, 0, 0, 0, 0, 0, 0, 0, 0, 0, 0, 0, 0, 0, 0, 0, 0, 0, 0, 0, 0, 0, 0, 0, 0, 0], [0, 0, 0, 0, 0, 0, 0, 0, 0, 0, 0, 0, 0, 0, 0, 0, 0, 0, 0, 0, 0, 0, 0, 0, 0, 0, 0, 0, 0, 0, 0, 0, 0, 0, 0, 0, 0, 0, 0, 0, 0, 0, 0, 0, 0, 0, 0, 0, 0, 0, 0, 0, 0, 0, 0, 0, 0, 0, 0, 0, 0, 0, 0, 0, 0, 0, 0, 0, 0, 0, 0, 0, 0, 0, 0, 0, 0], [0, 0, 0, 0, 0, 0, 0, 0, 0, 0, 0, 0, 0, 0, 0, 0, 0, 0, 0, 0, 0, 0, 0, 0, 0, 0, 0, 0, 0, 0, 0, 0, 0, 0, 0, 0, 0, 0, 0, 0, 0, 0, 0, 0, 0, 0, 0, 0, 0, 0, 0, 0, 0, 0, 0, 0, 0, 0, 0, 0, 0, 0, 0, 0, 0, 0, 0, 0, 0, 0, 0, 0, 0, 0, 0, 0, 0], [0, 0, 0, 0, 0, 0, 0, 0, 0, 0, 0, 0, 0, 0, 0, 0, 0, 0, 0, 0, 0, 0, 0, 0, 0, 0, 0, 0, 0, 0, 0, 0, 0, 0, 0, 0, 0, 0, 0, 0, 0, 0, 0, 0, 0, 0, 0, 0, 0, 0, 0, 0, 0, 0, 0, 0, 0, 0, 0, 0, 0, 0, 0, 0, 0, 0, 0, 0, 0, 0, 0, 0, 0, 0, 0, 0, 0]], 'action_to_sub': [0, 0, 0, 0, 0, 0, 0, 0, 0, 0, 0, 0, 0, 0, 1, 1, 1, 1, 1, 1, 1, 1, 1, 2, 2, 2, 2, 2, 2, 2, 2, 2, 2, 2, 2, 2, 2, 2, 2, 2, 2, 2, 2, 2, 2, 2, 2, 2, 2, 2, 2, 2, 2, 2, 2, 2, 2, 2, 2, 2, 2, 2, 2, 2, 2, 2, 2, 2, 2, 2, -1, -1, -1, -1, -1, -1, -1, -1, -1, -1, -1, -1, -1, -1, -1, -1, -1, -1, -1, -1, -1, -1, -1, -1, -1, -1, -1, -1, -1, -1, -1, -1, -1, -1, -1, -1, -1, -1, -1, -1, -1, -1, -1, -1, -1, -1, -1, -1, -1, -1, -1, -1, -1, -1, -1, -1, -1, -1, -1, -1, -1, -1, -1, -1, -1, -1, -1, -1, -1, -1, -1, -1, -1, -1, -1, -1, -1, -1, -1, -1, -1, -1, -1, -1, -1, -1, -1, -1, -1, -1, -1, -1, -1, -1, -1, -1, -1, -1, -1, -1, -1, -1, -1, -1, -1, -1, -1, -1, -1, -1, -1, -1, -1, -1, -1, -1, -1, -1, -1, -1, -1, -1, -1, -1, -1, -1, -1, -1, -1, -1, -1, -1, -1, -1, -1, -1, -1, -1, -1, -1, -1, -1, -1, -1, -1]}\n",
      "../data/datasets/R2R_VLNCE_FGSub/val_unseen/val_unseen_sub.json.gz\n"
     ]
    },
    {
     "data": {
      "application/vnd.jupyter.widget-view+json": {
       "model_id": "98842eca6eb94a55815c45aee20cae2e",
       "version_major": 2,
       "version_minor": 0
      },
      "text/plain": [
       "  0%|          | 0/1136 [00:00<?, ?it/s]"
      ]
     },
     "metadata": {},
     "output_type": "display_data"
    },
    {
     "name": "stdout",
     "output_type": "stream",
     "text": [
      "3408\n",
      "{'episode_id': 1681, 'trajectory_id': 0, 'scene_id': 'mp3d/yqstnuAEVhm/yqstnuAEVhm.glb', 'start_position': [6.034969806671143, 3.1383068561553955, -11.127400398254395], 'start_rotation': [0, -0.47537390589207923, 0, -0.8797838652742551], 'instruction': {'instruction_text': 'Walk into the living room from the hallway. Enter the hallway to the left. Wait inside the bedroom through the first door on the left. ', 'instruction_tokens': [2384, 1165, 2202, 1290, 1842, 936, 2202, 1036, 9, 791, 2202, 1036, 2246, 2202, 1251, 9, 2379, 1150, 2202, 246, 2228, 2202, 870, 701, 1480, 2202, 1251, 9, 0, 0, 0, 0, 0, 0, 0, 0, 0, 0, 0, 0, 0, 0, 0, 0, 0, 0, 0, 0, 0, 0, 0, 0, 0, 0, 0, 0, 0, 0, 0, 0, 0, 0, 0, 0, 0, 0, 0, 0, 0, 0, 0, 0, 0, 0, 0, 0, 0, 0, 0, 0, 0, 0, 0, 0, 0, 0, 0, 0, 0, 0, 0, 0, 0, 0, 0, 0, 0, 0, 0, 0]}, 'sub_instruction': ['walk into the living room from the hallway', 'Enter the hallway to the left', 'wait inside the bedroom through the first door on the left'], 'sub_instruction_tokens': [[49406, 2374, 1095, 518, 2815, 1530, 633, 518, 26845, 49407, 0, 0, 0, 0, 0, 0, 0, 0, 0, 0, 0, 0, 0, 0, 0, 0, 0, 0, 0, 0, 0, 0, 0, 0, 0, 0, 0, 0, 0, 0, 0, 0, 0, 0, 0, 0, 0, 0, 0, 0, 0, 0, 0, 0, 0, 0, 0, 0, 0, 0, 0, 0, 0, 0, 0, 0, 0, 0, 0, 0, 0, 0, 0, 0, 0, 0, 0], [49406, 3819, 518, 26845, 531, 518, 1823, 49407, 0, 0, 0, 0, 0, 0, 0, 0, 0, 0, 0, 0, 0, 0, 0, 0, 0, 0, 0, 0, 0, 0, 0, 0, 0, 0, 0, 0, 0, 0, 0, 0, 0, 0, 0, 0, 0, 0, 0, 0, 0, 0, 0, 0, 0, 0, 0, 0, 0, 0, 0, 0, 0, 0, 0, 0, 0, 0, 0, 0, 0, 0, 0, 0, 0, 0, 0, 0, 0], [49406, 1885, 2912, 518, 8411, 1417, 518, 874, 2489, 525, 518, 1823, 49407, 0, 0, 0, 0, 0, 0, 0, 0, 0, 0, 0, 0, 0, 0, 0, 0, 0, 0, 0, 0, 0, 0, 0, 0, 0, 0, 0, 0, 0, 0, 0, 0, 0, 0, 0, 0, 0, 0, 0, 0, 0, 0, 0, 0, 0, 0, 0, 0, 0, 0, 0, 0, 0, 0, 0, 0, 0, 0, 0, 0, 0, 0, 0, 0], [0, 0, 0, 0, 0, 0, 0, 0, 0, 0, 0, 0, 0, 0, 0, 0, 0, 0, 0, 0, 0, 0, 0, 0, 0, 0, 0, 0, 0, 0, 0, 0, 0, 0, 0, 0, 0, 0, 0, 0, 0, 0, 0, 0, 0, 0, 0, 0, 0, 0, 0, 0, 0, 0, 0, 0, 0, 0, 0, 0, 0, 0, 0, 0, 0, 0, 0, 0, 0, 0, 0, 0, 0, 0, 0, 0, 0], [0, 0, 0, 0, 0, 0, 0, 0, 0, 0, 0, 0, 0, 0, 0, 0, 0, 0, 0, 0, 0, 0, 0, 0, 0, 0, 0, 0, 0, 0, 0, 0, 0, 0, 0, 0, 0, 0, 0, 0, 0, 0, 0, 0, 0, 0, 0, 0, 0, 0, 0, 0, 0, 0, 0, 0, 0, 0, 0, 0, 0, 0, 0, 0, 0, 0, 0, 0, 0, 0, 0, 0, 0, 0, 0, 0, 0], [0, 0, 0, 0, 0, 0, 0, 0, 0, 0, 0, 0, 0, 0, 0, 0, 0, 0, 0, 0, 0, 0, 0, 0, 0, 0, 0, 0, 0, 0, 0, 0, 0, 0, 0, 0, 0, 0, 0, 0, 0, 0, 0, 0, 0, 0, 0, 0, 0, 0, 0, 0, 0, 0, 0, 0, 0, 0, 0, 0, 0, 0, 0, 0, 0, 0, 0, 0, 0, 0, 0, 0, 0, 0, 0, 0, 0], [0, 0, 0, 0, 0, 0, 0, 0, 0, 0, 0, 0, 0, 0, 0, 0, 0, 0, 0, 0, 0, 0, 0, 0, 0, 0, 0, 0, 0, 0, 0, 0, 0, 0, 0, 0, 0, 0, 0, 0, 0, 0, 0, 0, 0, 0, 0, 0, 0, 0, 0, 0, 0, 0, 0, 0, 0, 0, 0, 0, 0, 0, 0, 0, 0, 0, 0, 0, 0, 0, 0, 0, 0, 0, 0, 0, 0], [0, 0, 0, 0, 0, 0, 0, 0, 0, 0, 0, 0, 0, 0, 0, 0, 0, 0, 0, 0, 0, 0, 0, 0, 0, 0, 0, 0, 0, 0, 0, 0, 0, 0, 0, 0, 0, 0, 0, 0, 0, 0, 0, 0, 0, 0, 0, 0, 0, 0, 0, 0, 0, 0, 0, 0, 0, 0, 0, 0, 0, 0, 0, 0, 0, 0, 0, 0, 0, 0, 0, 0, 0, 0, 0, 0, 0], [0, 0, 0, 0, 0, 0, 0, 0, 0, 0, 0, 0, 0, 0, 0, 0, 0, 0, 0, 0, 0, 0, 0, 0, 0, 0, 0, 0, 0, 0, 0, 0, 0, 0, 0, 0, 0, 0, 0, 0, 0, 0, 0, 0, 0, 0, 0, 0, 0, 0, 0, 0, 0, 0, 0, 0, 0, 0, 0, 0, 0, 0, 0, 0, 0, 0, 0, 0, 0, 0, 0, 0, 0, 0, 0, 0, 0], [0, 0, 0, 0, 0, 0, 0, 0, 0, 0, 0, 0, 0, 0, 0, 0, 0, 0, 0, 0, 0, 0, 0, 0, 0, 0, 0, 0, 0, 0, 0, 0, 0, 0, 0, 0, 0, 0, 0, 0, 0, 0, 0, 0, 0, 0, 0, 0, 0, 0, 0, 0, 0, 0, 0, 0, 0, 0, 0, 0, 0, 0, 0, 0, 0, 0, 0, 0, 0, 0, 0, 0, 0, 0, 0, 0, 0], [0, 0, 0, 0, 0, 0, 0, 0, 0, 0, 0, 0, 0, 0, 0, 0, 0, 0, 0, 0, 0, 0, 0, 0, 0, 0, 0, 0, 0, 0, 0, 0, 0, 0, 0, 0, 0, 0, 0, 0, 0, 0, 0, 0, 0, 0, 0, 0, 0, 0, 0, 0, 0, 0, 0, 0, 0, 0, 0, 0, 0, 0, 0, 0, 0, 0, 0, 0, 0, 0, 0, 0, 0, 0, 0, 0, 0]]}\n",
      "../data/datasets/R2R_VLNCE_FGSub/test/test_sub.json.gz\n"
     ]
    }
   ],
   "source": [
    "for split in [\"train\",\"val_seen\",\"val_unseen\",\"test\"]:\n",
    "    lens = generate_subpath(split)\n",
    "    "
   ]
  },
  {
   "cell_type": "code",
   "execution_count": 23,
   "metadata": {},
   "outputs": [
    {
     "name": "stdout",
     "output_type": "stream",
     "text": [
      "0.0002775464890369137\n"
     ]
    }
   ],
   "source": [
    "print(np.sum(lens>300)/len(lens))"
   ]
  },
  {
   "cell_type": "code",
   "execution_count": 24,
   "metadata": {},
   "outputs": [],
   "source": []
  },
  {
   "cell_type": "code",
   "execution_count": 39,
   "metadata": {},
   "outputs": [
    {
     "name": "stdout",
     "output_type": "stream",
     "text": [
      "{'locations': [[6.730010032653809, 0.15230600535869598, -0.6780830025672913], [6.480069160461426, 0.15230600535869598, -0.6726396083831787], [6.230128288269043, 0.15230600535869598, -0.6671962738037109], [5.98018741607666, 0.15230600535869598, -0.6617529392242432], [5.730246543884277, 0.15230600535869598, -0.6563096046447754], [5.4803056716918945, 0.15230600535869598, -0.6508662700653076], [5.230364799499512, 0.15230600535869598, -0.6454229354858398], [4.980423927307129, 0.15230600535869598, -0.6399796009063721], [4.730483055114746, 0.15230600535869598, -0.6345362663269043], [4.480542182922363, 0.15230600535869598, -0.6290929317474365], [4.2306013107299805, 0.15230600535869598, -0.6236495971679688], [3.9806604385375977, 0.15230600535869598, -0.618206262588501], [3.740645170211792, 0.15230600535869598, -0.5482590198516846], [3.5006299018859863, 0.15230600535869598, -0.47831180691719055], [3.2606146335601807, 0.15230600535869598, -0.40836459398269653], [3.020599365234375, 0.15230600535869598, -0.3384173810482025], [2.806865930557251, 0.15230600535869598, -0.2087329626083374], [2.6339800357818604, 0.15230600535869598, -0.028149127960205078], [2.4610941410064697, 0.15230600535869598, 0.15243470668792725], [2.3408377170562744, 0.1522940695285797, 0.37161144614219666], [2.220581293106079, 0.11261924356222153, 0.5907881855964661], [2.100324869155884, 0.07294441014528275, 0.8099648952484131], [1.980068564414978, 0.034263595938682556, 1.0291416645050049], [1.9206370115280151, -0.006208598613739014, 1.271974802017212], [1.8849496841430664, -0.046680793166160583, 1.514807939529419], [1.8849496841430664, -0.026638075709342957, 1.3945516347885132], [1.8849496841430664, 0.01501871645450592, 1.14461088180542], [1.8849496841430664, 0.05667552351951599, 0.8946701288223267], [1.8849496841430664, 0.09833231568336487, 0.6447293758392334], [1.8849496841430664, 0.13998912274837494, 0.39478862285614014], [1.8795064687728882, 0.15230600535869598, 0.14484788477420807], [1.884949803352356, 0.13998912274837494, 0.39478862285614014], [1.9443813562393188, 0.15230600535869598, 0.15195558965206146], [1.824125051498413, 0.15230600535869598, 0.32088732719421387], [2.06695818901062, 0.14561641216278076, 0.38031893968582153], [2.0075266361236572, 0.10305851697921753, 0.623151957988739], [1.9480950832366943, 0.061456382274627686, 0.8659849762916565], [1.8886635303497314, 0.020984187722206116, 1.1088180541992188], [1.8849496841430664, 0.009326323866844177, 1.1787652969360352], [1.8849496841430664, 0.050983116030693054, 0.9288245439529419], [1.8849496841430664, 0.09263991564512253, 0.6788837909698486], [1.8849496841430664, 0.134296715259552, 0.42894303798675537], [1.8795064687728882, 0.15230600535869598, 0.1790022999048233], [1.884949803352356, 0.134296715259552, 0.42894303798675537], [1.9443813562393188, 0.15230600535869598, 0.1861100047826767], [1.8849496841430664, 0.13823944330215454, 0.4052867293357849], [1.8795064687728882, 0.15230600535869598, 0.15534599125385284], [1.884949803352356, 0.13823944330215454, 0.4052867293357849], [1.9443813562393188, 0.15230600535869598, 0.16245369613170624], [1.824125051498413, 0.15230600535869598, 0.32088732719421387], [2.06695818901062, 0.14561641216278076, 0.38031893968582153], [2.0075266361236572, 0.10305851697921753, 0.623151957988739], [1.9480950832366943, 0.061456382274627686, 0.8659849762916565], [1.8886635303497314, 0.020984187722206116, 1.1088180541992188], [1.8849496841430664, 0.009326323866844177, 1.1787652969360352], [1.8849496841430664, 0.050983116030693054, 0.9288245439529419], [1.8849496841430664, 0.09263991564512253, 0.6788837909698486], [1.8849496841430664, 0.134296715259552, 0.42894303798675537], [1.8795064687728882, 0.15230600535869598, 0.1790022999048233], [1.884949803352356, 0.134296715259552, 0.42894303798675537], [1.9443813562393188, 0.15230600535869598, 0.1861100047826767], [1.8849496841430664, 0.13823944330215454, 0.4052867293357849], [1.8795064687728882, 0.15230600535869598, 0.15534599125385284], [1.884949803352356, 0.13823944330215454, 0.4052867293357849], [1.9443813562393188, 0.15230600535869598, 0.16245369613170624], [1.824125051498413, 0.15230600535869598, 0.32088732719421387], [2.06695818901062, 0.14561641216278076, 0.38031893968582153], [2.0075266361236572, 0.10305851697921753, 0.623151957988739], [1.9480950832366943, 0.061456382274627686, 0.8659849762916565], [1.8886635303497314, 0.020984187722206116, 1.1088180541992188], [1.8849496841430664, 0.009326323866844177, 1.1787652969360352], [1.8849496841430664, 0.050983116030693054, 0.9288245439529419], [1.8849496841430664, 0.09263991564512253, 0.6788837909698486], [1.8849496841430664, 0.134296715259552, 0.42894303798675537], [1.8795064687728882, 0.15230600535869598, 0.1790022999048233], [1.884949803352356, 0.134296715259552, 0.42894303798675537], [1.9443813562393188, 0.15230600535869598, 0.1861100047826767], [1.8849496841430664, 0.13823944330215454, 0.4052867293357849], [1.8795064687728882, 0.15230600535869598, 0.15534599125385284], [1.884949803352356, 0.13823944330215454, 0.4052867293357849], [1.9443813562393188, 0.15230600535869598, 0.16245369613170624], [1.824125051498413, 0.15230600535869598, 0.32088732719421387], [2.06695818901062, 0.14561641216278076, 0.38031893968582153], [2.0075266361236572, 0.10305851697921753, 0.623151957988739], [1.9480950832366943, 0.061456382274627686, 0.8659849762916565], [1.8886635303497314, 0.020984187722206116, 1.1088180541992188], [1.8849496841430664, 0.009326323866844177, 1.1787652969360352], [1.8849496841430664, 0.050983116030693054, 0.9288245439529419], [1.8849496841430664, 0.09263991564512253, 0.6788837909698486], [1.8849496841430664, 0.134296715259552, 0.42894303798675537], [1.8795064687728882, 0.15230600535869598, 0.1790022999048233], [1.884949803352356, 0.134296715259552, 0.42894303798675537]], 'forward_steps': 91, 'actions': [2, 2, 2, 2, 2, 2, 2, 2, 2, 2, 2, 1, 1, 1, 1, 1, 1, 1, 1, 1, 1, 1, 2, 1, 1, 1, 1, 2, 1, 2, 1, 1, 2, 1, 1, 1, 1, 2, 1, 1, 3, 3, 3, 3, 3, 3, 3, 1, 3, 3, 3, 3, 1, 1, 1, 1, 1, 2, 2, 2, 2, 2, 2, 2, 2, 2, 2, 2, 2, 1, 2, 2, 2, 2, 2, 2, 2, 2, 2, 2, 2, 1, 2, 2, 2, 2, 2, 2, 2, 2, 2, 2, 2, 1, 2, 2, 2, 2, 2, 2, 2, 1, 3, 3, 3, 3, 3, 3, 1, 1, 1, 3, 3, 3, 3, 1, 3, 3, 3, 3, 3, 3, 3, 1, 1, 1, 1, 2, 2, 2, 2, 2, 2, 2, 2, 2, 2, 2, 2, 1, 2, 2, 2, 2, 2, 2, 2, 2, 2, 2, 2, 1, 2, 2, 2, 2, 2, 2, 2, 2, 2, 2, 2, 1, 3, 3, 3, 3, 3, 3, 3, 3, 3, 3, 1, 2, 2, 2, 2, 2, 2, 2, 2, 2, 2, 2, 2, 1, 2, 2, 2, 2, 2, 2, 2, 2, 2, 2, 2, 1, 2, 2, 2, 2, 2, 2, 2, 2, 2, 2, 2, 1, 2, 2, 2, 2, 2, 2, 2, 1, 3, 3, 3, 3, 3, 3, 1, 1, 1, 3, 3, 3, 3, 1, 3, 3, 3, 3, 3, 3, 3, 1, 1, 1, 1, 2, 2, 2, 2, 2, 2, 2, 2, 2, 2, 2, 2, 1, 2, 2, 2, 2, 2, 2, 2, 2, 2, 2, 2, 1, 2, 2, 2, 2, 2, 2, 2, 2, 2, 2, 2, 1, 3, 3, 3, 3, 3, 3, 3, 3, 3, 3, 1, 2, 2, 2, 2, 2, 2, 2, 2, 2, 2, 2, 2, 1, 2, 2, 2, 2, 2, 2, 2, 2, 2, 2, 2, 1, 2, 2, 2, 2, 2, 2, 2, 2, 2, 2, 2, 1, 2, 2, 2, 2, 2, 2, 2, 1, 3, 3, 3, 3, 3, 3, 1, 1, 1, 3, 3, 3, 3, 1, 3, 3, 3, 3, 3, 3, 3, 1, 1, 1, 1, 2, 2, 2, 2, 2, 2, 2, 2, 2, 2, 2, 2, 1, 2, 2, 2, 2, 2, 2, 2, 2, 2, 2, 2, 1, 2, 2, 2, 2, 2, 2, 2, 2, 2, 2, 2, 1, 3, 3, 3, 3, 3, 3, 3, 3, 3, 3, 1, 2, 2, 2, 2, 2, 2, 2, 2, 2, 2, 2, 2, 1, 2, 2, 2, 2, 2, 2, 2, 2, 2, 2, 2, 1, 2, 2, 2, 2, 2, 2, 2, 2, 2, 2, 2, 1, 2, 2, 2, 2, 2, 2, 2, 1, 3, 3, 3, 3, 3, 3, 1, 1, 1, 3, 3, 3, 3, 1, 3, 3, 3, 3, 3, 3, 3, 1, 1, 1, 1, 2, 2, 2, 2, 2, 2, 2, 2, 2, 2, 2, 2, 1, 2, 2, 2, 2, 2, 2]} train\n",
      "500\n",
      "{'locations': [[6.730010032653809, 0.15230600535869598, -0.6780830025672913], [6.480069160461426, 0.15230600535869598, -0.6726396083831787], [6.230128288269043, 0.15230600535869598, -0.6671962738037109], [5.98018741607666, 0.15230600535869598, -0.6617529392242432], [5.730246543884277, 0.15230600535869598, -0.6563096046447754], [5.4803056716918945, 0.15230600535869598, -0.6508662700653076], [5.230364799499512, 0.15230600535869598, -0.6454229354858398], [4.980423927307129, 0.15230600535869598, -0.6399796009063721], [4.730483055114746, 0.15230600535869598, -0.6345362663269043], [4.480542182922363, 0.15230600535869598, -0.6290929317474365], [4.2306013107299805, 0.15230600535869598, -0.6236495971679688], [3.9806604385375977, 0.15230600535869598, -0.618206262588501], [3.740645170211792, 0.15230600535869598, -0.5482590198516846], [3.5006299018859863, 0.15230600535869598, -0.47831180691719055], [3.2606146335601807, 0.15230600535869598, -0.40836459398269653], [3.020599365234375, 0.15230600535869598, -0.3384173810482025], [2.806865930557251, 0.15230600535869598, -0.2087329626083374], [2.6339800357818604, 0.15230600535869598, -0.028149127960205078], [2.4610941410064697, 0.15230600535869598, 0.15243470668792725], [2.3408377170562744, 0.1522940695285797, 0.37161144614219666], [2.220581293106079, 0.11261924356222153, 0.5907881855964661], [2.100324869155884, 0.07294441014528275, 0.8099648952484131], [1.980068564414978, 0.034263595938682556, 1.0291416645050049], [1.9206370115280151, -0.006208598613739014, 1.271974802017212], [1.8849496841430664, -0.046680793166160583, 1.514807939529419], [1.8849496841430664, -0.026638075709342957, 1.3945516347885132], [1.8849496841430664, 0.01501871645450592, 1.14461088180542], [1.8849496841430664, 0.05667552351951599, 0.8946701288223267], [1.8849496841430664, 0.09833231568336487, 0.6447293758392334], [1.8849496841430664, 0.13998912274837494, 0.39478862285614014], [1.8795064687728882, 0.15230600535869598, 0.14484788477420807], [1.884949803352356, 0.13998912274837494, 0.39478862285614014], [1.9443813562393188, 0.15230600535869598, 0.15195558965206146], [1.824125051498413, 0.15230600535869598, 0.32088732719421387], [2.06695818901062, 0.14561641216278076, 0.38031893968582153], [2.0075266361236572, 0.10305851697921753, 0.623151957988739], [1.9480950832366943, 0.061456382274627686, 0.8659849762916565], [1.8886635303497314, 0.020984187722206116, 1.1088180541992188], [1.8849496841430664, 0.009326323866844177, 1.1787652969360352], [1.8849496841430664, 0.050983116030693054, 0.9288245439529419], [1.8849496841430664, 0.09263991564512253, 0.6788837909698486], [1.8849496841430664, 0.134296715259552, 0.42894303798675537], [1.8795064687728882, 0.15230600535869598, 0.1790022999048233], [1.884949803352356, 0.134296715259552, 0.42894303798675537], [1.9443813562393188, 0.15230600535869598, 0.1861100047826767], [1.8849496841430664, 0.13823944330215454, 0.4052867293357849], [1.8795064687728882, 0.15230600535869598, 0.15534599125385284], [1.884949803352356, 0.13823944330215454, 0.4052867293357849], [1.9443813562393188, 0.15230600535869598, 0.16245369613170624], [1.824125051498413, 0.15230600535869598, 0.32088732719421387], [2.06695818901062, 0.14561641216278076, 0.38031893968582153], [2.0075266361236572, 0.10305851697921753, 0.623151957988739], [1.9480950832366943, 0.061456382274627686, 0.8659849762916565], [1.8886635303497314, 0.020984187722206116, 1.1088180541992188], [1.8849496841430664, 0.009326323866844177, 1.1787652969360352], [1.8849496841430664, 0.050983116030693054, 0.9288245439529419], [1.8849496841430664, 0.09263991564512253, 0.6788837909698486], [1.8849496841430664, 0.134296715259552, 0.42894303798675537], [1.8795064687728882, 0.15230600535869598, 0.1790022999048233], [1.884949803352356, 0.134296715259552, 0.42894303798675537], [1.9443813562393188, 0.15230600535869598, 0.1861100047826767], [1.8849496841430664, 0.13823944330215454, 0.4052867293357849], [1.8795064687728882, 0.15230600535869598, 0.15534599125385284], [1.884949803352356, 0.13823944330215454, 0.4052867293357849], [1.9443813562393188, 0.15230600535869598, 0.16245369613170624], [1.824125051498413, 0.15230600535869598, 0.32088732719421387], [2.06695818901062, 0.14561641216278076, 0.38031893968582153], [2.0075266361236572, 0.10305851697921753, 0.623151957988739], [1.9480950832366943, 0.061456382274627686, 0.8659849762916565], [1.8886635303497314, 0.020984187722206116, 1.1088180541992188], [1.8849496841430664, 0.009326323866844177, 1.1787652969360352], [1.8849496841430664, 0.050983116030693054, 0.9288245439529419], [1.8849496841430664, 0.09263991564512253, 0.6788837909698486], [1.8849496841430664, 0.134296715259552, 0.42894303798675537], [1.8795064687728882, 0.15230600535869598, 0.1790022999048233], [1.884949803352356, 0.134296715259552, 0.42894303798675537], [1.9443813562393188, 0.15230600535869598, 0.1861100047826767], [1.8849496841430664, 0.13823944330215454, 0.4052867293357849], [1.8795064687728882, 0.15230600535869598, 0.15534599125385284], [1.884949803352356, 0.13823944330215454, 0.4052867293357849], [1.9443813562393188, 0.15230600535869598, 0.16245369613170624], [1.824125051498413, 0.15230600535869598, 0.32088732719421387], [2.06695818901062, 0.14561641216278076, 0.38031893968582153], [2.0075266361236572, 0.10305851697921753, 0.623151957988739], [1.9480950832366943, 0.061456382274627686, 0.8659849762916565], [1.8886635303497314, 0.020984187722206116, 1.1088180541992188], [1.8849496841430664, 0.009326323866844177, 1.1787652969360352], [1.8849496841430664, 0.050983116030693054, 0.9288245439529419], [1.8849496841430664, 0.09263991564512253, 0.6788837909698486], [1.8849496841430664, 0.134296715259552, 0.42894303798675537], [1.8795064687728882, 0.15230600535869598, 0.1790022999048233], [1.884949803352356, 0.134296715259552, 0.42894303798675537]], 'forward_steps': 91, 'actions': [2, 2, 2, 2, 2, 2, 2, 2, 2, 2, 2, 1, 1, 1, 1, 1, 1, 1, 1, 1, 1, 1, 2, 1, 1, 1, 1, 2, 1, 2, 1, 1, 2, 1, 1, 1, 1, 2, 1, 1, 3, 3, 3, 3, 3, 3, 3, 1, 3, 3, 3, 3, 1, 1, 1, 1, 1, 2, 2, 2, 2, 2, 2, 2, 2, 2, 2, 2, 2, 1, 2, 2, 2, 2, 2, 2, 2, 2, 2, 2, 2, 1, 2, 2, 2, 2, 2, 2, 2, 2, 2, 2, 2, 1, 2, 2, 2, 2, 2, 2, 2, 1, 3, 3, 3, 3, 3, 3, 1, 1, 1, 3, 3, 3, 3, 1, 3, 3, 3, 3, 3, 3, 3, 1, 1, 1, 1, 2, 2, 2, 2, 2, 2, 2, 2, 2, 2, 2, 2, 1, 2, 2, 2, 2, 2, 2, 2, 2, 2, 2, 2, 1, 2, 2, 2, 2, 2, 2, 2, 2, 2, 2, 2, 1, 3, 3, 3, 3, 3, 3, 3, 3, 3, 3, 1, 2, 2, 2, 2, 2, 2, 2, 2, 2, 2, 2, 2, 1, 2, 2, 2, 2, 2, 2, 2, 2, 2, 2, 2, 1, 2, 2, 2, 2, 2, 2, 2, 2, 2, 2, 2, 1, 2, 2, 2, 2, 2, 2, 2, 1, 3, 3, 3, 3, 3, 3, 1, 1, 1, 3, 3, 3, 3, 1, 3, 3, 3, 3, 3, 3, 3, 1, 1, 1, 1, 2, 2, 2, 2, 2, 2, 2, 2, 2, 2, 2, 2, 1, 2, 2, 2, 2, 2, 2, 2, 2, 2, 2, 2, 1, 2, 2, 2, 2, 2, 2, 2, 2, 2, 2, 2, 1, 3, 3, 3, 3, 3, 3, 3, 3, 3, 3, 1, 2, 2, 2, 2, 2, 2, 2, 2, 2, 2, 2, 2, 1, 2, 2, 2, 2, 2, 2, 2, 2, 2, 2, 2, 1, 2, 2, 2, 2, 2, 2, 2, 2, 2, 2, 2, 1, 2, 2, 2, 2, 2, 2, 2, 1, 3, 3, 3, 3, 3, 3, 1, 1, 1, 3, 3, 3, 3, 1, 3, 3, 3, 3, 3, 3, 3, 1, 1, 1, 1, 2, 2, 2, 2, 2, 2, 2, 2, 2, 2, 2, 2, 1, 2, 2, 2, 2, 2, 2, 2, 2, 2, 2, 2, 1, 2, 2, 2, 2, 2, 2, 2, 2, 2, 2, 2, 1, 3, 3, 3, 3, 3, 3, 3, 3, 3, 3, 1, 2, 2, 2, 2, 2, 2, 2, 2, 2, 2, 2, 2, 1, 2, 2, 2, 2, 2, 2, 2, 2, 2, 2, 2, 1, 2, 2, 2, 2, 2, 2, 2, 2, 2, 2, 2, 1, 2, 2, 2, 2, 2, 2, 2, 1, 3, 3, 3, 3, 3, 3, 1, 1, 1, 3, 3, 3, 3, 1, 3, 3, 3, 3, 3, 3, 3, 1, 1, 1, 1, 2, 2, 2, 2, 2, 2, 2, 2, 2, 2, 2, 2, 1, 2, 2, 2, 2, 2, 2]} train\n",
      "500\n",
      "{'locations': [[6.730010032653809, 0.15230600535869598, -0.6780830025672913], [6.480069160461426, 0.15230600535869598, -0.6726396083831787], [6.230128288269043, 0.15230600535869598, -0.6671962738037109], [5.98018741607666, 0.15230600535869598, -0.6617529392242432], [5.730246543884277, 0.15230600535869598, -0.6563096046447754], [5.4803056716918945, 0.15230600535869598, -0.6508662700653076], [5.230364799499512, 0.15230600535869598, -0.6454229354858398], [4.980423927307129, 0.15230600535869598, -0.6399796009063721], [4.730483055114746, 0.15230600535869598, -0.6345362663269043], [4.480542182922363, 0.15230600535869598, -0.6290929317474365], [4.2306013107299805, 0.15230600535869598, -0.6236495971679688], [3.9806604385375977, 0.15230600535869598, -0.618206262588501], [3.740645170211792, 0.15230600535869598, -0.5482590198516846], [3.5006299018859863, 0.15230600535869598, -0.47831180691719055], [3.2606146335601807, 0.15230600535869598, -0.40836459398269653], [3.020599365234375, 0.15230600535869598, -0.3384173810482025], [2.806865930557251, 0.15230600535869598, -0.2087329626083374], [2.6339800357818604, 0.15230600535869598, -0.028149127960205078], [2.4610941410064697, 0.15230600535869598, 0.15243470668792725], [2.3408377170562744, 0.1522940695285797, 0.37161144614219666], [2.220581293106079, 0.11261924356222153, 0.5907881855964661], [2.100324869155884, 0.07294441014528275, 0.8099648952484131], [1.980068564414978, 0.034263595938682556, 1.0291416645050049], [1.9206370115280151, -0.006208598613739014, 1.271974802017212], [1.8849496841430664, -0.046680793166160583, 1.514807939529419], [1.8849496841430664, -0.026638075709342957, 1.3945516347885132], [1.8849496841430664, 0.01501871645450592, 1.14461088180542], [1.8849496841430664, 0.05667552351951599, 0.8946701288223267], [1.8849496841430664, 0.09833231568336487, 0.6447293758392334], [1.8849496841430664, 0.13998912274837494, 0.39478862285614014], [1.8795064687728882, 0.15230600535869598, 0.14484788477420807], [1.884949803352356, 0.13998912274837494, 0.39478862285614014], [1.9443813562393188, 0.15230600535869598, 0.15195558965206146], [1.824125051498413, 0.15230600535869598, 0.32088732719421387], [2.06695818901062, 0.14561641216278076, 0.38031893968582153], [2.0075266361236572, 0.10305851697921753, 0.623151957988739], [1.9480950832366943, 0.061456382274627686, 0.8659849762916565], [1.8886635303497314, 0.020984187722206116, 1.1088180541992188], [1.8849496841430664, 0.009326323866844177, 1.1787652969360352], [1.8849496841430664, 0.050983116030693054, 0.9288245439529419], [1.8849496841430664, 0.09263991564512253, 0.6788837909698486], [1.8849496841430664, 0.134296715259552, 0.42894303798675537], [1.8795064687728882, 0.15230600535869598, 0.1790022999048233], [1.884949803352356, 0.134296715259552, 0.42894303798675537], [1.9443813562393188, 0.15230600535869598, 0.1861100047826767], [1.8849496841430664, 0.13823944330215454, 0.4052867293357849], [1.8795064687728882, 0.15230600535869598, 0.15534599125385284], [1.884949803352356, 0.13823944330215454, 0.4052867293357849], [1.9443813562393188, 0.15230600535869598, 0.16245369613170624], [1.824125051498413, 0.15230600535869598, 0.32088732719421387], [2.06695818901062, 0.14561641216278076, 0.38031893968582153], [2.0075266361236572, 0.10305851697921753, 0.623151957988739], [1.9480950832366943, 0.061456382274627686, 0.8659849762916565], [1.8886635303497314, 0.020984187722206116, 1.1088180541992188], [1.8849496841430664, 0.009326323866844177, 1.1787652969360352], [1.8849496841430664, 0.050983116030693054, 0.9288245439529419], [1.8849496841430664, 0.09263991564512253, 0.6788837909698486], [1.8849496841430664, 0.134296715259552, 0.42894303798675537], [1.8795064687728882, 0.15230600535869598, 0.1790022999048233], [1.884949803352356, 0.134296715259552, 0.42894303798675537], [1.9443813562393188, 0.15230600535869598, 0.1861100047826767], [1.8849496841430664, 0.13823944330215454, 0.4052867293357849], [1.8795064687728882, 0.15230600535869598, 0.15534599125385284], [1.884949803352356, 0.13823944330215454, 0.4052867293357849], [1.9443813562393188, 0.15230600535869598, 0.16245369613170624], [1.824125051498413, 0.15230600535869598, 0.32088732719421387], [2.06695818901062, 0.14561641216278076, 0.38031893968582153], [2.0075266361236572, 0.10305851697921753, 0.623151957988739], [1.9480950832366943, 0.061456382274627686, 0.8659849762916565], [1.8886635303497314, 0.020984187722206116, 1.1088180541992188], [1.8849496841430664, 0.009326323866844177, 1.1787652969360352], [1.8849496841430664, 0.050983116030693054, 0.9288245439529419], [1.8849496841430664, 0.09263991564512253, 0.6788837909698486], [1.8849496841430664, 0.134296715259552, 0.42894303798675537], [1.8795064687728882, 0.15230600535869598, 0.1790022999048233], [1.884949803352356, 0.134296715259552, 0.42894303798675537], [1.9443813562393188, 0.15230600535869598, 0.1861100047826767], [1.8849496841430664, 0.13823944330215454, 0.4052867293357849], [1.8795064687728882, 0.15230600535869598, 0.15534599125385284], [1.884949803352356, 0.13823944330215454, 0.4052867293357849], [1.9443813562393188, 0.15230600535869598, 0.16245369613170624], [1.824125051498413, 0.15230600535869598, 0.32088732719421387], [2.06695818901062, 0.14561641216278076, 0.38031893968582153], [2.0075266361236572, 0.10305851697921753, 0.623151957988739], [1.9480950832366943, 0.061456382274627686, 0.8659849762916565], [1.8886635303497314, 0.020984187722206116, 1.1088180541992188], [1.8849496841430664, 0.009326323866844177, 1.1787652969360352], [1.8849496841430664, 0.050983116030693054, 0.9288245439529419], [1.8849496841430664, 0.09263991564512253, 0.6788837909698486], [1.8849496841430664, 0.134296715259552, 0.42894303798675537], [1.8795064687728882, 0.15230600535869598, 0.1790022999048233], [1.884949803352356, 0.134296715259552, 0.42894303798675537]], 'forward_steps': 91, 'actions': [2, 2, 2, 2, 2, 2, 2, 2, 2, 2, 2, 1, 1, 1, 1, 1, 1, 1, 1, 1, 1, 1, 2, 1, 1, 1, 1, 2, 1, 2, 1, 1, 2, 1, 1, 1, 1, 2, 1, 1, 3, 3, 3, 3, 3, 3, 3, 1, 3, 3, 3, 3, 1, 1, 1, 1, 1, 2, 2, 2, 2, 2, 2, 2, 2, 2, 2, 2, 2, 1, 2, 2, 2, 2, 2, 2, 2, 2, 2, 2, 2, 1, 2, 2, 2, 2, 2, 2, 2, 2, 2, 2, 2, 1, 2, 2, 2, 2, 2, 2, 2, 1, 3, 3, 3, 3, 3, 3, 1, 1, 1, 3, 3, 3, 3, 1, 3, 3, 3, 3, 3, 3, 3, 1, 1, 1, 1, 2, 2, 2, 2, 2, 2, 2, 2, 2, 2, 2, 2, 1, 2, 2, 2, 2, 2, 2, 2, 2, 2, 2, 2, 1, 2, 2, 2, 2, 2, 2, 2, 2, 2, 2, 2, 1, 3, 3, 3, 3, 3, 3, 3, 3, 3, 3, 1, 2, 2, 2, 2, 2, 2, 2, 2, 2, 2, 2, 2, 1, 2, 2, 2, 2, 2, 2, 2, 2, 2, 2, 2, 1, 2, 2, 2, 2, 2, 2, 2, 2, 2, 2, 2, 1, 2, 2, 2, 2, 2, 2, 2, 1, 3, 3, 3, 3, 3, 3, 1, 1, 1, 3, 3, 3, 3, 1, 3, 3, 3, 3, 3, 3, 3, 1, 1, 1, 1, 2, 2, 2, 2, 2, 2, 2, 2, 2, 2, 2, 2, 1, 2, 2, 2, 2, 2, 2, 2, 2, 2, 2, 2, 1, 2, 2, 2, 2, 2, 2, 2, 2, 2, 2, 2, 1, 3, 3, 3, 3, 3, 3, 3, 3, 3, 3, 1, 2, 2, 2, 2, 2, 2, 2, 2, 2, 2, 2, 2, 1, 2, 2, 2, 2, 2, 2, 2, 2, 2, 2, 2, 1, 2, 2, 2, 2, 2, 2, 2, 2, 2, 2, 2, 1, 2, 2, 2, 2, 2, 2, 2, 1, 3, 3, 3, 3, 3, 3, 1, 1, 1, 3, 3, 3, 3, 1, 3, 3, 3, 3, 3, 3, 3, 1, 1, 1, 1, 2, 2, 2, 2, 2, 2, 2, 2, 2, 2, 2, 2, 1, 2, 2, 2, 2, 2, 2, 2, 2, 2, 2, 2, 1, 2, 2, 2, 2, 2, 2, 2, 2, 2, 2, 2, 1, 3, 3, 3, 3, 3, 3, 3, 3, 3, 3, 1, 2, 2, 2, 2, 2, 2, 2, 2, 2, 2, 2, 2, 1, 2, 2, 2, 2, 2, 2, 2, 2, 2, 2, 2, 1, 2, 2, 2, 2, 2, 2, 2, 2, 2, 2, 2, 1, 2, 2, 2, 2, 2, 2, 2, 1, 3, 3, 3, 3, 3, 3, 1, 1, 1, 3, 3, 3, 3, 1, 3, 3, 3, 3, 3, 3, 3, 1, 1, 1, 1, 2, 2, 2, 2, 2, 2, 2, 2, 2, 2, 2, 2, 1, 2, 2, 2, 2, 2, 2]} train\n",
      "500\n",
      "{'locations': [[3.3757901191711426, 6.68632698059082, -6.968339920043945], [3.479186534881592, 6.68632698059082, -6.740723609924316], [3.582582950592041, 6.68632698059082, -6.5131072998046875], [3.6859793663024902, 6.68632698059082, -6.285490989685059], [3.7893757820129395, 6.68632698059082, -6.05787467956543], [3.8927721977233887, 6.68632698059082, -5.830258369445801], [3.996168613433838, 6.68632698059082, -5.602642059326172], [4.099565029144287, 6.68632698059082, -5.375025749206543], [4.202961444854736, 6.68632698059082, -5.147409439086914], [4.057538032531738, 6.68632698059082, -4.944057464599609], [4.1609344482421875, 6.68632698059082, -4.7164411544799805], [3.967834949493408, 6.73979377746582, -4.557656288146973], [4.071231365203857, 6.867852210998535, -4.330039978027344], [4.174627780914307, 6.886326789855957, -4.102423667907715], [4.086791038513184, 6.886326789855957, -3.8683621883392334], [3.9413676261901855, 6.886326789855957, -3.6650099754333496], [3.7959442138671875, 6.886326789855957, -3.461657762527466], [3.6505208015441895, 6.8454909324646, -3.258305549621582], [3.5626840591430664, 6.800201416015625, -3.0242440700531006], [3.4748473167419434, 6.7501702308654785, -2.790182590484619], [3.5158090591430664, 6.71415901184082, -2.5435609817504883], [3.4279723167419434, 6.68632698059082, -2.309499740600586], [3.5313687324523926, 6.68632698059082, -2.081883430480957], [3.634765148162842, 6.68632698059082, -1.8542671203613281], [3.738161563873291, 6.68632698059082, -1.6266508102416992], [3.8415579795837402, 6.781162738800049, -1.3990345001220703], [3.9449543952941895, 6.721819877624512, -1.1714181900024414], [4.048350811004639, 6.798761367797852, -0.9438018798828125], [4.151747226715088, 6.8348164558410645, -0.7161855697631836], [4.255143642425537, 6.8586955070495605, -0.4885692298412323], [4.358540058135986, 6.882574558258057, -0.260952889919281], [4.4619364738464355, 6.886326789855957, -0.03333654999732971], [4.620721340179443, 6.886326789855957, 0.15976297855377197], [4.779506206512451, 6.886326789855957, 0.35286250710487366], [4.938291072845459, 6.886326789855957, 0.5459620356559753], [5.041687488555908, 6.886326789855957, 0.773578405380249], [5.145083904266357, 6.892097473144531, 1.001194715499878], [5.248480319976807, 6.908122539520264, 1.2288110256195068], [5.351876735687256, 6.902453422546387, 1.4564273357391357], [5.193091869354248, 6.921716690063477, 1.2633278369903564], [5.296488285064697, 6.882774353027344, 1.4909441471099854], [5.455272674560547, 6.806698322296143, 1.6840436458587646], [5.227656364440918, 6.840027809143066, 1.7874399423599243], [5.331052780151367, 6.690952777862549, 2.0150563716888428], [5.434449195861816, 6.68632698059082, 2.2426726818084717], [5.537845611572266, 6.68632698059082, 2.4702889919281006], [5.641242027282715, 6.68632698059082, 2.6979053020477295], [5.744638442993164, 6.730926990509033, 2.9255216121673584], [5.495818614959717, 6.68632698059082, 2.901257276535034], [5.257236003875732, 6.68632698059082, 2.866755723953247], [5.053884029388428, 6.68632698059082, 2.721332311630249], [4.8050642013549805, 6.702207565307617, 2.697067975997925], [4.556244373321533, 6.687675476074219, 2.6728036403656006], [4.307424545288086, 6.68632698059082, 2.6485393047332764], [4.060802936553955, 6.68632698059082, 2.6895010471343994], [3.8141815662384033, 6.68632698059082, 2.7304627895355225], [3.5675601959228516, 6.68632698059082, 2.7714245319366455], [3.3209388256073, 6.68632698059082, 2.8123862743377686], [3.074317455291748, 6.68632698059082, 2.8533480167388916], [2.8276960849761963, 6.68632698059082, 2.8943097591400146], [2.5810747146606445, 6.68632698059082, 2.9352715015411377], [2.3344533443450928, 6.68632698059082, 2.9762332439422607], [2.088773250579834, 6.68632698059082, 3.021430730819702], [1.8450831174850464, 6.68632698059082, 3.0755839347839355], [1.6013929843902588, 6.68632698059082, 3.129737138748169], [1.3547714948654175, 6.68632698059082, 3.170698881149292], [1.1081500053405762, 6.68632698059082, 3.211660623550415], [0.8593302965164185, 6.68632698059082, 3.187396287918091], [0.6105105876922607, 6.68632698059082, 3.1631319522857666], [0.361690878868103, 6.68632698059082, 3.1388676166534424], [0.11287117004394531, 6.68632698059082, 3.114603281021118], [-0.1359485387802124, 6.68632698059082, 3.090338945388794], [-0.3730684816837311, 6.68632698059082, 3.0602242946624756], [-0.5318531394004822, 6.68632698059082, 2.8671247959136963], [-0.7249526977539062, 6.68632698059082, 3.025909423828125], [-0.9180522561073303, 6.68632698059082, 3.1846940517425537], [-0.9423165321350098, 6.68632698059082, 3.433513879776001], [-0.9665808081626892, 6.68632698059082, 3.6823337078094482], [-0.9908450841903687, 6.68632698059082, 3.9311535358428955], [-1.0151094198226929, 6.68632698059082, 4.179973125457764], [-1.039373755455017, 6.68632698059082, 4.428792953491211], [-1.0636380910873413, 6.68632698059082, 4.677612781524658], [-1.0879024267196655, 6.68632698059082, 4.9264326095581055], [-1.0469406843185425, 6.68632698059082, 5.173054218292236], [-1.0059789419174194, 6.68632698059082, 5.419675827026367], [-0.9650171995162964, 6.68632698059082, 5.666297435760498], [-0.8616208434104919, 6.68632698059082, 5.893913745880127], [-0.6128011345863342, 6.68632698059082, 5.918178081512451], [-0.3639814257621765, 6.68632698059082, 5.942442417144775], [-0.11735996603965759, 6.68632698059082, 5.901480674743652], [0.12926149368286133, 6.68632698059082, 5.860518932342529], [0.37588295340538025, 6.68632698059082, 5.819557189941406], [0.6225044131278992, 6.68632698059082, 5.778595447540283], [0.8691258430480957, 6.68632698059082, 5.73763370513916], [1.115747332572937, 6.68632698059082, 5.696671962738037], [1.3623688220977783, 6.68632698059082, 5.655710220336914], [1.6089903116226196, 6.68632698059082, 5.614748477935791], [1.855611801147461, 6.68632698059082, 5.573786735534668], [2.1022331714630127, 6.68632698059082, 5.532824993133545], [2.3488545417785645, 6.68632698059082, 5.491863250732422], [2.595475912094116, 6.68632698059082, 5.450901508331299], [2.842097282409668, 6.68632698059082, 5.409939765930176], [3.0887186527252197, 6.68632698059082, 5.368978023529053], [3.3163349628448486, 6.68632698059082, 5.2655816078186035]], 'forward_steps': 103, 'actions': [3, 3, 3, 3, 3, 3, 1, 1, 1, 1, 1, 1, 1, 1, 3, 3, 3, 3, 1, 2, 2, 2, 2, 1, 3, 3, 3, 3, 3, 1, 2, 2, 2, 2, 2, 1, 1, 3, 3, 3, 1, 3, 1, 1, 1, 2, 1, 1, 2, 2, 1, 3, 3, 1, 2, 2, 2, 1, 1, 1, 1, 1, 1, 1, 1, 1, 1, 2, 1, 1, 1, 3, 1, 1, 1, 1, 3, 3, 3, 3, 3, 3, 3, 3, 3, 3, 3, 1, 2, 2, 2, 2, 2, 2, 2, 2, 2, 2, 2, 1, 2, 1, 3, 3, 3, 3, 3, 3, 3, 1, 2, 2, 2, 2, 2, 2, 1, 1, 1, 1, 1, 3, 3, 3, 3, 3, 3, 3, 3, 1, 1, 3, 3, 1, 2, 2, 1, 1, 1, 2, 1, 1, 1, 1, 1, 1, 1, 1, 1, 1, 1, 1, 1, 3, 1, 1, 1, 1, 1, 1, 3, 3, 3, 1, 2, 2, 2, 2, 2, 2, 1, 1, 2, 2, 2, 1, 1, 1, 1, 1, 1, 1, 2, 1, 1, 1, 2, 1, 2, 2, 2, 2, 1, 1, 2, 1, 1, 1, 1, 1, 1, 1, 1, 1, 1, 1, 1, 1, 1, 2, 1, 0]} train\n",
      "212\n",
      "{'locations': [[3.3757901191711426, 6.68632698059082, -6.968339920043945], [3.479186534881592, 6.68632698059082, -6.740723609924316], [3.582582950592041, 6.68632698059082, -6.5131072998046875], [3.6859793663024902, 6.68632698059082, -6.285490989685059], [3.7893757820129395, 6.68632698059082, -6.05787467956543], [3.8927721977233887, 6.68632698059082, -5.830258369445801], [3.996168613433838, 6.68632698059082, -5.602642059326172], [4.099565029144287, 6.68632698059082, -5.375025749206543], [4.202961444854736, 6.68632698059082, -5.147409439086914], [4.057538032531738, 6.68632698059082, -4.944057464599609], [4.1609344482421875, 6.68632698059082, -4.7164411544799805], [3.967834949493408, 6.73979377746582, -4.557656288146973], [4.071231365203857, 6.867852210998535, -4.330039978027344], [4.174627780914307, 6.886326789855957, -4.102423667907715], [4.086791038513184, 6.886326789855957, -3.8683621883392334], [3.9413676261901855, 6.886326789855957, -3.6650099754333496], [3.7959442138671875, 6.886326789855957, -3.461657762527466], [3.6505208015441895, 6.8454909324646, -3.258305549621582], [3.5626840591430664, 6.800201416015625, -3.0242440700531006], [3.4748473167419434, 6.7501702308654785, -2.790182590484619], [3.5158090591430664, 6.71415901184082, -2.5435609817504883], [3.4279723167419434, 6.68632698059082, -2.309499740600586], [3.5313687324523926, 6.68632698059082, -2.081883430480957], [3.634765148162842, 6.68632698059082, -1.8542671203613281], [3.738161563873291, 6.68632698059082, -1.6266508102416992], [3.8415579795837402, 6.781162738800049, -1.3990345001220703], [3.9449543952941895, 6.721819877624512, -1.1714181900024414], [4.048350811004639, 6.798761367797852, -0.9438018798828125], [4.151747226715088, 6.8348164558410645, -0.7161855697631836], [4.255143642425537, 6.8586955070495605, -0.4885692298412323], [4.358540058135986, 6.882574558258057, -0.260952889919281], [4.4619364738464355, 6.886326789855957, -0.03333654999732971], [4.620721340179443, 6.886326789855957, 0.15976297855377197], [4.779506206512451, 6.886326789855957, 0.35286250710487366], [4.938291072845459, 6.886326789855957, 0.5459620356559753], [5.041687488555908, 6.886326789855957, 0.773578405380249], [5.145083904266357, 6.892097473144531, 1.001194715499878], [5.248480319976807, 6.908122539520264, 1.2288110256195068], [5.351876735687256, 6.902453422546387, 1.4564273357391357], [5.193091869354248, 6.921716690063477, 1.2633278369903564], [5.296488285064697, 6.882774353027344, 1.4909441471099854], [5.455272674560547, 6.806698322296143, 1.6840436458587646], [5.227656364440918, 6.840027809143066, 1.7874399423599243], [5.331052780151367, 6.690952777862549, 2.0150563716888428], [5.434449195861816, 6.68632698059082, 2.2426726818084717], [5.537845611572266, 6.68632698059082, 2.4702889919281006], [5.641242027282715, 6.68632698059082, 2.6979053020477295], [5.744638442993164, 6.730926990509033, 2.9255216121673584], [5.495818614959717, 6.68632698059082, 2.901257276535034], [5.257236003875732, 6.68632698059082, 2.866755723953247], [5.053884029388428, 6.68632698059082, 2.721332311630249], [4.8050642013549805, 6.702207565307617, 2.697067975997925], [4.556244373321533, 6.687675476074219, 2.6728036403656006], [4.307424545288086, 6.68632698059082, 2.6485393047332764], [4.060802936553955, 6.68632698059082, 2.6895010471343994], [3.8141815662384033, 6.68632698059082, 2.7304627895355225], [3.5675601959228516, 6.68632698059082, 2.7714245319366455], [3.3209388256073, 6.68632698059082, 2.8123862743377686], [3.074317455291748, 6.68632698059082, 2.8533480167388916], [2.8276960849761963, 6.68632698059082, 2.8943097591400146], [2.5810747146606445, 6.68632698059082, 2.9352715015411377], [2.3344533443450928, 6.68632698059082, 2.9762332439422607], [2.088773250579834, 6.68632698059082, 3.021430730819702], [1.8450831174850464, 6.68632698059082, 3.0755839347839355], [1.6013929843902588, 6.68632698059082, 3.129737138748169], [1.3547714948654175, 6.68632698059082, 3.170698881149292], [1.1081500053405762, 6.68632698059082, 3.211660623550415], [0.8593302965164185, 6.68632698059082, 3.187396287918091], [0.6105105876922607, 6.68632698059082, 3.1631319522857666], [0.361690878868103, 6.68632698059082, 3.1388676166534424], [0.11287117004394531, 6.68632698059082, 3.114603281021118], [-0.1359485387802124, 6.68632698059082, 3.090338945388794], [-0.3730684816837311, 6.68632698059082, 3.0602242946624756], [-0.5318531394004822, 6.68632698059082, 2.8671247959136963], [-0.7249526977539062, 6.68632698059082, 3.025909423828125], [-0.9180522561073303, 6.68632698059082, 3.1846940517425537], [-0.9423165321350098, 6.68632698059082, 3.433513879776001], [-0.9665808081626892, 6.68632698059082, 3.6823337078094482], [-0.9908450841903687, 6.68632698059082, 3.9311535358428955], [-1.0151094198226929, 6.68632698059082, 4.179973125457764], [-1.039373755455017, 6.68632698059082, 4.428792953491211], [-1.0636380910873413, 6.68632698059082, 4.677612781524658], [-1.0879024267196655, 6.68632698059082, 4.9264326095581055], [-1.0469406843185425, 6.68632698059082, 5.173054218292236], [-1.0059789419174194, 6.68632698059082, 5.419675827026367], [-0.9650171995162964, 6.68632698059082, 5.666297435760498], [-0.8616208434104919, 6.68632698059082, 5.893913745880127], [-0.6128011345863342, 6.68632698059082, 5.918178081512451], [-0.3639814257621765, 6.68632698059082, 5.942442417144775], [-0.11735996603965759, 6.68632698059082, 5.901480674743652], [0.12926149368286133, 6.68632698059082, 5.860518932342529], [0.37588295340538025, 6.68632698059082, 5.819557189941406], [0.6225044131278992, 6.68632698059082, 5.778595447540283], [0.8691258430480957, 6.68632698059082, 5.73763370513916], [1.115747332572937, 6.68632698059082, 5.696671962738037], [1.3623688220977783, 6.68632698059082, 5.655710220336914], [1.6089903116226196, 6.68632698059082, 5.614748477935791], [1.855611801147461, 6.68632698059082, 5.573786735534668], [2.1022331714630127, 6.68632698059082, 5.532824993133545], [2.3488545417785645, 6.68632698059082, 5.491863250732422], [2.595475912094116, 6.68632698059082, 5.450901508331299], [2.842097282409668, 6.68632698059082, 5.409939765930176], [3.0887186527252197, 6.68632698059082, 5.368978023529053], [3.3163349628448486, 6.68632698059082, 5.2655816078186035]], 'forward_steps': 103, 'actions': [3, 3, 3, 3, 3, 3, 1, 1, 1, 1, 1, 1, 1, 1, 3, 3, 3, 3, 1, 2, 2, 2, 2, 1, 3, 3, 3, 3, 3, 1, 2, 2, 2, 2, 2, 1, 1, 3, 3, 3, 1, 3, 1, 1, 1, 2, 1, 1, 2, 2, 1, 3, 3, 1, 2, 2, 2, 1, 1, 1, 1, 1, 1, 1, 1, 1, 1, 2, 1, 1, 1, 3, 1, 1, 1, 1, 3, 3, 3, 3, 3, 3, 3, 3, 3, 3, 3, 1, 2, 2, 2, 2, 2, 2, 2, 2, 2, 2, 2, 1, 2, 1, 3, 3, 3, 3, 3, 3, 3, 1, 2, 2, 2, 2, 2, 2, 1, 1, 1, 1, 1, 3, 3, 3, 3, 3, 3, 3, 3, 1, 1, 3, 3, 1, 2, 2, 1, 1, 1, 2, 1, 1, 1, 1, 1, 1, 1, 1, 1, 1, 1, 1, 1, 3, 1, 1, 1, 1, 1, 1, 3, 3, 3, 1, 2, 2, 2, 2, 2, 2, 1, 1, 2, 2, 2, 1, 1, 1, 1, 1, 1, 1, 2, 1, 1, 1, 2, 1, 2, 2, 2, 2, 1, 1, 2, 1, 1, 1, 1, 1, 1, 1, 1, 1, 1, 1, 1, 1, 1, 2, 1, 0]} train\n",
      "212\n",
      "{'locations': [[3.3757901191711426, 6.68632698059082, -6.968339920043945], [3.479186534881592, 6.68632698059082, -6.740723609924316], [3.582582950592041, 6.68632698059082, -6.5131072998046875], [3.6859793663024902, 6.68632698059082, -6.285490989685059], [3.7893757820129395, 6.68632698059082, -6.05787467956543], [3.8927721977233887, 6.68632698059082, -5.830258369445801], [3.996168613433838, 6.68632698059082, -5.602642059326172], [4.099565029144287, 6.68632698059082, -5.375025749206543], [4.202961444854736, 6.68632698059082, -5.147409439086914], [4.057538032531738, 6.68632698059082, -4.944057464599609], [4.1609344482421875, 6.68632698059082, -4.7164411544799805], [3.967834949493408, 6.73979377746582, -4.557656288146973], [4.071231365203857, 6.867852210998535, -4.330039978027344], [4.174627780914307, 6.886326789855957, -4.102423667907715], [4.086791038513184, 6.886326789855957, -3.8683621883392334], [3.9413676261901855, 6.886326789855957, -3.6650099754333496], [3.7959442138671875, 6.886326789855957, -3.461657762527466], [3.6505208015441895, 6.8454909324646, -3.258305549621582], [3.5626840591430664, 6.800201416015625, -3.0242440700531006], [3.4748473167419434, 6.7501702308654785, -2.790182590484619], [3.5158090591430664, 6.71415901184082, -2.5435609817504883], [3.4279723167419434, 6.68632698059082, -2.309499740600586], [3.5313687324523926, 6.68632698059082, -2.081883430480957], [3.634765148162842, 6.68632698059082, -1.8542671203613281], [3.738161563873291, 6.68632698059082, -1.6266508102416992], [3.8415579795837402, 6.781162738800049, -1.3990345001220703], [3.9449543952941895, 6.721819877624512, -1.1714181900024414], [4.048350811004639, 6.798761367797852, -0.9438018798828125], [4.151747226715088, 6.8348164558410645, -0.7161855697631836], [4.255143642425537, 6.8586955070495605, -0.4885692298412323], [4.358540058135986, 6.882574558258057, -0.260952889919281], [4.4619364738464355, 6.886326789855957, -0.03333654999732971], [4.620721340179443, 6.886326789855957, 0.15976297855377197], [4.779506206512451, 6.886326789855957, 0.35286250710487366], [4.938291072845459, 6.886326789855957, 0.5459620356559753], [5.041687488555908, 6.886326789855957, 0.773578405380249], [5.145083904266357, 6.892097473144531, 1.001194715499878], [5.248480319976807, 6.908122539520264, 1.2288110256195068], [5.351876735687256, 6.902453422546387, 1.4564273357391357], [5.193091869354248, 6.921716690063477, 1.2633278369903564], [5.296488285064697, 6.882774353027344, 1.4909441471099854], [5.455272674560547, 6.806698322296143, 1.6840436458587646], [5.227656364440918, 6.840027809143066, 1.7874399423599243], [5.331052780151367, 6.690952777862549, 2.0150563716888428], [5.434449195861816, 6.68632698059082, 2.2426726818084717], [5.537845611572266, 6.68632698059082, 2.4702889919281006], [5.641242027282715, 6.68632698059082, 2.6979053020477295], [5.744638442993164, 6.730926990509033, 2.9255216121673584], [5.495818614959717, 6.68632698059082, 2.901257276535034], [5.257236003875732, 6.68632698059082, 2.866755723953247], [5.053884029388428, 6.68632698059082, 2.721332311630249], [4.8050642013549805, 6.702207565307617, 2.697067975997925], [4.556244373321533, 6.687675476074219, 2.6728036403656006], [4.307424545288086, 6.68632698059082, 2.6485393047332764], [4.060802936553955, 6.68632698059082, 2.6895010471343994], [3.8141815662384033, 6.68632698059082, 2.7304627895355225], [3.5675601959228516, 6.68632698059082, 2.7714245319366455], [3.3209388256073, 6.68632698059082, 2.8123862743377686], [3.074317455291748, 6.68632698059082, 2.8533480167388916], [2.8276960849761963, 6.68632698059082, 2.8943097591400146], [2.5810747146606445, 6.68632698059082, 2.9352715015411377], [2.3344533443450928, 6.68632698059082, 2.9762332439422607], [2.088773250579834, 6.68632698059082, 3.021430730819702], [1.8450831174850464, 6.68632698059082, 3.0755839347839355], [1.6013929843902588, 6.68632698059082, 3.129737138748169], [1.3547714948654175, 6.68632698059082, 3.170698881149292], [1.1081500053405762, 6.68632698059082, 3.211660623550415], [0.8593302965164185, 6.68632698059082, 3.187396287918091], [0.6105105876922607, 6.68632698059082, 3.1631319522857666], [0.361690878868103, 6.68632698059082, 3.1388676166534424], [0.11287117004394531, 6.68632698059082, 3.114603281021118], [-0.1359485387802124, 6.68632698059082, 3.090338945388794], [-0.3730684816837311, 6.68632698059082, 3.0602242946624756], [-0.5318531394004822, 6.68632698059082, 2.8671247959136963], [-0.7249526977539062, 6.68632698059082, 3.025909423828125], [-0.9180522561073303, 6.68632698059082, 3.1846940517425537], [-0.9423165321350098, 6.68632698059082, 3.433513879776001], [-0.9665808081626892, 6.68632698059082, 3.6823337078094482], [-0.9908450841903687, 6.68632698059082, 3.9311535358428955], [-1.0151094198226929, 6.68632698059082, 4.179973125457764], [-1.039373755455017, 6.68632698059082, 4.428792953491211], [-1.0636380910873413, 6.68632698059082, 4.677612781524658], [-1.0879024267196655, 6.68632698059082, 4.9264326095581055], [-1.0469406843185425, 6.68632698059082, 5.173054218292236], [-1.0059789419174194, 6.68632698059082, 5.419675827026367], [-0.9650171995162964, 6.68632698059082, 5.666297435760498], [-0.8616208434104919, 6.68632698059082, 5.893913745880127], [-0.6128011345863342, 6.68632698059082, 5.918178081512451], [-0.3639814257621765, 6.68632698059082, 5.942442417144775], [-0.11735996603965759, 6.68632698059082, 5.901480674743652], [0.12926149368286133, 6.68632698059082, 5.860518932342529], [0.37588295340538025, 6.68632698059082, 5.819557189941406], [0.6225044131278992, 6.68632698059082, 5.778595447540283], [0.8691258430480957, 6.68632698059082, 5.73763370513916], [1.115747332572937, 6.68632698059082, 5.696671962738037], [1.3623688220977783, 6.68632698059082, 5.655710220336914], [1.6089903116226196, 6.68632698059082, 5.614748477935791], [1.855611801147461, 6.68632698059082, 5.573786735534668], [2.1022331714630127, 6.68632698059082, 5.532824993133545], [2.3488545417785645, 6.68632698059082, 5.491863250732422], [2.595475912094116, 6.68632698059082, 5.450901508331299], [2.842097282409668, 6.68632698059082, 5.409939765930176], [3.0887186527252197, 6.68632698059082, 5.368978023529053], [3.3163349628448486, 6.68632698059082, 5.2655816078186035]], 'forward_steps': 103, 'actions': [3, 3, 3, 3, 3, 3, 1, 1, 1, 1, 1, 1, 1, 1, 3, 3, 3, 3, 1, 2, 2, 2, 2, 1, 3, 3, 3, 3, 3, 1, 2, 2, 2, 2, 2, 1, 1, 3, 3, 3, 1, 3, 1, 1, 1, 2, 1, 1, 2, 2, 1, 3, 3, 1, 2, 2, 2, 1, 1, 1, 1, 1, 1, 1, 1, 1, 1, 2, 1, 1, 1, 3, 1, 1, 1, 1, 3, 3, 3, 3, 3, 3, 3, 3, 3, 3, 3, 1, 2, 2, 2, 2, 2, 2, 2, 2, 2, 2, 2, 1, 2, 1, 3, 3, 3, 3, 3, 3, 3, 1, 2, 2, 2, 2, 2, 2, 1, 1, 1, 1, 1, 3, 3, 3, 3, 3, 3, 3, 3, 1, 1, 3, 3, 1, 2, 2, 1, 1, 1, 2, 1, 1, 1, 1, 1, 1, 1, 1, 1, 1, 1, 1, 1, 3, 1, 1, 1, 1, 1, 1, 3, 3, 3, 1, 2, 2, 2, 2, 2, 2, 1, 1, 2, 2, 2, 1, 1, 1, 1, 1, 1, 1, 2, 1, 1, 1, 2, 1, 2, 2, 2, 2, 1, 1, 2, 1, 1, 1, 1, 1, 1, 1, 1, 1, 1, 1, 1, 1, 1, 2, 1, 0]} train\n",
      "212\n",
      "6\n",
      "0\n",
      "0\n"
     ]
    }
   ],
   "source": [
    "for split in [\"train\",\"val_seen\",\"val_unseen\"]:\n",
    "    sub_folder = pathlib.Path(\"..\",\"data\",\"datasets\",\"R2R_VLNCE_FGSub\")\n",
    "    gt_path = sub_folder /  pathlib.Path(\"{}\".format(split),\"{}_gt.json.gz\".format(split))\n",
    "    with gzip.open(gt_path, \"r\") as f:\n",
    "        sub_gt = json.loads(f.read())\n",
    "    cnt = 0\n",
    "    for k, v in sub_gt.items():\n",
    "        if len(v[\"actions\"])>200:\n",
    "            print(v, split)\n",
    "            print(len(v[\"actions\"]))\n",
    "            cnt+=1\n",
    "    print(cnt)\n"
   ]
  },
  {
   "cell_type": "code",
   "execution_count": 43,
   "metadata": {},
   "outputs": [
    {
     "name": "stdout",
     "output_type": "stream",
     "text": [
      "[0, 0, 0, 0, 0, 0, 0, 0, 0, 0, 0, 0, 0, 0, 0, 0, 0, 0, 1, 1, 1, 1, 1, 1, 1, 1, 1, 1, 1, 1, 1, 1, 1, 1, 1, 1, 1, 1, 1, 1, 1, 1, 1, 1, 1, 1]\n"
     ]
    }
   ],
   "source": [
    "split = \"train\"\n",
    "sub_folder = pathlib.Path(\"..\",\"data\",\"datasets\",\"R2R_VLNCE_FGSub\")\n",
    "sub_path = sub_folder /  pathlib.Path(\"{}\".format(split),\"{}_sub.json.gz\".format(split))\n",
    "with gzip.open(sub_path, \"r\") as f:\n",
    "    sub_data = json.loads(f.read())\n",
    "print(sub_data[\"episodes\"][0][\"action_to_sub\"])"
   ]
  },
  {
   "cell_type": "code",
   "execution_count": 42,
   "metadata": {},
   "outputs": [
    {
     "data": {
      "text/plain": [
       "[16.461999893188477, 0.1496591567993164, -1.9354000091552734]"
      ]
     },
     "execution_count": 42,
     "metadata": {},
     "output_type": "execute_result"
    }
   ],
   "source": [
    "ep[\"start_position\"]"
   ]
  },
  {
   "cell_type": "code",
   "execution_count": 111,
   "metadata": {},
   "outputs": [
    {
     "name": "stdout",
     "output_type": "stream",
     "text": [
      "777\n"
     ]
    }
   ],
   "source": [
    "sub_data[\"episodes\"] = []\n",
    "for k,v in sub_data_byid.items():\n",
    "    sub_data[\"episodes\"].extend(v)\n",
    "print(len(sub_data[\"episodes\"]))"
   ]
  },
  {
   "attachments": {},
   "cell_type": "markdown",
   "metadata": {},
   "source": [
    "检查是否和官方发布的数据一致\n",
    "很多不一致"
   ]
  },
  {
   "cell_type": "code",
   "execution_count": 78,
   "metadata": {},
   "outputs": [
    {
     "data": {
      "application/vnd.jupyter.widget-view+json": {
       "model_id": "6d037dd8be6346508e757cd6789ecf7d",
       "version_major": 2,
       "version_minor": 0
      },
      "text/plain": [
       "  0%|          | 0/4675 [00:00<?, ?it/s]"
      ]
     },
     "metadata": {},
     "output_type": "display_data"
    },
    {
     "name": "stdout",
     "output_type": "stream",
     "text": [
      "801, 765, 246, 823, 219, 568, 724, 178, 766, 335, "
     ]
    }
   ],
   "source": [
    "import numpy as np\n",
    "from tqdm.notebook import tqdm\n",
    "for a in tqdm(data):\n",
    "    pid = a[\"path_id\"]\n",
    "    sub_len = [len(sub) for sub in ast.literal_eval(a[\"new_instructions\"])]\n",
    "    sub_len = np.array(sorted(sub_len))\n",
    "\n",
    "    sub_len_new = []\n",
    "    inst = []\n",
    "    for ep in sub_data[\"episodes\"]:\n",
    "        if ep[\"trajectory_id\"] == pid:\n",
    "            # print(ep[\"instruction\"])\n",
    "            sub_len_new.append(len(ep[\"sub_instruction\"]))\n",
    "            inst.append(ep[\"sub_instruction\"])\n",
    "    if not sub_len_new:\n",
    "        continue\n",
    "    sub_len_new = np.array(sorted(sub_len_new))\n",
    "    if len(sub_len)!=len(sub_len_new):\n",
    "        print(pid,end=\", \")\n",
    "    # break"
   ]
  },
  {
   "attachments": {},
   "cell_type": "markdown",
   "metadata": {},
   "source": [
    "对比并手动删除episodes中多余的,FGR2R中每条路径只有三个子指令"
   ]
  },
  {
   "cell_type": "code",
   "execution_count": 79,
   "metadata": {},
   "outputs": [
    {
     "name": "stdout",
     "output_type": "stream",
     "text": [
      "801\n",
      "Walk towards the pool and then turn left when you get next to it. Turn left and stop in front of the steps to go into the pool. \n",
      "Move towards the pool by following the blue dots. Do not move the furniture. \n",
      "walk passed sitting area towards pool, stop at edge of pool and turn left. walk three feet and stop. \n",
      "Turn around and walk by the table and chairs. Take a left and wait by the pool. \n",
      "\n",
      "765\n",
      "Go through the doors marked with a blue dot. \n",
      "Leave the room and take a right. Walk down the hall and take the last right into a room under construction. Stop outside of the utility closet. \n",
      "Exit sitting room to hall through double doors. Turn slight right and follow hallway straight. At end of hallway turn right and enter next hallway. Stop in hallway. \n",
      "exit through double doors, go down hall and down stairs, stop at bottom of stairs. \n",
      "\n",
      "246\n",
      "Enter the house and walk straight past the living room and staircase.  When you get to the dining room table, turn left.  Enter the room in front of you and stop in front of the table with the vases and open book on it. \n",
      "Turn to the left and continue walking into the house.  You'll walk past the dining room table and then take a left, into a room with a desk.  Walk to the desk and stop. \n",
      "Enter the house and walk through the living room. Keep walking and take a left into the office across from the dining table with the gray chairs. Stand on the rug in front of the black desk. \n",
      "Follow the blue dots into the other room. \n",
      "\n",
      "823\n",
      "Go stand on the blue dot in the hallway. \n",
      "walk through to the hall turn left in hall and enter main room. Turn slight right and enter dining room, stop facing table. \n",
      "Head straight towards wooden door and exit room. Turn left into large room with rug. Take a wide right out of the space and wait right before you reach the darker rug in which the table is on. \n",
      "Walk through the door way into the hall,Turn left, walk passed the piano on the right and turn right. Stop on the carpet in the dining room. \n",
      "\n",
      "219\n",
      "Go to the other side of the library and stand on the red dot. Follow the blue dots. \n",
      "Turn so the windows of the room are on your left.  Walk to the end of the long table, next to the lamp. \n",
      "Turn around and walk towards the leftmost and farthest red chair in the room and wait there. \n",
      "Walk to the left along the table. At the end of the table stop in front of the chair on your left. \n",
      "\n",
      "568\n",
      "Walk all the way straight passing the white big chair, and stop near the small table with two chairs on its sides. \n",
      "Walk along the balcony with the railing on your left. Walk past the bistro table on the left and stop. \n",
      "TURN LEFT UNTIL YOU ARE FACING A BALCONY WALKWAY WITH THE HOUSE TO THE RIGHT, WALK DOWN THE BALCONY PATH PAST A WHITE WING-BACKED CHAIR AND SEVERAL POTTED PLANTS, STOP AT A SMALL BLACK TABLE WITH 2 METAL CHAIRS. \n",
      "Follow the blue dots, then continue to the red dot and stop. \n",
      "\n",
      "724\n",
      "Climb the stairs and stop at the blue dot. \n",
      "Go up the step. Take a left to the left of the table. Go towards couch and stop. \n",
      "Walk upstairs, turn right, walk all the way across the dining room into the next room and wait in the small seating area by the rug. \n",
      "At the top of these stairs walk straight past the large dining table and into the seating area located at the end of the room. \n",
      "\n",
      "178\n",
      "Walk around the bed and chairs and enter the bathroom on your left. Stop near the shower. \n",
      "Move to the end of the bed and stand on the blue dot. \n",
      "Turn left and walk past the bed, turn right at the dresser, and then turn right again and walk into the bathroom.  You'll stop by the shower door and the sink. \n",
      "Turn left and go straight until you pass the bed on the right, turn right past the ottoman. keep straight until you are near the dresser, then turn right and go towards the door on your far right, enter the door and stop where the shower stall is on your left. \n",
      "\n",
      "766\n",
      "Leave this room and go stand on the blue marker. \n",
      "Walk forward with the sink at your back. Go into the bedroom, and take a left into the hallway. In the hallway go straight and go up the stairs. Stop at the top of the stairs nest to the bathroom door. \n",
      "Leave the washroom and enter the bedroom turn hard left and walk into the hallway. Continue straight down the hallway and up the stairs. Take a few steps then stop by the open door on the right. \n",
      "Turn right and exit the room. Turn left and walk along the hallway with the red carpet. Walk up the stairs and wait there. \n",
      "\n",
      "335\n",
      "Go into the large room and towards the marble counter with stools Continue in the direction until you enter a room with ovens and stovetops and a long serving window that opens to the oudside and wait. \n",
      "Follow the path marked by blue dots into the kitchen. \n",
      "Leave the indoor porch area and go into the living room. Make a right when you get behind the couch and go straight back to the kitchen. Make a left at the end of the kitchen and wait in the doorway of the kitchenette. \n",
      "Walk into the house and past the living room hearing into the kitchen. In the kitchen take the left into the room with the stove and the open window to the patio. Stop in front of the sink. \n",
      "\n"
     ]
    }
   ],
   "source": [
    "tr_list = [801, 765, 246, 823, 219, 568, 724, 178, 766, 335]\n",
    "del_list = [3,3,3,3,3,3,3,3,3,3]\n",
    "for pid in tr_list:\n",
    "    print(pid)\n",
    "    for ep in sub_data_byid[pid]:\n",
    "        print(ep[\"instruction\"][\"instruction_text\"])\n",
    "    print()"
   ]
  },
  {
   "cell_type": "code",
   "execution_count": 91,
   "metadata": {},
   "outputs": [
    {
     "name": "stdout",
     "output_type": "stream",
     "text": [
      "801\n",
      "walk towards the pool, and then turn left when you get next to it, turn left and stop in front of the step to go into the pool\n",
      "move towards the pool by follow the blue dot, do not move the furniture\n",
      "walk pass sitting area towards pool, stop at edge of pool and turn left, walk three foot, and stop\n",
      "\n",
      "765\n",
      "go through the door mark with a blue dot\n",
      "leave the room, and take a right, walk down the hall, and take the last right into a room under construction, stop outside of the utility closet\n",
      "exit sitting room to hall through double door, turn slight right, and follow hallway straight, at end of hallway turn right, and enter next hallway, stop in hallway\n",
      "\n",
      "246\n",
      "enter the house, and walk straight past the living room and staircase, when you get to the dining room table turn left, enter the room in front of you, and stop in front of the table with the vase and open book on it\n",
      "turn to the left, and continue walk into the house, you will walk past the dining room table, and then take a left into a room with a desk, walk to the desk, and stop\n",
      "enter the house, and walk through the living room, keep walk and take a left into the office across from the dining table with the gray chair, stand on the rug in front of the black desk\n",
      "\n",
      "823\n",
      "go stand on the blue dot in the hallway\n",
      "walk through to the hall turn left in hall, and enter main room, turn slight right and enter dining room, stop face table\n",
      "head straight towards wooden door and exit room, turn left into large room with rug, take a wide right out of the space, and wait right before you reach the darker rug in which the table be on\n",
      "\n",
      "219\n",
      "go to the other side of the library, and stand on the red dot, follow the blue dot\n",
      "turn so the window of the room be on your left, walk to the end of the long table next to the lamp\n",
      "turn around and walk towards the leftmost and farthest red chair in the room, and wait there\n",
      "\n",
      "568\n",
      "walk all the way straight pass the white big chair, and stop near the small table with two chair on its side\n",
      "walk along the balcony with the rail on your left, walk past the bistro table on the left, and stop\n",
      "turn left until you be facing a balcony walkway with the house to the right, walk down the balcony path past a white wing back chair and several pot plant, stop at a small black table with 2 metal chair\n",
      "\n",
      "724\n",
      "climb the stair, and stop at the blue dot\n",
      "go up the step, take a left to the left of the table, go towards couch, and stop\n",
      "walk upstairs turn right, walk all the way across the dining room into the next room, and wait in the small seating area by the rug\n",
      "\n",
      "178\n",
      "walk around the bed and chair, and enter the bathroom on your left, stop near the shower\n",
      "move to the end of the bed, and stand on the blue dot\n",
      "turn left and walk past the bed, turn right at the dresser, and then turn right again, and walk into the bathroom, you will stop by the shower door and the sink\n",
      "\n",
      "766\n",
      "leave this room, and go stand on the blue marker\n",
      "walk forward with the sink at your back, go into the bedroom, and take a left into the hallway, in the hallway go straight, and go up the stair, stop at the top of the stair nest to the bathroom door\n",
      "leave the washroom, and enter the bedroom turn hard left and walk into the hallway, continue straight down the hallway and up the stair, take a few step, then stop by the open door on the right\n",
      "\n",
      "335\n",
      "go into the large room, and towards the marble counter with stool continue in the direction until you enter a room with oven and stovetop and a long serving window that open to the oudside and wait\n",
      "follow the path mark by blue dot into the kitchen\n",
      "leave the indoor porch area, and go into the living room, make a right when you get behind the couch, and go straight back to the kitchen, make a left at the end of the kitchen, and wait in the doorway of the kitchenette\n",
      "\n"
     ]
    }
   ],
   "source": [
    "for pid in tr_list:\n",
    "    print(pid)\n",
    "    for ep in data:\n",
    "        if ep[\"path_id\"]==pid:\n",
    "            for z in ast.literal_eval(ep[\"new_instructions\"]):\n",
    "                # print(ep)\n",
    "                print(\", \".join([\" \".join(v) for v in z]))\n",
    "            print()"
   ]
  },
  {
   "cell_type": "code",
   "execution_count": 76,
   "metadata": {},
   "outputs": [
    {
     "name": "stdout",
     "output_type": "stream",
     "text": [
      "4\n"
     ]
    }
   ],
   "source": [
    "for ep in data:\n",
    "    if ep[\"path_id\"] == 801:\n",
    "        print(len(ep[\"instructions\"]))"
   ]
  },
  {
   "cell_type": "code",
   "execution_count": 70,
   "metadata": {},
   "outputs": [
    {
     "data": {
      "text/plain": [
       "3"
      ]
     },
     "execution_count": 70,
     "metadata": {},
     "output_type": "execute_result"
    }
   ],
   "source": [
    "len(ast.literal_eval(ep[\"new_instructions\"]))"
   ]
  },
  {
   "cell_type": "code",
   "execution_count": 17,
   "metadata": {},
   "outputs": [
    {
     "name": "stdout",
     "output_type": "stream",
     "text": [
      "{'episode_id': 9326, 'trajectory_id': 6250, 'scene_id': 'mp3d/VLzqgDo317F/VLzqgDo317F.glb', 'start_position': [2.2407100200653076, 3.2046029567718506, 5.2129998207092285], 'start_rotation': [0, -0.8199873858364342, 0, -0.5723815921822878], 'info': {'geodesic_distance': 9.14873218536377}, 'goals': [{'position': [-0.018407700583338737, 0.6382741928100586, 0.40815499424934387], 'radius': 3.0}], 'instruction': {'instruction_text': 'Walk down one flight of stairs and stop on the landing. ', 'instruction_tokens': [2384, 717, 1483, 881, 1472, 2058, 103, 2104, 1480, 2202, 1222, 9, 0, 0, 0, 0, 0, 0, 0, 0, 0, 0, 0, 0, 0, 0, 0, 0, 0, 0, 0, 0, 0, 0, 0, 0, 0, 0, 0, 0, 0, 0, 0, 0, 0, 0, 0, 0, 0, 0, 0, 0, 0, 0, 0, 0, 0, 0, 0, 0, 0, 0, 0, 0, 0, 0, 0, 0, 0, 0, 0, 0, 0, 0, 0, 0, 0, 0, 0, 0, 0, 0, 0, 0, 0, 0, 0, 0, 0, 0, 0, 0, 0, 0, 0, 0, 0, 0, 0, 0, 0, 0, 0, 0, 0, 0, 0, 0, 0, 0, 0, 0, 0, 0, 0, 0, 0, 0, 0, 0, 0, 0, 0, 0, 0, 0, 0, 0, 0, 0, 0, 0, 0, 0, 0, 0, 0, 0, 0, 0, 0, 0, 0, 0, 0, 0, 0, 0, 0, 0, 0, 0, 0, 0, 0, 0, 0, 0, 0, 0, 0, 0, 0, 0, 0, 0, 0, 0, 0, 0, 0, 0, 0, 0, 0, 0, 0, 0, 0, 0, 0, 0, 0, 0, 0, 0, 0, 0, 0, 0, 0, 0, 0, 0, 0, 0, 0, 0, 0, 0]}, 'reference_path': [[2.2407100200653076, 3.2046029567718506, 5.2129998207092285], [2.366260051727295, 3.038273811340332, 7.764369964599609], [-0.18168599903583527, 2.83837628364563, 5.791790008544922], [-0.16341499984264374, 2.261923313140869, 3.9161500930786133], [-0.2344689965248108, 1.5457398891448975, 2.724679946899414], [-0.018407700583338737, 0.6382741928100586, 0.40815499424934387]]}\n",
      "{'episode_id': 9327, 'trajectory_id': 6250, 'scene_id': 'mp3d/VLzqgDo317F/VLzqgDo317F.glb', 'start_position': [2.2407100200653076, 3.2046029567718506, 5.2129998207092285], 'start_rotation': [0, -0.8199873858364342, 0, -0.5723815921822878], 'info': {'geodesic_distance': 9.14873218536377}, 'goals': [{'position': [-0.018407700583338737, 0.6382741928100586, 0.40815499424934387], 'radius': 3.0}], 'instruction': {'instruction_text': 'Walk between the columns and make a sharp turn right. Walk down the steps and stop on the landing. ', 'instruction_tokens': [2384, 264, 2202, 502, 103, 1330, 59, 1932, 2300, 1819, 9, 2384, 717, 2202, 2092, 103, 2104, 1480, 2202, 1222, 9, 0, 0, 0, 0, 0, 0, 0, 0, 0, 0, 0, 0, 0, 0, 0, 0, 0, 0, 0, 0, 0, 0, 0, 0, 0, 0, 0, 0, 0, 0, 0, 0, 0, 0, 0, 0, 0, 0, 0, 0, 0, 0, 0, 0, 0, 0, 0, 0, 0, 0, 0, 0, 0, 0, 0, 0, 0, 0, 0, 0, 0, 0, 0, 0, 0, 0, 0, 0, 0, 0, 0, 0, 0, 0, 0, 0, 0, 0, 0, 0, 0, 0, 0, 0, 0, 0, 0, 0, 0, 0, 0, 0, 0, 0, 0, 0, 0, 0, 0, 0, 0, 0, 0, 0, 0, 0, 0, 0, 0, 0, 0, 0, 0, 0, 0, 0, 0, 0, 0, 0, 0, 0, 0, 0, 0, 0, 0, 0, 0, 0, 0, 0, 0, 0, 0, 0, 0, 0, 0, 0, 0, 0, 0, 0, 0, 0, 0, 0, 0, 0, 0, 0, 0, 0, 0, 0, 0, 0, 0, 0, 0, 0, 0, 0, 0, 0, 0, 0, 0, 0, 0, 0, 0, 0, 0, 0, 0, 0, 0]}, 'reference_path': [[2.2407100200653076, 3.2046029567718506, 5.2129998207092285], [2.366260051727295, 3.038273811340332, 7.764369964599609], [-0.18168599903583527, 2.83837628364563, 5.791790008544922], [-0.16341499984264374, 2.261923313140869, 3.9161500930786133], [-0.2344689965248108, 1.5457398891448975, 2.724679946899414], [-0.018407700583338737, 0.6382741928100586, 0.40815499424934387]]}\n",
      "{'episode_id': 9328, 'trajectory_id': 6250, 'scene_id': 'mp3d/VLzqgDo317F/VLzqgDo317F.glb', 'start_position': [2.2407100200653076, 3.2046029567718506, 5.2129998207092285], 'start_rotation': [0, -0.8199873858364342, 0, -0.5723815921822878], 'info': {'geodesic_distance': 9.14873218536377}, 'goals': [{'position': [-0.018407700583338737, 0.6382741928100586, 0.40815499424934387], 'radius': 3.0}], 'instruction': {'instruction_text': 'walk forward then turn right at the stairs then go down the stairs. ', 'instruction_tokens': [2384, 915, 2207, 2300, 1819, 160, 2202, 2058, 2207, 982, 717, 2202, 2058, 9, 0, 0, 0, 0, 0, 0, 0, 0, 0, 0, 0, 0, 0, 0, 0, 0, 0, 0, 0, 0, 0, 0, 0, 0, 0, 0, 0, 0, 0, 0, 0, 0, 0, 0, 0, 0, 0, 0, 0, 0, 0, 0, 0, 0, 0, 0, 0, 0, 0, 0, 0, 0, 0, 0, 0, 0, 0, 0, 0, 0, 0, 0, 0, 0, 0, 0, 0, 0, 0, 0, 0, 0, 0, 0, 0, 0, 0, 0, 0, 0, 0, 0, 0, 0, 0, 0, 0, 0, 0, 0, 0, 0, 0, 0, 0, 0, 0, 0, 0, 0, 0, 0, 0, 0, 0, 0, 0, 0, 0, 0, 0, 0, 0, 0, 0, 0, 0, 0, 0, 0, 0, 0, 0, 0, 0, 0, 0, 0, 0, 0, 0, 0, 0, 0, 0, 0, 0, 0, 0, 0, 0, 0, 0, 0, 0, 0, 0, 0, 0, 0, 0, 0, 0, 0, 0, 0, 0, 0, 0, 0, 0, 0, 0, 0, 0, 0, 0, 0, 0, 0, 0, 0, 0, 0, 0, 0, 0, 0, 0, 0, 0, 0, 0, 0, 0, 0]}, 'reference_path': [[2.2407100200653076, 3.2046029567718506, 5.2129998207092285], [2.366260051727295, 3.038273811340332, 7.764369964599609], [-0.18168599903583527, 2.83837628364563, 5.791790008544922], [-0.16341499984264374, 2.261923313140869, 3.9161500930786133], [-0.2344689965248108, 1.5457398891448975, 2.724679946899414], [-0.018407700583338737, 0.6382741928100586, 0.40815499424934387]]}\n"
     ]
    }
   ],
   "source": [
    "for ep in sub_data[\"episodes\"]:\n",
    "    if ep[\"trajectory_id\"]==6250:\n",
    "        print(ep)"
   ]
  },
  {
   "cell_type": "code",
   "execution_count": 18,
   "metadata": {},
   "outputs": [],
   "source": [
    "with gzip.open(\"../data/datasets/R2R_VLNCE_BERT/train/train_gt.json.gz\") as f:\n",
    "    d = json.loads(f.read())"
   ]
  },
  {
   "cell_type": "code",
   "execution_count": 25,
   "metadata": {},
   "outputs": [],
   "source": [
    "a = d['1']"
   ]
  },
  {
   "cell_type": "code",
   "execution_count": 26,
   "metadata": {},
   "outputs": [
    {
     "data": {
      "text/plain": [
       "28"
      ]
     },
     "execution_count": 26,
     "metadata": {},
     "output_type": "execute_result"
    }
   ],
   "source": [
    "len(a[\"locations\"])"
   ]
  },
  {
   "cell_type": "code",
   "execution_count": 29,
   "metadata": {},
   "outputs": [
    {
     "data": {
      "text/plain": [
       "46"
      ]
     },
     "execution_count": 29,
     "metadata": {},
     "output_type": "execute_result"
    }
   ],
   "source": [
    "len(a[\"actions\"])"
   ]
  },
  {
   "cell_type": "code",
   "execution_count": 32,
   "metadata": {},
   "outputs": [
    {
     "data": {
      "text/plain": [
       "27"
      ]
     },
     "execution_count": 32,
     "metadata": {},
     "output_type": "execute_result"
    }
   ],
   "source": [
    "len([v for v in a[\"actions\"] if v==1])"
   ]
  },
  {
   "cell_type": "code",
   "execution_count": 33,
   "metadata": {},
   "outputs": [
    {
     "data": {
      "text/plain": [
       "[[-16.267200469970703, 0.1518409252166748, 0.7207760214805603],\n",
       " [-16.331520080566406, 0.1518409252166748, 0.9623602628707886],\n",
       " [-16.33112144470215, 0.1518409252166748, 1.2123600244522095],\n",
       " [-16.33072280883789, 0.1518409252166748, 1.4623597860336304],\n",
       " [-16.330324172973633, 0.1518409252166748, 1.7123595476150513],\n",
       " [-16.329925537109375, 0.1518409252166748, 1.9623593091964722],\n",
       " [-16.329526901245117, 0.1518409252166748, 2.2123589515686035],\n",
       " [-16.32912826538086, 0.1518409252166748, 2.4623587131500244],\n",
       " [-16.3287296295166, 0.1518409252166748, 2.7123584747314453],\n",
       " [-16.328330993652344, 0.1518409252166748, 2.962358236312866],\n",
       " [-16.327932357788086, 0.1518409252166748, 3.212357997894287],\n",
       " [-16.327533721923828, 0.1518409252166748, 3.462357759475708],\n",
       " [-16.32713508605957, 0.1518409252166748, 3.712357521057129],\n",
       " [-16.08555030822754, 0.1518409252166748, 3.7766776084899902],\n",
       " [-15.843966484069824, 0.1518409252166748, 3.8409976959228516],\n",
       " [-15.60238265991211, 0.1518409252166748, 3.905317783355713],\n",
       " [-15.360798835754395, 0.1518409252166748, 3.969637870788574],\n",
       " [-15.11921501159668, 0.1518409252166748, 4.0339579582214355],\n",
       " [-14.877631187438965, 0.1518409252166748, 4.098278045654297],\n",
       " [-14.63604736328125, 0.1518409252166748, 4.162598133087158],\n",
       " [-14.394463539123535, 0.1518409252166748, 4.2269182205200195],\n",
       " [-14.144463539123535, 0.1518409252166748, 4.22652006149292],\n",
       " [-13.894463539123535, 0.1518409252166748, 4.22612190246582],\n",
       " [-13.644463539123535, 0.1518409252166748, 4.225723743438721],\n",
       " [-13.394463539123535, 0.1518409252166748, 4.225325584411621],\n",
       " [-13.144463539123535, 0.1518409252166748, 4.2249274253845215],\n",
       " [-12.894463539123535, 0.1518409252166748, 4.224529266357422],\n",
       " [-12.644463539123535, 0.1518409252166748, 4.224131107330322]]"
      ]
     },
     "execution_count": 33,
     "metadata": {},
     "output_type": "execute_result"
    }
   ],
   "source": [
    "a[\"locations\"]"
   ]
  },
  {
   "cell_type": "code",
   "execution_count": null,
   "metadata": {},
   "outputs": [],
   "source": []
  }
 ],
 "metadata": {
  "kernelspec": {
   "display_name": "vlnce",
   "language": "python",
   "name": "python3"
  },
  "language_info": {
   "codemirror_mode": {
    "name": "ipython",
    "version": 3
   },
   "file_extension": ".py",
   "mimetype": "text/x-python",
   "name": "python",
   "nbconvert_exporter": "python",
   "pygments_lexer": "ipython3",
   "version": "3.6.13"
  },
  "orig_nbformat": 4,
  "vscode": {
   "interpreter": {
    "hash": "0583f174f36e5377d441ecd90b407d872a37bfd605ae90f7ffbb206de3b72ff3"
   }
  }
 },
 "nbformat": 4,
 "nbformat_minor": 2
}
