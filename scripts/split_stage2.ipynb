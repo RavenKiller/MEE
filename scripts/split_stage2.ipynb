{
 "cells": [
  {
   "cell_type": "code",
   "execution_count": 3,
   "metadata": {},
   "outputs": [],
   "source": [
    "import h5py\n",
    "import numpy as np\n",
    "RGB_SIZE = 224\n",
    "DEPTH_SIZE = 256\n",
    "SUB_LEN = 12\n",
    "INST_LEN = 77\n",
    "DOWNSAMPLE = 3\n",
    "with h5py.File('/root/autodl-tmp/stage2/data.mat','r') as t:\n",
    "    t_rgb = h5py.File('/root/autodl-tmp/stage2/data_rgb.mat', 'w')\n",
    "    # target_rgb = t_rgb.create_dataset(\"rgb\", shape=(0, RGB_SIZE, RGB_SIZE, 3), maxshape=(None, RGB_SIZE, RGB_SIZE, 3), dtype=np.uint8)\n",
    "    t_depth = h5py.File('/root/autodl-tmp/stage2/data_depth.mat', 'w')\n",
    "    # target_depth = t_depth.create_dataset(\"depth\", shape=(0, DEPTH_SIZE, DEPTH_SIZE, 1), maxshape=(None, DEPTH_SIZE, DEPTH_SIZE, 1), dtype=float)\n",
    "    t_inst = h5py.File('/root/autodl-tmp/stage2/data_inst.mat', 'w')\n",
    "    # target_inst = t_inst.create_dataset(\"instructions\", shape=(0, INST_LEN), maxshape=(None, INST_LEN), dtype=np.int32)\n",
    "    t_sub = h5py.File('/root/autodl-tmp/stage2/data_sub.mat', 'w')\n",
    "    # target_sub = t_sub.create_dataset(\"sub_instructions\", shape=(0, SUB_LEN, INST_LEN), maxshape=(None, SUB_LEN, INST_LEN), dtype=np.int32)\n",
    "\n",
    "    t.copy(t[\"rgb\"], t_rgb)\n",
    "    t.copy(t[\"depth\"], t_depth)\n",
    "    t.copy(t[\"instructions\"], t_inst)\n",
    "    t.copy(t[\"sub_instructions\"], t_sub)"
   ]
  },
  {
   "cell_type": "code",
   "execution_count": null,
   "metadata": {},
   "outputs": [],
   "source": [
    "t_rgb.close()\n",
    "t_depth.close()\n",
    "t_inst.close()\n",
    "t_sub.close()"
   ]
  }
 ],
 "metadata": {
  "kernelspec": {
   "display_name": "base",
   "language": "python",
   "name": "python3"
  },
  "language_info": {
   "codemirror_mode": {
    "name": "ipython",
    "version": 3
   },
   "file_extension": ".py",
   "mimetype": "text/x-python",
   "name": "python",
   "nbconvert_exporter": "python",
   "pygments_lexer": "ipython3",
   "version": "3.8.17"
  },
  "orig_nbformat": 4
 },
 "nbformat": 4,
 "nbformat_minor": 2
}
